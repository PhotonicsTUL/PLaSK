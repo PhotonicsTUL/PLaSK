{
 "cells": [
  {
   "attachments": {},
   "cell_type": "markdown",
   "metadata": {},
   "source": [
    "## Wielomiany interpolujące"
   ]
  },
  {
   "cell_type": "code",
   "execution_count": 1,
   "metadata": {},
   "outputs": [],
   "source": [
    "import numpy as np\n",
    "import matplotlib.pyplot as plt\n",
    "\n",
    "import sympy as sym\n",
    "from sympy import latex\n",
    "from sympy.printing import cxxcode\n",
    "\n",
    "import re\n",
    "\n",
    "from IPython.display import display, Latex"
   ]
  },
  {
   "attachments": {},
   "cell_type": "markdown",
   "metadata": {},
   "source": [
    "Używamy wielomianów trzeciego rzędu, które pozwalają na zagwarantowanie ciągłości funkcji i pochodnych."
   ]
  },
  {
   "cell_type": "code",
   "execution_count": 2,
   "metadata": {},
   "outputs": [
    {
     "name": "stdout",
     "output_type": "stream",
     "text": [
      "φ(ξ) =  2ξ³-3ξ²+0ξ+1\n",
      "φ(ξ) =  1ξ³-2ξ²+1ξ+0\n",
      "φ(ξ) = -2ξ³+3ξ²+0ξ+0\n",
      "φ(ξ) =  1ξ³-1ξ²+0ξ+0\n"
     ]
    }
   ],
   "source": [
    "Φ = np.linalg.inv(np.array([\n",
    "    [1, 0, 0, 0],\n",
    "    [0, 1, 0, 0],\n",
    "    [1, 1, 1, 1],\n",
    "    [0, 1, 2, 3]\n",
    "])).T\n",
    "for a in Φ:\n",
    "    print(\"φ(ξ) = {:2g}ξ³{:+g}ξ²{:+g}ξ{:+g}\".format(*reversed(a)))"
   ]
  },
  {
   "cell_type": "code",
   "execution_count": 3,
   "metadata": {},
   "outputs": [
    {
     "data": {
      "image/png": "[encoded data removed]",
      "text/plain": [
       "<Figure size 432x288 with 1 Axes>"
      ]
     },
     "metadata": {},
     "output_type": "display_data"
    }
   ],
   "source": [
    "plt.axes(aspect='equal')\n",
    "x = np.linspace(0, 1, 1001)\n",
    "for p in Φ:\n",
    "    y = sum(c * x**i for i,c in enumerate(p))\n",
    "    plt.plot(x, y)\n",
    "plt.show()"
   ]
  },
  {
   "attachments": {},
   "cell_type": "markdown",
   "metadata": {},
   "source": [
    "# Równanie dyfuzji nośników\n",
    "\n",
    "Równanie do rozwiązania ma postać:\n",
    "$$\n",
    "D \\Delta u - A u - B u^2 - C u^3 + J = 0,\n",
    "$$\n",
    "gdzie\n",
    "$$\n",
    "J = \\frac{j_\\perp}{q_e\\,d},\n",
    "$$\n",
    "w którym $j_\\perp$ to wstrzykiwana gęstość prądu a $d$ to grubość złącza. Po zamianie na równanie linowe (korzystając z rozwinięcia w szereg Taylora) mamy:\n",
    "$$\n",
    "D \\Delta u - E u + F = 0,\n",
    "$$\n",
    "gdzie\n",
    "\\begin{align}\n",
    "E & = A + 2 B u_0 + 3 C u_0^2 \\\\\n",
    "F & = B u_0^2 + 2 C u_0^3 + J_0\n",
    "\\end{align}"
   ]
  },
  {
   "cell_type": "code",
   "execution_count": 4,
   "metadata": {},
   "outputs": [],
   "source": [
    "A, B, C, D, L = sym.symbols('A B C D L')"
   ]
  },
  {
   "attachments": {},
   "cell_type": "markdown",
   "metadata": {},
   "source": [
    "Zastosujmy metodę Ritza w we współrzędnych kartezjańskich i biegunowych."
   ]
  },
  {
   "cell_type": "code",
   "execution_count": 5,
   "metadata": {},
   "outputs": [],
   "source": [
    "x, r, R = sym.symbols('x r R')\n",
    "\n",
    "ξ = x / L\n",
    "\n",
    "r1 = R\n",
    "r2 = R + L\n",
    "ξr = (r - r1) / L"
   ]
  },
  {
   "attachments": {},
   "cell_type": "markdown",
   "metadata": {},
   "source": [
    "Funkcje próbne mają postać:"
   ]
  },
  {
   "cell_type": "code",
   "execution_count": 6,
   "metadata": {},
   "outputs": [],
   "source": [
    "φ = [sum(int(c) * ξ**i for i,c in enumerate(p)) for p in Φ]\n",
    "φ[1] *= L\n",
    "φ[3] *= L\n",
    "φ = np.array([sym.expand(a) for a in φ])\n",
    "dφ = np.array([sym.expand(sym.diff(a, x)) for a in φ])"
   ]
  },
  {
   "cell_type": "code",
   "execution_count": 7,
   "metadata": {},
   "outputs": [
    {
     "data": {
      "text/latex": [
       "\\begin{align}\n",
       "\\varphi_0(x) & = 1 - \\frac{3 x^{2}}{L^{2}} + \\frac{2 x^{3}}{L^{3}} \\\\\n",
       "\\varphi_1(x) & = x - \\frac{2 x^{2}}{L} + \\frac{x^{3}}{L^{2}} \\\\\n",
       "\\varphi_2(x) & = \\frac{3 x^{2}}{L^{2}} - \\frac{2 x^{3}}{L^{3}} \\\\\n",
       "\\varphi_3(x) & = - \\frac{x^{2}}{L} + \\frac{x^{3}}{L^{2}}\n",
       "\\end{align}\n"
      ],
      "text/plain": [
       "<IPython.core.display.Latex object>"
      ]
     },
     "metadata": {},
     "output_type": "display_data"
    }
   ],
   "source": [
    "display(Latex(\"\\\\begin{align}\\n\" +\n",
    "    ' \\\\\\\\\\n'.join(f'\\\\varphi_{i}(x) & = {latex(p)}' for i,p in enumerate(φ))\n",
    "    + \"\\n\\\\end{align}\\n\"))\n"
   ]
  },
  {
   "attachments": {},
   "cell_type": "markdown",
   "metadata": {},
   "source": [
    "A ich pochodne:"
   ]
  },
  {
   "cell_type": "code",
   "execution_count": 8,
   "metadata": {},
   "outputs": [
    {
     "data": {
      "text/latex": [
       "\\begin{align}\n",
       "\\frac{d\\varphi_0}{dx} & = - \\frac{6 x}{L^{2}} + \\frac{6 x^{2}}{L^{3}} \\\\\n",
       "\\frac{d\\varphi_1}{dx} & = 1 - \\frac{4 x}{L} + \\frac{3 x^{2}}{L^{2}} \\\\\n",
       "\\frac{d\\varphi_2}{dx} & = \\frac{6 x}{L^{2}} - \\frac{6 x^{2}}{L^{3}} \\\\\n",
       "\\frac{d\\varphi_3}{dx} & = - \\frac{2 x}{L} + \\frac{3 x^{2}}{L^{2}}\n",
       "\\end{align}\n"
      ],
      "text/plain": [
       "<IPython.core.display.Latex object>"
      ]
     },
     "metadata": {},
     "output_type": "display_data"
    }
   ],
   "source": [
    "display(Latex(\"\\\\begin{align}\\n\" +\n",
    "    ' \\\\\\\\\\n'.join(f'\\\\frac{{d\\\\varphi_{i}}}{{dx}} & = {latex(p)}' for i,p in enumerate(dφ))\n",
    "    + \"\\n\\\\end{align}\\n\"))\n"
   ]
  },
  {
   "attachments": {},
   "cell_type": "markdown",
   "metadata": {},
   "source": [
    "## Funkcja przybliżana"
   ]
  },
  {
   "attachments": {},
   "cell_type": "markdown",
   "metadata": {},
   "source": [
    "Zakładamy, że\n",
    "$$\n",
    "u(\\xi) = \\sum_i u^i \\, \\varphi_i(\\xi) \\qquad u_0(\\xi) = \\sum_i U^i \\,\\varphi_i(\\xi)\n",
    "$$\n",
    "gdzie\n",
    "\\begin{align}\n",
    "u^0, u^1, u^2, u^3 & = u(0), \\left.\\tfrac{du}{dx}\\right|_0, u(L), \\left.\\tfrac{du}{dx}\\right|_L \\\\\n",
    "U^0, U^1, U^2, U^3 & = u_0(0), \\left.\\tfrac{du_0}{dx}\\right|_0, u_0(L), \\left.\\tfrac{du_0}{dx}\\right|_L\n",
    "\\end{align}"
   ]
  },
  {
   "cell_type": "code",
   "execution_count": 9,
   "metadata": {},
   "outputs": [
    {
     "data": {
      "text/latex": [
       "$\\displaystyle \\left(\\frac{3 x^{2}}{L^{2}} - \\frac{2 x^{3}}{L^{3}}\\right) {U}_{2} + \\left(- \\frac{x^{2}}{L} + \\frac{x^{3}}{L^{2}}\\right) {U}_{3} + \\left(1 - \\frac{3 x^{2}}{L^{2}} + \\frac{2 x^{3}}{L^{3}}\\right) {U}_{0} + \\left(x - \\frac{2 x^{2}}{L} + \\frac{x^{3}}{L^{2}}\\right) {U}_{1}$"
      ],
      "text/plain": [
       "(3*x**2/L**2 - 2*x**3/L**3)*U[2] + (-x**2/L + x**3/L**2)*U[3] + (1 - 3*x**2/L**2 + 2*x**3/L**3)*U[0] + (x - 2*x**2/L + x**3/L**2)*U[1]"
      ]
     },
     "execution_count": 9,
     "metadata": {},
     "output_type": "execute_result"
    }
   ],
   "source": [
    "_u0 = sym.IndexedBase('U', shape=(4,))\n",
    "u0 = sum(_u0[k] * φ[k] for k in range(4))\n",
    "u0"
   ]
  },
  {
   "attachments": {},
   "cell_type": "markdown",
   "metadata": {},
   "source": [
    "## Interpolacja prądu"
   ]
  },
  {
   "attachments": {},
   "cell_type": "markdown",
   "metadata": {},
   "source": [
    "Aby dobrze odzdwierciedlić rozpływ prądu, zakładamy, że na elemencie zmienia się on co najwużj liniowo"
   ]
  },
  {
   "cell_type": "code",
   "execution_count": 10,
   "metadata": {},
   "outputs": [
    {
     "data": {
      "text/latex": [
       "$\\displaystyle \\left[\\begin{matrix}0 & L\\end{matrix}\\right]$"
      ],
      "text/plain": [
       "[0, L]"
      ]
     },
     "execution_count": 10,
     "metadata": {},
     "output_type": "execute_result"
    }
   ],
   "source": [
    "z = np.array([0, L])\n",
    "sym.Array(z)"
   ]
  },
  {
   "attachments": {},
   "cell_type": "markdown",
   "metadata": {},
   "source": [
    "a we współrzędnych biegunowych"
   ]
  },
  {
   "cell_type": "code",
   "execution_count": 11,
   "metadata": {},
   "outputs": [
    {
     "data": {
      "text/latex": [
       "$\\displaystyle \\left[\\begin{matrix}R & L + R\\end{matrix}\\right]$"
      ],
      "text/plain": [
       "[R, L + R]"
      ]
     },
     "execution_count": 11,
     "metadata": {},
     "output_type": "execute_result"
    }
   ],
   "source": [
    "zr = z + r1\n",
    "sym.Array(zr)"
   ]
  },
  {
   "attachments": {},
   "cell_type": "markdown",
   "metadata": {},
   "source": [
    "Teraz zakładmy, że w tych punktach mamy wartości funkcji $J$. Budujemy wielomiany interpolacyjne."
   ]
  },
  {
   "cell_type": "code",
   "execution_count": 12,
   "metadata": {},
   "outputs": [],
   "source": [
    "J = sym.IndexedBase('J', shape=(2,))\n",
    "\n",
    "def La(i, x, z):\n",
    "    res = 1\n",
    "    for j in range(len(z)):\n",
    "        if j == i: continue\n",
    "        res *= (x - z[j]) / (z[i] - z[j])\n",
    "    return res"
   ]
  },
  {
   "cell_type": "code",
   "execution_count": 13,
   "metadata": {},
   "outputs": [
    {
     "data": {
      "text/latex": [
       "$\\displaystyle \\frac{x {J}_{1} + \\left(L - x\\right) {J}_{0}}{L}$"
      ],
      "text/plain": [
       "(x*J[1] + (L - x)*J[0])/L"
      ]
     },
     "execution_count": 13,
     "metadata": {},
     "output_type": "execute_result"
    }
   ],
   "source": [
    "Jx = sym.simplify(sum(J[i] * La(i, x, z) for i in range(len(z))))\n",
    "Jx"
   ]
  },
  {
   "cell_type": "code",
   "execution_count": 14,
   "metadata": {},
   "outputs": [
    {
     "data": {
      "text/latex": [
       "$\\displaystyle \\frac{- \\left(R - r\\right) {J}_{1} + \\left(L + R - r\\right) {J}_{0}}{L}$"
      ],
      "text/plain": [
       "(-(R - r)*J[1] + (L + R - r)*J[0])/L"
      ]
     },
     "execution_count": 14,
     "metadata": {},
     "output_type": "execute_result"
    }
   ],
   "source": [
    "Jr = sym.simplify(sum(J[i] * La(i, r, zr) for i in range(len(zr))))\n",
    "Jr"
   ]
  },
  {
   "attachments": {},
   "cell_type": "markdown",
   "metadata": {},
   "source": [
    "# Macierze sztywności i wektor obciążeń"
   ]
  },
  {
   "cell_type": "code",
   "execution_count": 15,
   "metadata": {},
   "outputs": [],
   "source": [
    "ii, jj  = np.meshgrid(range(4), range(4))\n",
    "i_ = np.arange(4)"
   ]
  },
  {
   "attachments": {},
   "cell_type": "markdown",
   "metadata": {},
   "source": [
    "## Kartezjańsko\n",
    "\n",
    "\n",
    "Macierz sztywności budujemy z równania\n",
    "$$\n",
    "\\left( - D \\frac{d^2}{dx^2} + A + 2 B u_0 + 3 C u_0^2 \\right) u = B u_0^2 + 2 C u_0^3 + J_0.\n",
    "$$\n",
    "Pamiętając, że\n",
    "$$\n",
    "u(\\xi) = \\sum_i u^i \\, \\varphi_i(x)\n",
    "$$\n",
    "i stosując metodę Ritza mamy\n",
    "$$\n",
    "\\sum_j \\int_0^L \\left[ D \\frac{d\\varphi_i}{dx} \\frac{d\\varphi_j}{dx} + \\left( A + 2 B u_0 + 3 C u_0^2 \\right) \\varphi_i \\varphi_j \\right] u^j = \\left( B u_0^2 + 2 C u_0^3 + J_0 \\right) \\varphi_i.\n",
    "$$\n",
    "\n",
    "Do tego, stosując\n",
    "$$\n",
    "u_0(\\xi) = \\sum_i a^i \\,\\varphi_i(x)\n",
    "$$\n",
    "Mamy"
   ]
  },
  {
   "cell_type": "code",
   "execution_count": 16,
   "metadata": {},
   "outputs": [
    {
     "data": {
      "text/latex": [
       "$\\displaystyle \\left[\\begin{matrix}\\frac{13 A L}{35} + \\frac{B L \\left(97 L {U}_{1} - 43 L {U}_{3} + 774 {U}_{0} + 162 {U}_{2}\\right)}{1260} + \\frac{C L \\left(840 L^{2} {U}_{1}^{2} - 777 L^{2} {U}_{1} {U}_{3} + 268 L^{2} {U}_{3}^{2} + 11004 L {U}_{0} {U}_{1} - 4011 L {U}_{0} {U}_{3} + 2867 L {U}_{1} {U}_{2} - 2138 L {U}_{2} {U}_{3} + 48132 {U}_{0}^{2} + 14418 {U}_{0} {U}_{2} + 4374 {U}_{2}^{2}\\right)}{60060} + \\frac{6 D}{5 L} & \\frac{11 A L^{2}}{210} + \\frac{B L^{2} \\left(16 L {U}_{1} - 9 L {U}_{3} + 97 {U}_{0} + 35 {U}_{2}\\right)}{1260} + \\frac{C L^{2} \\left(294 L^{2} {U}_{1}^{2} - 322 L^{2} {U}_{1} {U}_{3} + 125 L^{2} {U}_{3}^{2} + 3360 L {U}_{0} {U}_{1} - 1554 L {U}_{0} {U}_{3} + 1216 L {U}_{1} {U}_{2} - 1020 L {U}_{2} {U}_{3} + 11004 {U}_{0}^{2} + 5734 {U}_{0} {U}_{2} + 2138 {U}_{2}^{2}\\right)}{120120} + \\frac{D}{10} & \\frac{9 A L}{70} + \\frac{B L \\left(35 L {U}_{1} - 35 L {U}_{3} + 162 {U}_{0} + 162 {U}_{2}\\right)}{1260} + \\frac{C L \\left(304 L^{2} {U}_{1}^{2} - 510 L^{2} {U}_{1} {U}_{3} + 304 L^{2} {U}_{3}^{2} + 2867 L {U}_{0} {U}_{1} - 2138 L {U}_{0} {U}_{3} + 2138 L {U}_{1} {U}_{2} - 2867 L {U}_{2} {U}_{3} + 7209 {U}_{0}^{2} + 8748 {U}_{0} {U}_{2} + 7209 {U}_{2}^{2}\\right)}{60060} - \\frac{6 D}{5 L} & - \\frac{13 A L^{2}}{420} + \\frac{B L^{2} \\left(- 9 L {U}_{1} + 8 L {U}_{3} - 43 {U}_{0} - 35 {U}_{2}\\right)}{1260} + \\frac{C L^{2} \\left(- 161 L^{2} {U}_{1}^{2} + 250 L^{2} {U}_{1} {U}_{3} - 135 L^{2} {U}_{3}^{2} - 1554 L {U}_{0} {U}_{1} + 1072 L {U}_{0} {U}_{3} - 1020 L {U}_{1} {U}_{2} + 1216 L {U}_{2} {U}_{3} - 4011 {U}_{0}^{2} - 4276 {U}_{0} {U}_{2} - 2867 {U}_{2}^{2}\\right)}{120120} + \\frac{D}{10}\\\\\\frac{11 A L^{2}}{210} + \\frac{B L^{2} \\left(16 L {U}_{1} - 9 L {U}_{3} + 97 {U}_{0} + 35 {U}_{2}\\right)}{1260} + \\frac{C L^{2} \\left(294 L^{2} {U}_{1}^{2} - 322 L^{2} {U}_{1} {U}_{3} + 125 L^{2} {U}_{3}^{2} + 3360 L {U}_{0} {U}_{1} - 1554 L {U}_{0} {U}_{3} + 1216 L {U}_{1} {U}_{2} - 1020 L {U}_{2} {U}_{3} + 11004 {U}_{0}^{2} + 5734 {U}_{0} {U}_{2} + 2138 {U}_{2}^{2}\\right)}{120120} + \\frac{D}{10} & \\frac{A L^{3}}{105} + \\frac{B L^{3} \\left(3 L {U}_{1} - 2 L {U}_{3} + 16 {U}_{0} + 8 {U}_{2}\\right)}{1260} + \\frac{C L^{3} \\left(28 L^{2} {U}_{1}^{2} - 35 L^{2} {U}_{1} {U}_{3} + 15 L^{2} {U}_{3}^{2} + 294 L {U}_{0} {U}_{1} - 161 L {U}_{0} {U}_{3} + 135 L {U}_{1} {U}_{2} - 125 L {U}_{2} {U}_{3} + 840 {U}_{0}^{2} + 608 {U}_{0} {U}_{2} + 268 {U}_{2}^{2}\\right)}{60060} + \\frac{2 D L}{15} & \\frac{13 A L^{2}}{420} + \\frac{B L^{2} \\left(8 L {U}_{1} - 9 L {U}_{3} + 35 {U}_{0} + 43 {U}_{2}\\right)}{1260} + \\frac{C L^{2} \\left(135 L^{2} {U}_{1}^{2} - 250 L^{2} {U}_{1} {U}_{3} + 161 L^{2} {U}_{3}^{2} + 1216 L {U}_{0} {U}_{1} - 1020 L {U}_{0} {U}_{3} + 1072 L {U}_{1} {U}_{2} - 1554 L {U}_{2} {U}_{3} + 2867 {U}_{0}^{2} + 4276 {U}_{0} {U}_{2} + 4011 {U}_{2}^{2}\\right)}{120120} - \\frac{D}{10} & - \\frac{A L^{3}}{140} + \\frac{B L^{3} \\left(- 2 L {U}_{1} + 2 L {U}_{3} - 9 {U}_{0} - 9 {U}_{2}\\right)}{1260} + \\frac{C L^{3} \\left(- 35 L^{2} {U}_{1}^{2} + 60 L^{2} {U}_{1} {U}_{3} - 35 L^{2} {U}_{3}^{2} - 322 L {U}_{0} {U}_{1} + 250 L {U}_{0} {U}_{3} - 250 L {U}_{1} {U}_{2} + 322 L {U}_{2} {U}_{3} - 777 {U}_{0}^{2} - 1020 {U}_{0} {U}_{2} - 777 {U}_{2}^{2}\\right)}{120120} - \\frac{D L}{30}\\\\\\frac{9 A L}{70} + \\frac{B L \\left(35 L {U}_{1} - 35 L {U}_{3} + 162 {U}_{0} + 162 {U}_{2}\\right)}{1260} + \\frac{C L \\left(304 L^{2} {U}_{1}^{2} - 510 L^{2} {U}_{1} {U}_{3} + 304 L^{2} {U}_{3}^{2} + 2867 L {U}_{0} {U}_{1} - 2138 L {U}_{0} {U}_{3} + 2138 L {U}_{1} {U}_{2} - 2867 L {U}_{2} {U}_{3} + 7209 {U}_{0}^{2} + 8748 {U}_{0} {U}_{2} + 7209 {U}_{2}^{2}\\right)}{60060} - \\frac{6 D}{5 L} & \\frac{13 A L^{2}}{420} + \\frac{B L^{2} \\left(8 L {U}_{1} - 9 L {U}_{3} + 35 {U}_{0} + 43 {U}_{2}\\right)}{1260} + \\frac{C L^{2} \\left(135 L^{2} {U}_{1}^{2} - 250 L^{2} {U}_{1} {U}_{3} + 161 L^{2} {U}_{3}^{2} + 1216 L {U}_{0} {U}_{1} - 1020 L {U}_{0} {U}_{3} + 1072 L {U}_{1} {U}_{2} - 1554 L {U}_{2} {U}_{3} + 2867 {U}_{0}^{2} + 4276 {U}_{0} {U}_{2} + 4011 {U}_{2}^{2}\\right)}{120120} - \\frac{D}{10} & \\frac{13 A L}{35} + \\frac{B L \\left(43 L {U}_{1} - 97 L {U}_{3} + 162 {U}_{0} + 774 {U}_{2}\\right)}{1260} + \\frac{C L \\left(268 L^{2} {U}_{1}^{2} - 777 L^{2} {U}_{1} {U}_{3} + 840 L^{2} {U}_{3}^{2} + 2138 L {U}_{0} {U}_{1} - 2867 L {U}_{0} {U}_{3} + 4011 L {U}_{1} {U}_{2} - 11004 L {U}_{2} {U}_{3} + 4374 {U}_{0}^{2} + 14418 {U}_{0} {U}_{2} + 48132 {U}_{2}^{2}\\right)}{60060} + \\frac{6 D}{5 L} & - \\frac{11 A L^{2}}{210} + \\frac{B L^{2} \\left(- 9 L {U}_{1} + 16 L {U}_{3} - 35 {U}_{0} - 97 {U}_{2}\\right)}{1260} + \\frac{C L^{2} \\left(- 125 L^{2} {U}_{1}^{2} + 322 L^{2} {U}_{1} {U}_{3} - 294 L^{2} {U}_{3}^{2} - 1020 L {U}_{0} {U}_{1} + 1216 L {U}_{0} {U}_{3} - 1554 L {U}_{1} {U}_{2} + 3360 L {U}_{2} {U}_{3} - 2138 {U}_{0}^{2} - 5734 {U}_{0} {U}_{2} - 11004 {U}_{2}^{2}\\right)}{120120} - \\frac{D}{10}\\\\- \\frac{13 A L^{2}}{420} + \\frac{B L^{2} \\left(- 9 L {U}_{1} + 8 L {U}_{3} - 43 {U}_{0} - 35 {U}_{2}\\right)}{1260} + \\frac{C L^{2} \\left(- 161 L^{2} {U}_{1}^{2} + 250 L^{2} {U}_{1} {U}_{3} - 135 L^{2} {U}_{3}^{2} - 1554 L {U}_{0} {U}_{1} + 1072 L {U}_{0} {U}_{3} - 1020 L {U}_{1} {U}_{2} + 1216 L {U}_{2} {U}_{3} - 4011 {U}_{0}^{2} - 4276 {U}_{0} {U}_{2} - 2867 {U}_{2}^{2}\\right)}{120120} + \\frac{D}{10} & - \\frac{A L^{3}}{140} + \\frac{B L^{3} \\left(- 2 L {U}_{1} + 2 L {U}_{3} - 9 {U}_{0} - 9 {U}_{2}\\right)}{1260} + \\frac{C L^{3} \\left(- 35 L^{2} {U}_{1}^{2} + 60 L^{2} {U}_{1} {U}_{3} - 35 L^{2} {U}_{3}^{2} - 322 L {U}_{0} {U}_{1} + 250 L {U}_{0} {U}_{3} - 250 L {U}_{1} {U}_{2} + 322 L {U}_{2} {U}_{3} - 777 {U}_{0}^{2} - 1020 {U}_{0} {U}_{2} - 777 {U}_{2}^{2}\\right)}{120120} - \\frac{D L}{30} & - \\frac{11 A L^{2}}{210} + \\frac{B L^{2} \\left(- 9 L {U}_{1} + 16 L {U}_{3} - 35 {U}_{0} - 97 {U}_{2}\\right)}{1260} + \\frac{C L^{2} \\left(- 125 L^{2} {U}_{1}^{2} + 322 L^{2} {U}_{1} {U}_{3} - 294 L^{2} {U}_{3}^{2} - 1020 L {U}_{0} {U}_{1} + 1216 L {U}_{0} {U}_{3} - 1554 L {U}_{1} {U}_{2} + 3360 L {U}_{2} {U}_{3} - 2138 {U}_{0}^{2} - 5734 {U}_{0} {U}_{2} - 11004 {U}_{2}^{2}\\right)}{120120} - \\frac{D}{10} & \\frac{A L^{3}}{105} + \\frac{B L^{3} \\left(2 L {U}_{1} - 3 L {U}_{3} + 8 {U}_{0} + 16 {U}_{2}\\right)}{1260} + \\frac{C L^{3} \\left(15 L^{2} {U}_{1}^{2} - 35 L^{2} {U}_{1} {U}_{3} + 28 L^{2} {U}_{3}^{2} + 125 L {U}_{0} {U}_{1} - 135 L {U}_{0} {U}_{3} + 161 L {U}_{1} {U}_{2} - 294 L {U}_{2} {U}_{3} + 268 {U}_{0}^{2} + 608 {U}_{0} {U}_{2} + 840 {U}_{2}^{2}\\right)}{60060} + \\frac{2 D L}{15}\\end{matrix}\\right]$"
      ],
      "text/plain": [
       "Matrix([\n",
       "[  13*A*L/35 + B*L*(97*L*U[1] - 43*L*U[3] + 774*U[0] + 162*U[2])/1260 + C*L*(840*L**2*U[1]**2 - 777*L**2*U[1]*U[3] + 268*L**2*U[3]**2 + 11004*L*U[0]*U[1] - 4011*L*U[0]*U[3] + 2867*L*U[1]*U[2] - 2138*L*U[2]*U[3] + 48132*U[0]**2 + 14418*U[0]*U[2] + 4374*U[2]**2)/60060 + 6*D/(5*L), 11*A*L**2/210 + B*L**2*(16*L*U[1] - 9*L*U[3] + 97*U[0] + 35*U[2])/1260 + C*L**2*(294*L**2*U[1]**2 - 322*L**2*U[1]*U[3] + 125*L**2*U[3]**2 + 3360*L*U[0]*U[1] - 1554*L*U[0]*U[3] + 1216*L*U[1]*U[2] - 1020*L*U[2]*U[3] + 11004*U[0]**2 + 5734*U[0]*U[2] + 2138*U[2]**2)/120120 + D/10,         9*A*L/70 + B*L*(35*L*U[1] - 35*L*U[3] + 162*U[0] + 162*U[2])/1260 + C*L*(304*L**2*U[1]**2 - 510*L**2*U[1]*U[3] + 304*L**2*U[3]**2 + 2867*L*U[0]*U[1] - 2138*L*U[0]*U[3] + 2138*L*U[1]*U[2] - 2867*L*U[2]*U[3] + 7209*U[0]**2 + 8748*U[0]*U[2] + 7209*U[2]**2)/60060 - 6*D/(5*L),   -13*A*L**2/420 + B*L**2*(-9*L*U[1] + 8*L*U[3] - 43*U[0] - 35*U[2])/1260 + C*L**2*(-161*L**2*U[1]**2 + 250*L**2*U[1]*U[3] - 135*L**2*U[3]**2 - 1554*L*U[0]*U[1] + 1072*L*U[0]*U[3] - 1020*L*U[1]*U[2] + 1216*L*U[2]*U[3] - 4011*U[0]**2 - 4276*U[0]*U[2] - 2867*U[2]**2)/120120 + D/10],\n",
       "[ 11*A*L**2/210 + B*L**2*(16*L*U[1] - 9*L*U[3] + 97*U[0] + 35*U[2])/1260 + C*L**2*(294*L**2*U[1]**2 - 322*L**2*U[1]*U[3] + 125*L**2*U[3]**2 + 3360*L*U[0]*U[1] - 1554*L*U[0]*U[3] + 1216*L*U[1]*U[2] - 1020*L*U[2]*U[3] + 11004*U[0]**2 + 5734*U[0]*U[2] + 2138*U[2]**2)/120120 + D/10,              A*L**3/105 + B*L**3*(3*L*U[1] - 2*L*U[3] + 16*U[0] + 8*U[2])/1260 + C*L**3*(28*L**2*U[1]**2 - 35*L**2*U[1]*U[3] + 15*L**2*U[3]**2 + 294*L*U[0]*U[1] - 161*L*U[0]*U[3] + 135*L*U[1]*U[2] - 125*L*U[2]*U[3] + 840*U[0]**2 + 608*U[0]*U[2] + 268*U[2]**2)/60060 + 2*D*L/15,      13*A*L**2/420 + B*L**2*(8*L*U[1] - 9*L*U[3] + 35*U[0] + 43*U[2])/1260 + C*L**2*(135*L**2*U[1]**2 - 250*L**2*U[1]*U[3] + 161*L**2*U[3]**2 + 1216*L*U[0]*U[1] - 1020*L*U[0]*U[3] + 1072*L*U[1]*U[2] - 1554*L*U[2]*U[3] + 2867*U[0]**2 + 4276*U[0]*U[2] + 4011*U[2]**2)/120120 - D/10,               -A*L**3/140 + B*L**3*(-2*L*U[1] + 2*L*U[3] - 9*U[0] - 9*U[2])/1260 + C*L**3*(-35*L**2*U[1]**2 + 60*L**2*U[1]*U[3] - 35*L**2*U[3]**2 - 322*L*U[0]*U[1] + 250*L*U[0]*U[3] - 250*L*U[1]*U[2] + 322*L*U[2]*U[3] - 777*U[0]**2 - 1020*U[0]*U[2] - 777*U[2]**2)/120120 - D*L/30],\n",
       "[      9*A*L/70 + B*L*(35*L*U[1] - 35*L*U[3] + 162*U[0] + 162*U[2])/1260 + C*L*(304*L**2*U[1]**2 - 510*L**2*U[1]*U[3] + 304*L**2*U[3]**2 + 2867*L*U[0]*U[1] - 2138*L*U[0]*U[3] + 2138*L*U[1]*U[2] - 2867*L*U[2]*U[3] + 7209*U[0]**2 + 8748*U[0]*U[2] + 7209*U[2]**2)/60060 - 6*D/(5*L),   13*A*L**2/420 + B*L**2*(8*L*U[1] - 9*L*U[3] + 35*U[0] + 43*U[2])/1260 + C*L**2*(135*L**2*U[1]**2 - 250*L**2*U[1]*U[3] + 161*L**2*U[3]**2 + 1216*L*U[0]*U[1] - 1020*L*U[0]*U[3] + 1072*L*U[1]*U[2] - 1554*L*U[2]*U[3] + 2867*U[0]**2 + 4276*U[0]*U[2] + 4011*U[2]**2)/120120 - D/10,     13*A*L/35 + B*L*(43*L*U[1] - 97*L*U[3] + 162*U[0] + 774*U[2])/1260 + C*L*(268*L**2*U[1]**2 - 777*L**2*U[1]*U[3] + 840*L**2*U[3]**2 + 2138*L*U[0]*U[1] - 2867*L*U[0]*U[3] + 4011*L*U[1]*U[2] - 11004*L*U[2]*U[3] + 4374*U[0]**2 + 14418*U[0]*U[2] + 48132*U[2]**2)/60060 + 6*D/(5*L), -11*A*L**2/210 + B*L**2*(-9*L*U[1] + 16*L*U[3] - 35*U[0] - 97*U[2])/1260 + C*L**2*(-125*L**2*U[1]**2 + 322*L**2*U[1]*U[3] - 294*L**2*U[3]**2 - 1020*L*U[0]*U[1] + 1216*L*U[0]*U[3] - 1554*L*U[1]*U[2] + 3360*L*U[2]*U[3] - 2138*U[0]**2 - 5734*U[0]*U[2] - 11004*U[2]**2)/120120 - D/10],\n",
       "[-13*A*L**2/420 + B*L**2*(-9*L*U[1] + 8*L*U[3] - 43*U[0] - 35*U[2])/1260 + C*L**2*(-161*L**2*U[1]**2 + 250*L**2*U[1]*U[3] - 135*L**2*U[3]**2 - 1554*L*U[0]*U[1] + 1072*L*U[0]*U[3] - 1020*L*U[1]*U[2] + 1216*L*U[2]*U[3] - 4011*U[0]**2 - 4276*U[0]*U[2] - 2867*U[2]**2)/120120 + D/10,            -A*L**3/140 + B*L**3*(-2*L*U[1] + 2*L*U[3] - 9*U[0] - 9*U[2])/1260 + C*L**3*(-35*L**2*U[1]**2 + 60*L**2*U[1]*U[3] - 35*L**2*U[3]**2 - 322*L*U[0]*U[1] + 250*L*U[0]*U[3] - 250*L*U[1]*U[2] + 322*L*U[2]*U[3] - 777*U[0]**2 - 1020*U[0]*U[2] - 777*U[2]**2)/120120 - D*L/30, -11*A*L**2/210 + B*L**2*(-9*L*U[1] + 16*L*U[3] - 35*U[0] - 97*U[2])/1260 + C*L**2*(-125*L**2*U[1]**2 + 322*L**2*U[1]*U[3] - 294*L**2*U[3]**2 - 1020*L*U[0]*U[1] + 1216*L*U[0]*U[3] - 1554*L*U[1]*U[2] + 3360*L*U[2]*U[3] - 2138*U[0]**2 - 5734*U[0]*U[2] - 11004*U[2]**2)/120120 - D/10,                 A*L**3/105 + B*L**3*(2*L*U[1] - 3*L*U[3] + 8*U[0] + 16*U[2])/1260 + C*L**3*(15*L**2*U[1]**2 - 35*L**2*U[1]*U[3] + 28*L**2*U[3]**2 + 125*L*U[0]*U[1] - 135*L*U[0]*U[3] + 161*L*U[1]*U[2] - 294*L*U[2]*U[3] + 268*U[0]**2 + 608*U[0]*U[2] + 840*U[2]**2)/60060 + 2*D*L/15]])"
      ]
     },
     "execution_count": 16,
     "metadata": {},
     "output_type": "execute_result"
    }
   ],
   "source": [
    "KD = sym.simplify(sym.integrate(sym.Matrix(D * dφ[ii] * dφ[jj]), (x, 0, L)))\n",
    "KA = sym.simplify(sym.integrate(sym.Matrix(A * φ[ii] * φ[jj]), (x, 0, L)))\n",
    "KB = sym.simplify(sym.integrate(sym.Matrix(2 * B * u0 * φ[ii] * φ[jj]), (x, 0, L)))\n",
    "KC = sym.simplify(sym.integrate(sym.Matrix(3 * C * u0**2 * φ[ii] * φ[jj]), (x, 0, L)))\n",
    "K = KD + KA + KB + KC\n",
    "K"
   ]
  },
  {
   "cell_type": "code",
   "execution_count": 17,
   "metadata": {},
   "outputs": [
    {
     "data": {
      "text/latex": [
       "$\\displaystyle \\left[\\begin{matrix}\\frac{B L \\left(8 L^{2} {U}_{1}^{2} - 9 L^{2} {U}_{1} {U}_{3} + 4 L^{2} {U}_{3}^{2} + 97 L {U}_{0} {U}_{1} - 43 L {U}_{0} {U}_{3} + 35 L {U}_{1} {U}_{2} - 35 L {U}_{2} {U}_{3} + 387 {U}_{0}^{2} + 162 {U}_{0} {U}_{2} + 81 {U}_{2}^{2}\\right)}{1260} + \\frac{C L \\left(98 L^{3} {U}_{1}^{3} - 161 L^{3} {U}_{1}^{2} {U}_{3} + 125 L^{3} {U}_{1} {U}_{3}^{2} - 45 L^{3} {U}_{3}^{3} + 1680 L^{2} {U}_{0} {U}_{1}^{2} - 1554 L^{2} {U}_{0} {U}_{1} {U}_{3} + 536 L^{2} {U}_{0} {U}_{3}^{2} + 608 L^{2} {U}_{1}^{2} {U}_{2} - 1020 L^{2} {U}_{1} {U}_{2} {U}_{3} + 608 L^{2} {U}_{2} {U}_{3}^{2} + 11004 L {U}_{0}^{2} {U}_{1} - 4011 L {U}_{0}^{2} {U}_{3} + 5734 L {U}_{0} {U}_{1} {U}_{2} - 4276 L {U}_{0} {U}_{2} {U}_{3} + 2138 L {U}_{1} {U}_{2}^{2} - 2867 L {U}_{2}^{2} {U}_{3} + 32088 {U}_{0}^{3} + 14418 {U}_{0}^{2} {U}_{2} + 8748 {U}_{0} {U}_{2}^{2} + 4806 {U}_{2}^{3}\\right)}{60060} + \\frac{L \\left(7 {J}_{0} + 3 {J}_{1}\\right)}{20}\\\\\\frac{B L^{2} \\left(3 L^{2} {U}_{1}^{2} - 4 L^{2} {U}_{1} {U}_{3} + 2 L^{2} {U}_{3}^{2} + 32 L {U}_{0} {U}_{1} - 18 L {U}_{0} {U}_{3} + 16 L {U}_{1} {U}_{2} - 18 L {U}_{2} {U}_{3} + 97 {U}_{0}^{2} + 70 {U}_{0} {U}_{2} + 43 {U}_{2}^{2}\\right)}{2520} + \\frac{C L^{2} \\left(56 L^{3} {U}_{1}^{3} - 105 L^{3} {U}_{1}^{2} {U}_{3} + 90 L^{3} {U}_{1} {U}_{3}^{2} - 35 L^{3} {U}_{3}^{3} + 882 L^{2} {U}_{0} {U}_{1}^{2} - 966 L^{2} {U}_{0} {U}_{1} {U}_{3} + 375 L^{2} {U}_{0} {U}_{3}^{2} + 405 L^{2} {U}_{1}^{2} {U}_{2} - 750 L^{2} {U}_{1} {U}_{2} {U}_{3} + 483 L^{2} {U}_{2} {U}_{3}^{2} + 5040 L {U}_{0}^{2} {U}_{1} - 2331 L {U}_{0}^{2} {U}_{3} + 3648 L {U}_{0} {U}_{1} {U}_{2} - 3060 L {U}_{0} {U}_{2} {U}_{3} + 1608 L {U}_{1} {U}_{2}^{2} - 2331 L {U}_{2}^{2} {U}_{3} + 11004 {U}_{0}^{3} + 8601 {U}_{0}^{2} {U}_{2} + 6414 {U}_{0} {U}_{2}^{2} + 4011 {U}_{2}^{3}\\right)}{180180} + L^{2} \\left(\\frac{{J}_{0}}{20} + \\frac{{J}_{1}}{30}\\right)\\\\\\frac{B L \\left(4 L^{2} {U}_{1}^{2} - 9 L^{2} {U}_{1} {U}_{3} + 8 L^{2} {U}_{3}^{2} + 35 L {U}_{0} {U}_{1} - 35 L {U}_{0} {U}_{3} + 43 L {U}_{1} {U}_{2} - 97 L {U}_{2} {U}_{3} + 81 {U}_{0}^{2} + 162 {U}_{0} {U}_{2} + 387 {U}_{2}^{2}\\right)}{1260} + \\frac{C L \\left(45 L^{3} {U}_{1}^{3} - 125 L^{3} {U}_{1}^{2} {U}_{3} + 161 L^{3} {U}_{1} {U}_{3}^{2} - 98 L^{3} {U}_{3}^{3} + 608 L^{2} {U}_{0} {U}_{1}^{2} - 1020 L^{2} {U}_{0} {U}_{1} {U}_{3} + 608 L^{2} {U}_{0} {U}_{3}^{2} + 536 L^{2} {U}_{1}^{2} {U}_{2} - 1554 L^{2} {U}_{1} {U}_{2} {U}_{3} + 1680 L^{2} {U}_{2} {U}_{3}^{2} + 2867 L {U}_{0}^{2} {U}_{1} - 2138 L {U}_{0}^{2} {U}_{3} + 4276 L {U}_{0} {U}_{1} {U}_{2} - 5734 L {U}_{0} {U}_{2} {U}_{3} + 4011 L {U}_{1} {U}_{2}^{2} - 11004 L {U}_{2}^{2} {U}_{3} + 4806 {U}_{0}^{3} + 8748 {U}_{0}^{2} {U}_{2} + 14418 {U}_{0} {U}_{2}^{2} + 32088 {U}_{2}^{3}\\right)}{60060} + \\frac{L \\left(3 {J}_{0} + 7 {J}_{1}\\right)}{20}\\\\\\frac{B L^{2} \\left(- 2 L^{2} {U}_{1}^{2} + 4 L^{2} {U}_{1} {U}_{3} - 3 L^{2} {U}_{3}^{2} - 18 L {U}_{0} {U}_{1} + 16 L {U}_{0} {U}_{3} - 18 L {U}_{1} {U}_{2} + 32 L {U}_{2} {U}_{3} - 43 {U}_{0}^{2} - 70 {U}_{0} {U}_{2} - 97 {U}_{2}^{2}\\right)}{2520} + \\frac{C L^{2} \\left(- 35 L^{3} {U}_{1}^{3} + 90 L^{3} {U}_{1}^{2} {U}_{3} - 105 L^{3} {U}_{1} {U}_{3}^{2} + 56 L^{3} {U}_{3}^{3} - 483 L^{2} {U}_{0} {U}_{1}^{2} + 750 L^{2} {U}_{0} {U}_{1} {U}_{3} - 405 L^{2} {U}_{0} {U}_{3}^{2} - 375 L^{2} {U}_{1}^{2} {U}_{2} + 966 L^{2} {U}_{1} {U}_{2} {U}_{3} - 882 L^{2} {U}_{2} {U}_{3}^{2} - 2331 L {U}_{0}^{2} {U}_{1} + 1608 L {U}_{0}^{2} {U}_{3} - 3060 L {U}_{0} {U}_{1} {U}_{2} + 3648 L {U}_{0} {U}_{2} {U}_{3} - 2331 L {U}_{1} {U}_{2}^{2} + 5040 L {U}_{2}^{2} {U}_{3} - 4011 {U}_{0}^{3} - 6414 {U}_{0}^{2} {U}_{2} - 8601 {U}_{0} {U}_{2}^{2} - 11004 {U}_{2}^{3}\\right)}{180180} - L^{2} \\left(\\frac{{J}_{0}}{30} + \\frac{{J}_{1}}{20}\\right)\\end{matrix}\\right]$"
      ],
      "text/plain": [
       "Matrix([\n",
       "[   B*L*(8*L**2*U[1]**2 - 9*L**2*U[1]*U[3] + 4*L**2*U[3]**2 + 97*L*U[0]*U[1] - 43*L*U[0]*U[3] + 35*L*U[1]*U[2] - 35*L*U[2]*U[3] + 387*U[0]**2 + 162*U[0]*U[2] + 81*U[2]**2)/1260 + C*L*(98*L**3*U[1]**3 - 161*L**3*U[1]**2*U[3] + 125*L**3*U[1]*U[3]**2 - 45*L**3*U[3]**3 + 1680*L**2*U[0]*U[1]**2 - 1554*L**2*U[0]*U[1]*U[3] + 536*L**2*U[0]*U[3]**2 + 608*L**2*U[1]**2*U[2] - 1020*L**2*U[1]*U[2]*U[3] + 608*L**2*U[2]*U[3]**2 + 11004*L*U[0]**2*U[1] - 4011*L*U[0]**2*U[3] + 5734*L*U[0]*U[1]*U[2] - 4276*L*U[0]*U[2]*U[3] + 2138*L*U[1]*U[2]**2 - 2867*L*U[2]**2*U[3] + 32088*U[0]**3 + 14418*U[0]**2*U[2] + 8748*U[0]*U[2]**2 + 4806*U[2]**3)/60060 + L*(7*J[0] + 3*J[1])/20],\n",
       "[  B*L**2*(3*L**2*U[1]**2 - 4*L**2*U[1]*U[3] + 2*L**2*U[3]**2 + 32*L*U[0]*U[1] - 18*L*U[0]*U[3] + 16*L*U[1]*U[2] - 18*L*U[2]*U[3] + 97*U[0]**2 + 70*U[0]*U[2] + 43*U[2]**2)/2520 + C*L**2*(56*L**3*U[1]**3 - 105*L**3*U[1]**2*U[3] + 90*L**3*U[1]*U[3]**2 - 35*L**3*U[3]**3 + 882*L**2*U[0]*U[1]**2 - 966*L**2*U[0]*U[1]*U[3] + 375*L**2*U[0]*U[3]**2 + 405*L**2*U[1]**2*U[2] - 750*L**2*U[1]*U[2]*U[3] + 483*L**2*U[2]*U[3]**2 + 5040*L*U[0]**2*U[1] - 2331*L*U[0]**2*U[3] + 3648*L*U[0]*U[1]*U[2] - 3060*L*U[0]*U[2]*U[3] + 1608*L*U[1]*U[2]**2 - 2331*L*U[2]**2*U[3] + 11004*U[0]**3 + 8601*U[0]**2*U[2] + 6414*U[0]*U[2]**2 + 4011*U[2]**3)/180180 + L**2*(J[0]/20 + J[1]/30)],\n",
       "[   B*L*(4*L**2*U[1]**2 - 9*L**2*U[1]*U[3] + 8*L**2*U[3]**2 + 35*L*U[0]*U[1] - 35*L*U[0]*U[3] + 43*L*U[1]*U[2] - 97*L*U[2]*U[3] + 81*U[0]**2 + 162*U[0]*U[2] + 387*U[2]**2)/1260 + C*L*(45*L**3*U[1]**3 - 125*L**3*U[1]**2*U[3] + 161*L**3*U[1]*U[3]**2 - 98*L**3*U[3]**3 + 608*L**2*U[0]*U[1]**2 - 1020*L**2*U[0]*U[1]*U[3] + 608*L**2*U[0]*U[3]**2 + 536*L**2*U[1]**2*U[2] - 1554*L**2*U[1]*U[2]*U[3] + 1680*L**2*U[2]*U[3]**2 + 2867*L*U[0]**2*U[1] - 2138*L*U[0]**2*U[3] + 4276*L*U[0]*U[1]*U[2] - 5734*L*U[0]*U[2]*U[3] + 4011*L*U[1]*U[2]**2 - 11004*L*U[2]**2*U[3] + 4806*U[0]**3 + 8748*U[0]**2*U[2] + 14418*U[0]*U[2]**2 + 32088*U[2]**3)/60060 + L*(3*J[0] + 7*J[1])/20],\n",
       "[B*L**2*(-2*L**2*U[1]**2 + 4*L**2*U[1]*U[3] - 3*L**2*U[3]**2 - 18*L*U[0]*U[1] + 16*L*U[0]*U[3] - 18*L*U[1]*U[2] + 32*L*U[2]*U[3] - 43*U[0]**2 - 70*U[0]*U[2] - 97*U[2]**2)/2520 + C*L**2*(-35*L**3*U[1]**3 + 90*L**3*U[1]**2*U[3] - 105*L**3*U[1]*U[3]**2 + 56*L**3*U[3]**3 - 483*L**2*U[0]*U[1]**2 + 750*L**2*U[0]*U[1]*U[3] - 405*L**2*U[0]*U[3]**2 - 375*L**2*U[1]**2*U[2] + 966*L**2*U[1]*U[2]*U[3] - 882*L**2*U[2]*U[3]**2 - 2331*L*U[0]**2*U[1] + 1608*L*U[0]**2*U[3] - 3060*L*U[0]*U[1]*U[2] + 3648*L*U[0]*U[2]*U[3] - 2331*L*U[1]*U[2]**2 + 5040*L*U[2]**2*U[3] - 4011*U[0]**3 - 6414*U[0]**2*U[2] - 8601*U[0]*U[2]**2 - 11004*U[2]**3)/180180 - L**2*(J[0]/30 + J[1]/20)]])"
      ]
     },
     "execution_count": 17,
     "metadata": {},
     "output_type": "execute_result"
    }
   ],
   "source": [
    "FB = sym.simplify(sym.integrate(sym.Matrix(B * u0**2 * φ[i_]), (x, 0, L)))\n",
    "FC = sym.simplify(sym.integrate(sym.Matrix(2 * C * u0**3 * φ[i_]), (x, 0, L)))\n",
    "F0 = sym.simplify(sym.integrate(sym.Matrix(Jx * φ[i_]), (x, 0, L)))\n",
    "F = FB + FC + F0\n",
    "F"
   ]
  },
  {
   "cell_type": "code",
   "execution_count": 18,
   "metadata": {},
   "outputs": [],
   "source": [
    "def cpp(v):\n",
    "    s = cxxcode(v, standard='C++11')\n",
    "    #for i in range(1, 5):\n",
    "    #    s = s.replace(f\"a[{i}]\", f\"a{i}\")\n",
    "    s = re.sub(r'std::pow\\(([^)]+), (\\d+)\\)', r'std::pow(\\1,\\2)', s)\n",
    "    s = re.sub(r'std::pow\\(([^)]+),2\\)', r'\\1*\\1', s)\n",
    "    s = re.sub(r'std::pow\\(([^)]+),3\\)', r'\\1*\\1*\\1', s)\n",
    "    return s.replace('_', '')\n",
    "\n",
    "def print_cpp(K, F):\n",
    "    print('{')\n",
    "    for i in range(4):\n",
    "        for j in range(i, 4):\n",
    "            print(f\"    K{i}{j} += {cpp(K[i,j])};\")\n",
    "    for i in range(4):\n",
    "        print(f\"    F{i} += {cpp(F[i])};\")\n",
    "    print('}')"
   ]
  },
  {
   "cell_type": "code",
   "execution_count": 19,
   "metadata": {},
   "outputs": [
    {
     "name": "stdout",
     "output_type": "stream",
     "text": [
      "{\n",
      "    K00 += (13.0/35.0)*A*L + (1.0/1260.0)*B*L*(97*L*U[1] - 43*L*U[3] + 774*U[0] + 162*U[2]) + (1.0/60060.0)*C*L*(840*L*L*U[1]*U[1] - 777*L*L*U[1]*U[3] + 268*L*L*U[3]*U[3] + 11004*L*U[0]*U[1] - 4011*L*U[0]*U[3] + 2867*L*U[1]*U[2] - 2138*L*U[2]*U[3] + 48132*U[0]*U[0] + 14418*U[0]*U[2] + 4374*U[2]*U[2]) + (6.0/5.0)*D/L;\n",
      "    K01 += (11.0/210.0)*A*L*L + (1.0/1260.0)*B*L*L*(16*L*U[1] - 9*L*U[3] + 97*U[0] + 35*U[2]) + (1.0/120120.0)*C*L*L*(294*L*L*U[1]*U[1] - 322*L*L*U[1]*U[3] + 125*L*L*U[3]*U[3] + 3360*L*U[0]*U[1] - 1554*L*U[0]*U[3] + 1216*L*U[1]*U[2] - 1020*L*U[2]*U[3] + 11004*U[0]*U[0] + 5734*U[0]*U[2] + 2138*U[2]*U[2]) + (1.0/10.0)*D;\n",
      "    K02 += (9.0/70.0)*A*L + (1.0/1260.0)*B*L*(35*L*U[1] - 35*L*U[3] + 162*U[0] + 162*U[2]) + (1.0/60060.0)*C*L*(304*L*L*U[1]*U[1] - 510*L*L*U[1]*U[3] + 304*L*L*U[3]*U[3] + 2867*L*U[0]*U[1] - 2138*L*U[0]*U[3] + 2138*L*U[1]*U[2] - 2867*L*U[2]*U[3] + 7209*U[0]*U[0] + 8748*U[0]*U[2] + 7209*U[2]*U[2]) - 6.0/5.0*D/L;\n",
      "    K03 += -13.0/420.0*A*L*L + (1.0/1260.0)*B*L*L*(-9*L*U[1] + 8*L*U[3] - 43*U[0] - 35*U[2]) + (1.0/120120.0)*C*L*L*(-161*L*L*U[1]*U[1] + 250*L*L*U[1]*U[3] - 135*L*L*U[3]*U[3] - 1554*L*U[0]*U[1] + 1072*L*U[0]*U[3] - 1020*L*U[1]*U[2] + 1216*L*U[2]*U[3] - 4011*U[0]*U[0] - 4276*U[0]*U[2] - 2867*U[2]*U[2]) + (1.0/10.0)*D;\n",
      "    K11 += (1.0/105.0)*A*L*L*L + (1.0/1260.0)*B*L*L*L*(3*L*U[1] - 2*L*U[3] + 16*U[0] + 8*U[2]) + (1.0/60060.0)*C*L*L*L*(28*L*L*U[1]*U[1] - 35*L*L*U[1]*U[3] + 15*L*L*U[3]*U[3] + 294*L*U[0]*U[1] - 161*L*U[0]*U[3] + 135*L*U[1]*U[2] - 125*L*U[2]*U[3] + 840*U[0]*U[0] + 608*U[0]*U[2] + 268*U[2]*U[2]) + (2.0/15.0)*D*L;\n",
      "    K12 += (13.0/420.0)*A*L*L + (1.0/1260.0)*B*L*L*(8*L*U[1] - 9*L*U[3] + 35*U[0] + 43*U[2]) + (1.0/120120.0)*C*L*L*(135*L*L*U[1]*U[1] - 250*L*L*U[1]*U[3] + 161*L*L*U[3]*U[3] + 1216*L*U[0]*U[1] - 1020*L*U[0]*U[3] + 1072*L*U[1]*U[2] - 1554*L*U[2]*U[3] + 2867*U[0]*U[0] + 4276*U[0]*U[2] + 4011*U[2]*U[2]) - 1.0/10.0*D;\n",
      "    K13 += -1.0/140.0*A*L*L*L + (1.0/1260.0)*B*L*L*L*(-2*L*U[1] + 2*L*U[3] - 9*U[0] - 9*U[2]) + (1.0/120120.0)*C*L*L*L*(-35*L*L*U[1]*U[1] + 60*L*L*U[1]*U[3] - 35*L*L*U[3]*U[3] - 322*L*U[0]*U[1] + 250*L*U[0]*U[3] - 250*L*U[1]*U[2] + 322*L*U[2]*U[3] - 777*U[0]*U[0] - 1020*U[0]*U[2] - 777*U[2]*U[2]) - 1.0/30.0*D*L;\n",
      "    K22 += (13.0/35.0)*A*L + (1.0/1260.0)*B*L*(43*L*U[1] - 97*L*U[3] + 162*U[0] + 774*U[2]) + (1.0/60060.0)*C*L*(268*L*L*U[1]*U[1] - 777*L*L*U[1]*U[3] + 840*L*L*U[3]*U[3] + 2138*L*U[0]*U[1] - 2867*L*U[0]*U[3] + 4011*L*U[1]*U[2] - 11004*L*U[2]*U[3] + 4374*U[0]*U[0] + 14418*U[0]*U[2] + 48132*U[2]*U[2]) + (6.0/5.0)*D/L;\n",
      "    K23 += -11.0/210.0*A*L*L + (1.0/1260.0)*B*L*L*(-9*L*U[1] + 16*L*U[3] - 35*U[0] - 97*U[2]) + (1.0/120120.0)*C*L*L*(-125*L*L*U[1]*U[1] + 322*L*L*U[1]*U[3] - 294*L*L*U[3]*U[3] - 1020*L*U[0]*U[1] + 1216*L*U[0]*U[3] - 1554*L*U[1]*U[2] + 3360*L*U[2]*U[3] - 2138*U[0]*U[0] - 5734*U[0]*U[2] - 11004*U[2]*U[2]) - 1.0/10.0*D;\n",
      "    K33 += (1.0/105.0)*A*L*L*L + (1.0/1260.0)*B*L*L*L*(2*L*U[1] - 3*L*U[3] + 8*U[0] + 16*U[2]) + (1.0/60060.0)*C*L*L*L*(15*L*L*U[1]*U[1] - 35*L*L*U[1]*U[3] + 28*L*L*U[3]*U[3] + 125*L*U[0]*U[1] - 135*L*U[0]*U[3] + 161*L*U[1]*U[2] - 294*L*U[2]*U[3] + 268*U[0]*U[0] + 608*U[0]*U[2] + 840*U[2]*U[2]) + (2.0/15.0)*D*L;\n",
      "    F0 += (1.0/1260.0)*B*L*(8*L*L*U[1]*U[1] - 9*L*L*U[1]*U[3] + 4*L*L*U[3]*U[3] + 97*L*U[0]*U[1] - 43*L*U[0]*U[3] + 35*L*U[1]*U[2] - 35*L*U[2]*U[3] + 387*U[0]*U[0] + 162*U[0]*U[2] + 81*U[2]*U[2]) + (1.0/60060.0)*C*L*(98*L*L*L*U[1]*U[1]*U[1] - 161*L*L*L*U[1]*U[1]*U[3] + 125*L*L*L*U[1]*U[3]*U[3] - 45*L*L*L*U[3]*U[3]*U[3] + 1680*L*L*U[0]*U[1]*U[1] - 1554*L*L*U[0]*U[1]*U[3] + 536*L*L*U[0]*U[3]*U[3] + 608*L*L*U[1]*U[1]*U[2] - 1020*L*L*U[1]*U[2]*U[3] + 608*L*L*U[2]*U[3]*U[3] + 11004*L*U[0]*U[0]*U[1] - 4011*L*U[0]*U[0]*U[3] + 5734*L*U[0]*U[1]*U[2] - 4276*L*U[0]*U[2]*U[3] + 2138*L*U[1]*U[2]*U[2] - 2867*L*U[2]*U[2]*U[3] + 32088*U[0]*U[0]*U[0] + 14418*U[0]*U[0]*U[2] + 8748*U[0]*U[2]*U[2] + 4806*U[2]*U[2]*U[2]) + (1.0/20.0)*L*(7*J[0] + 3*J[1]);\n",
      "    F1 += (1.0/2520.0)*B*L*L*(3*L*L*U[1]*U[1] - 4*L*L*U[1]*U[3] + 2*L*L*U[3]*U[3] + 32*L*U[0]*U[1] - 18*L*U[0]*U[3] + 16*L*U[1]*U[2] - 18*L*U[2]*U[3] + 97*U[0]*U[0] + 70*U[0]*U[2] + 43*U[2]*U[2]) + (1.0/180180.0)*C*L*L*(56*L*L*L*U[1]*U[1]*U[1] - 105*L*L*L*U[1]*U[1]*U[3] + 90*L*L*L*U[1]*U[3]*U[3] - 35*L*L*L*U[3]*U[3]*U[3] + 882*L*L*U[0]*U[1]*U[1] - 966*L*L*U[0]*U[1]*U[3] + 375*L*L*U[0]*U[3]*U[3] + 405*L*L*U[1]*U[1]*U[2] - 750*L*L*U[1]*U[2]*U[3] + 483*L*L*U[2]*U[3]*U[3] + 5040*L*U[0]*U[0]*U[1] - 2331*L*U[0]*U[0]*U[3] + 3648*L*U[0]*U[1]*U[2] - 3060*L*U[0]*U[2]*U[3] + 1608*L*U[1]*U[2]*U[2] - 2331*L*U[2]*U[2]*U[3] + 11004*U[0]*U[0]*U[0] + 8601*U[0]*U[0]*U[2] + 6414*U[0]*U[2]*U[2] + 4011*U[2]*U[2]*U[2]) + L*L*((1.0/20.0)*J[0] + (1.0/30.0)*J[1]);\n",
      "    F2 += (1.0/1260.0)*B*L*(4*L*L*U[1]*U[1] - 9*L*L*U[1]*U[3] + 8*L*L*U[3]*U[3] + 35*L*U[0]*U[1] - 35*L*U[0]*U[3] + 43*L*U[1]*U[2] - 97*L*U[2]*U[3] + 81*U[0]*U[0] + 162*U[0]*U[2] + 387*U[2]*U[2]) + (1.0/60060.0)*C*L*(45*L*L*L*U[1]*U[1]*U[1] - 125*L*L*L*U[1]*U[1]*U[3] + 161*L*L*L*U[1]*U[3]*U[3] - 98*L*L*L*U[3]*U[3]*U[3] + 608*L*L*U[0]*U[1]*U[1] - 1020*L*L*U[0]*U[1]*U[3] + 608*L*L*U[0]*U[3]*U[3] + 536*L*L*U[1]*U[1]*U[2] - 1554*L*L*U[1]*U[2]*U[3] + 1680*L*L*U[2]*U[3]*U[3] + 2867*L*U[0]*U[0]*U[1] - 2138*L*U[0]*U[0]*U[3] + 4276*L*U[0]*U[1]*U[2] - 5734*L*U[0]*U[2]*U[3] + 4011*L*U[1]*U[2]*U[2] - 11004*L*U[2]*U[2]*U[3] + 4806*U[0]*U[0]*U[0] + 8748*U[0]*U[0]*U[2] + 14418*U[0]*U[2]*U[2] + 32088*U[2]*U[2]*U[2]) + (1.0/20.0)*L*(3*J[0] + 7*J[1]);\n",
      "    F3 += (1.0/2520.0)*B*L*L*(-2*L*L*U[1]*U[1] + 4*L*L*U[1]*U[3] - 3*L*L*U[3]*U[3] - 18*L*U[0]*U[1] + 16*L*U[0]*U[3] - 18*L*U[1]*U[2] + 32*L*U[2]*U[3] - 43*U[0]*U[0] - 70*U[0]*U[2] - 97*U[2]*U[2]) + (1.0/180180.0)*C*L*L*(-35*L*L*L*U[1]*U[1]*U[1] + 90*L*L*L*U[1]*U[1]*U[3] - 105*L*L*L*U[1]*U[3]*U[3] + 56*L*L*L*U[3]*U[3]*U[3] - 483*L*L*U[0]*U[1]*U[1] + 750*L*L*U[0]*U[1]*U[3] - 405*L*L*U[0]*U[3]*U[3] - 375*L*L*U[1]*U[1]*U[2] + 966*L*L*U[1]*U[2]*U[3] - 882*L*L*U[2]*U[3]*U[3] - 2331*L*U[0]*U[0]*U[1] + 1608*L*U[0]*U[0]*U[3] - 3060*L*U[0]*U[1]*U[2] + 3648*L*U[0]*U[2]*U[3] - 2331*L*U[1]*U[2]*U[2] + 5040*L*U[2]*U[2]*U[3] - 4011*U[0]*U[0]*U[0] - 6414*U[0]*U[0]*U[2] - 8601*U[0]*U[2]*U[2] - 11004*U[2]*U[2]*U[2]) - L*L*((1.0/30.0)*J[0] + (1.0/20.0)*J[1]);\n",
      "}\n"
     ]
    }
   ],
   "source": [
    "print_cpp(K, F)"
   ]
  },
  {
   "attachments": {},
   "cell_type": "markdown",
   "metadata": {},
   "source": [
    "## Cylindrycznie"
   ]
  },
  {
   "cell_type": "code",
   "execution_count": 20,
   "metadata": {},
   "outputs": [],
   "source": [
    "φr = [sum(int(c) * ξr**i for i,c in enumerate(p)) for p in Φ]\n",
    "φr[1] *= L\n",
    "φr[3] *= L\n",
    "φr = np.array([sym.simplify(a) for a in φr])\n",
    "dφr = np.array([sym.simplify(sym.diff(a, r)) for a in φr])"
   ]
  },
  {
   "cell_type": "code",
   "execution_count": 21,
   "metadata": {},
   "outputs": [
    {
     "data": {
      "text/latex": [
       "\\begin{align}\n",
       "\\varphi_0(r) & = \\frac{L^{3} - 3 L \\left(R - r\\right)^{2} - 2 \\left(R - r\\right)^{3}}{L^{3}} \\\\\n",
       "\\varphi_1(r) & = - R + r - \\frac{2 \\left(R - r\\right)^{2}}{L} - \\frac{\\left(R - r\\right)^{3}}{L^{2}} \\\\\n",
       "\\varphi_2(r) & = \\frac{\\left(R - r\\right)^{2} \\left(3 L + 2 R - 2 r\\right)}{L^{3}} \\\\\n",
       "\\varphi_3(r) & = \\frac{\\left(R - r\\right)^{2} \\left(- L - R + r\\right)}{L^{2}}\n",
       "\\end{align}\n"
      ],
      "text/plain": [
       "<IPython.core.display.Latex object>"
      ]
     },
     "metadata": {},
     "output_type": "display_data"
    }
   ],
   "source": [
    "display(Latex(\"\\\\begin{align}\\n\" +\n",
    "    ' \\\\\\\\\\n'.join(f'\\\\varphi_{i}(r) & = {latex(p)}' for i,p in enumerate(φr))\n",
    "    + \"\\n\\\\end{align}\\n\"))"
   ]
  },
  {
   "cell_type": "code",
   "execution_count": 22,
   "metadata": {},
   "outputs": [
    {
     "data": {
      "text/latex": [
       "\\begin{align}\n",
       "\\frac{d\\varphi_0}{dr} & = \\frac{6 \\left(R - r\\right) \\left(L + R - r\\right)}{L^{3}} \\\\\n",
       "\\frac{d\\varphi_1}{dr} & = \\frac{L^{2} + 4 L \\left(R - r\\right) + 3 \\left(R - r\\right)^{2}}{L^{2}} \\\\\n",
       "\\frac{d\\varphi_2}{dr} & = \\frac{6 \\left(R - r\\right) \\left(- L - R + r\\right)}{L^{3}} \\\\\n",
       "\\frac{d\\varphi_3}{dr} & = \\frac{\\left(R - r\\right) \\left(2 L + 3 R - 3 r\\right)}{L^{2}}\n",
       "\\end{align}\n"
      ],
      "text/plain": [
       "<IPython.core.display.Latex object>"
      ]
     },
     "metadata": {},
     "output_type": "display_data"
    }
   ],
   "source": [
    "display(Latex(\"\\\\begin{align}\\n\" +\n",
    "    ' \\\\\\\\\\n'.join(f'\\\\frac{{d\\\\varphi_{i}}}{{dr}} & = {latex(p)}' for i,p in enumerate(dφr))\n",
    "    + \"\\n\\\\end{align}\\n\"))"
   ]
  },
  {
   "cell_type": "code",
   "execution_count": 23,
   "metadata": {},
   "outputs": [
    {
     "data": {
      "text/latex": [
       "$\\displaystyle \\left(- R + r - \\frac{2 \\left(R - r\\right)^{2}}{L} - \\frac{\\left(R - r\\right)^{3}}{L^{2}}\\right) {U}_{1} + \\frac{\\left(R - r\\right)^{2} \\left(- L - R + r\\right) {U}_{3}}{L^{2}} + \\frac{\\left(R - r\\right)^{2} \\left(3 L + 2 R - 2 r\\right) {U}_{2}}{L^{3}} + \\frac{\\left(L^{3} - 3 L \\left(R - r\\right)^{2} - 2 \\left(R - r\\right)^{3}\\right) {U}_{0}}{L^{3}}$"
      ],
      "text/plain": [
       "(-R + r - 2*(R - r)**2/L - (R - r)**3/L**2)*U[1] + (R - r)**2*(-L - R + r)*U[3]/L**2 + (R - r)**2*(3*L + 2*R - 2*r)*U[2]/L**3 + (L**3 - 3*L*(R - r)**2 - 2*(R - r)**3)*U[0]/L**3"
      ]
     },
     "execution_count": 23,
     "metadata": {},
     "output_type": "execute_result"
    }
   ],
   "source": [
    "u0r = sum(_u0[k] * φr[k] for k in range(4))\n",
    "u0r"
   ]
  },
  {
   "cell_type": "code",
   "execution_count": 24,
   "metadata": {},
   "outputs": [
    {
     "data": {
      "text/latex": [
       "$\\displaystyle \\left[\\begin{matrix}\\frac{432432 D R + 2 L^{2} R \\left(66924 A + 13871 B L {U}_{1} - 6149 B L {U}_{3} + 110682 B {U}_{0} + 23166 B {U}_{2} + 2520 C L^{2} {U}_{1}^{2} - 2331 C L^{2} {U}_{1} {U}_{3} + 804 C L^{2} {U}_{3}^{2} + 33012 C L {U}_{0} {U}_{1} - 12033 C L {U}_{0} {U}_{3} + 8601 C L {U}_{1} {U}_{2} - 6414 C L {U}_{2} {U}_{3} + 144396 C {U}_{0}^{2} + 43254 C {U}_{0} {U}_{2} + 13122 C {U}_{2}^{2}\\right) + L \\left(30888 A L^{2} + 7540 B L^{3} {U}_{1} - 4758 B L^{3} {U}_{3} + 42822 B L^{2} {U}_{0} + 18954 B L^{2} {U}_{2} + 1458 C L^{4} {U}_{1}^{2} - 1746 C L^{4} {U}_{1} {U}_{3} + 735 C L^{4} {U}_{3}^{2} + 15912 C L^{3} {U}_{0} {U}_{1} - 8154 C L^{3} {U}_{0} {U}_{3} + 6708 C L^{3} {U}_{1} {U}_{2} - 6120 C L^{3} {U}_{2} {U}_{3} + 48924 C L^{2} {U}_{0}^{2} + 30618 C L^{2} {U}_{0} {U}_{2} + 13122 C L^{2} {U}_{2}^{2} + 216216 D\\right)}{360360 L} & \\frac{A L^{3}}{60} + \\frac{19 B L^{4} {U}_{1}}{4620} - \\frac{B L^{4} {U}_{3}}{330} + \\frac{29 B L^{3} {U}_{0}}{1386} + \\frac{43 B L^{3} {U}_{2}}{3465} + \\frac{4 C L^{5} {U}_{1}^{2}}{5005} - \\frac{C L^{5} {U}_{1} {U}_{3}}{924} + \\frac{C L^{5} {U}_{3}^{2}}{2002} + \\frac{81 C L^{4} {U}_{0} {U}_{1}}{10010} - \\frac{97 C L^{4} {U}_{0} {U}_{3}}{20020} + \\frac{17 C L^{4} {U}_{1} {U}_{2}}{4004} - \\frac{17 C L^{4} {U}_{2} {U}_{3}}{4004} + \\frac{17 C L^{3} {U}_{0}^{2}}{770} + \\frac{43 C L^{3} {U}_{0} {U}_{2}}{2310} + \\frac{43 C L^{3} {U}_{2}^{2}}{4620} + \\frac{D L}{10} + \\frac{R \\left(18876 A L^{2} + 4576 B L^{3} {U}_{1} - 2574 B L^{3} {U}_{3} + 27742 B L^{2} {U}_{0} + 10010 B L^{2} {U}_{2} + 882 C L^{4} {U}_{1}^{2} - 966 C L^{4} {U}_{1} {U}_{3} + 375 C L^{4} {U}_{3}^{2} + 10080 C L^{3} {U}_{0} {U}_{1} - 4662 C L^{3} {U}_{0} {U}_{3} + 3648 C L^{3} {U}_{1} {U}_{2} - 3060 C L^{3} {U}_{2} {U}_{3} + 33012 C L^{2} {U}_{0}^{2} + 17202 C L^{2} {U}_{0} {U}_{2} + 6414 C L^{2} {U}_{2}^{2} + 36036 D\\right)}{360360} & \\frac{- 432432 D R + 2 L^{2} R \\left(23166 A + 5005 B L {U}_{1} - 5005 B L {U}_{3} + 23166 B {U}_{0} + 23166 B {U}_{2} + 912 C L^{2} {U}_{1}^{2} - 1530 C L^{2} {U}_{1} {U}_{3} + 912 C L^{2} {U}_{3}^{2} + 8601 C L {U}_{0} {U}_{1} - 6414 C L {U}_{0} {U}_{3} + 6414 C L {U}_{1} {U}_{2} - 8601 C L {U}_{2} {U}_{3} + 21627 C {U}_{0}^{2} + 26244 C {U}_{0} {U}_{2} + 21627 C {U}_{2}^{2}\\right) + L \\left(23166 A L^{2} + 4472 B L^{3} {U}_{1} - 5538 B L^{3} {U}_{3} + 18954 B L^{2} {U}_{0} + 27378 B L^{2} {U}_{2} + 765 C L^{4} {U}_{1}^{2} - 1530 C L^{4} {U}_{1} {U}_{3} + 1059 C L^{4} {U}_{3}^{2} + 6708 C L^{3} {U}_{0} {U}_{1} - 6120 C L^{3} {U}_{0} {U}_{3} + 6708 C L^{3} {U}_{1} {U}_{2} - 10494 C L^{3} {U}_{2} {U}_{3} + 15309 C L^{2} {U}_{0}^{2} + 26244 C L^{2} {U}_{0} {U}_{2} + 27945 C L^{2} {U}_{2}^{2} - 216216 D\\right)}{360360 L} & - \\frac{A L^{3}}{70} - \\frac{B L^{4} {U}_{1}}{330} + \\frac{23 B L^{4} {U}_{3}}{6930} - \\frac{61 B L^{3} {U}_{0}}{4620} - \\frac{71 B L^{3} {U}_{2}}{4620} - \\frac{C L^{5} {U}_{1}^{2}}{1848} + \\frac{C L^{5} {U}_{1} {U}_{3}}{1001} - \\frac{5 C L^{5} {U}_{3}^{2}}{8008} - \\frac{97 C L^{4} {U}_{0} {U}_{1}}{20020} + \\frac{7 C L^{4} {U}_{0} {U}_{3}}{1716} - \\frac{17 C L^{4} {U}_{1} {U}_{2}}{4004} + \\frac{353 C L^{4} {U}_{2} {U}_{3}}{60060} - \\frac{453 C L^{3} {U}_{0}^{2}}{40040} - \\frac{17 C L^{3} {U}_{0} {U}_{2}}{1001} - \\frac{53 C L^{3} {U}_{2}^{2}}{3640} + \\frac{R \\left(- 11154 A L^{2} - 2574 B L^{3} {U}_{1} + 2288 B L^{3} {U}_{3} - 12298 B L^{2} {U}_{0} - 10010 B L^{2} {U}_{2} - 483 C L^{4} {U}_{1}^{2} + 750 C L^{4} {U}_{1} {U}_{3} - 405 C L^{4} {U}_{3}^{2} - 4662 C L^{3} {U}_{0} {U}_{1} + 3216 C L^{3} {U}_{0} {U}_{3} - 3060 C L^{3} {U}_{1} {U}_{2} + 3648 C L^{3} {U}_{2} {U}_{3} - 12033 C L^{2} {U}_{0}^{2} - 12828 C L^{2} {U}_{0} {U}_{2} - 8601 C L^{2} {U}_{2}^{2} + 36036 D\\right)}{360360}\\\\\\frac{A L^{3}}{60} + \\frac{19 B L^{4} {U}_{1}}{4620} - \\frac{B L^{4} {U}_{3}}{330} + \\frac{29 B L^{3} {U}_{0}}{1386} + \\frac{43 B L^{3} {U}_{2}}{3465} + \\frac{4 C L^{5} {U}_{1}^{2}}{5005} - \\frac{C L^{5} {U}_{1} {U}_{3}}{924} + \\frac{C L^{5} {U}_{3}^{2}}{2002} + \\frac{81 C L^{4} {U}_{0} {U}_{1}}{10010} - \\frac{97 C L^{4} {U}_{0} {U}_{3}}{20020} + \\frac{17 C L^{4} {U}_{1} {U}_{2}}{4004} - \\frac{17 C L^{4} {U}_{2} {U}_{3}}{4004} + \\frac{17 C L^{3} {U}_{0}^{2}}{770} + \\frac{43 C L^{3} {U}_{0} {U}_{2}}{2310} + \\frac{43 C L^{3} {U}_{2}^{2}}{4620} + \\frac{D L}{10} + \\frac{R \\left(18876 A L^{2} + 4576 B L^{3} {U}_{1} - 2574 B L^{3} {U}_{3} + 27742 B L^{2} {U}_{0} + 10010 B L^{2} {U}_{2} + 882 C L^{4} {U}_{1}^{2} - 966 C L^{4} {U}_{1} {U}_{3} + 375 C L^{4} {U}_{3}^{2} + 10080 C L^{3} {U}_{0} {U}_{1} - 4662 C L^{3} {U}_{0} {U}_{3} + 3648 C L^{3} {U}_{1} {U}_{2} - 3060 C L^{3} {U}_{2} {U}_{3} + 33012 C L^{2} {U}_{0}^{2} + 17202 C L^{2} {U}_{0} {U}_{2} + 6414 C L^{2} {U}_{2}^{2} + 36036 D\\right)}{360360} & \\frac{L \\left(1287 A L^{3} + 312 B L^{4} {U}_{1} - 260 B L^{4} {U}_{3} + 1482 B L^{3} {U}_{0} + 1092 B L^{3} {U}_{2} + 60 C L^{5} {U}_{1}^{2} - 90 C L^{5} {U}_{1} {U}_{3} + 45 C L^{5} {U}_{3}^{2} + 576 C L^{4} {U}_{0} {U}_{1} - 390 C L^{4} {U}_{0} {U}_{3} + 360 C L^{4} {U}_{1} {U}_{2} - 390 C L^{4} {U}_{2} {U}_{3} + 1458 C L^{3} {U}_{0}^{2} + 1530 C L^{3} {U}_{0} {U}_{2} + 873 C L^{3} {U}_{2}^{2} + 12012 D L + 2 R \\left(1716 A L^{2} + 429 B L^{3} {U}_{1} - 286 B L^{3} {U}_{3} + 2288 B L^{2} {U}_{0} + 1144 B L^{2} {U}_{2} + 84 C L^{4} {U}_{1}^{2} - 105 C L^{4} {U}_{1} {U}_{3} + 45 C L^{4} {U}_{3}^{2} + 882 C L^{3} {U}_{0} {U}_{1} - 483 C L^{3} {U}_{0} {U}_{3} + 405 C L^{3} {U}_{1} {U}_{2} - 375 C L^{3} {U}_{2} {U}_{3} + 2520 C L^{2} {U}_{0}^{2} + 1824 C L^{2} {U}_{0} {U}_{2} + 804 C L^{2} {U}_{2}^{2} + 24024 D\\right)\\right)}{360360} & \\frac{A L^{3}}{60} + \\frac{B L^{4} {U}_{1}}{330} - \\frac{19 B L^{4} {U}_{3}}{4620} + \\frac{43 B L^{3} {U}_{0}}{3465} + \\frac{29 B L^{3} {U}_{2}}{1386} + \\frac{C L^{5} {U}_{1}^{2}}{2002} - \\frac{C L^{5} {U}_{1} {U}_{3}}{924} + \\frac{4 C L^{5} {U}_{3}^{2}}{5005} + \\frac{17 C L^{4} {U}_{0} {U}_{1}}{4004} - \\frac{17 C L^{4} {U}_{0} {U}_{3}}{4004} + \\frac{97 C L^{4} {U}_{1} {U}_{2}}{20020} - \\frac{81 C L^{4} {U}_{2} {U}_{3}}{10010} + \\frac{43 C L^{3} {U}_{0}^{2}}{4620} + \\frac{43 C L^{3} {U}_{0} {U}_{2}}{2310} + \\frac{17 C L^{3} {U}_{2}^{2}}{770} - \\frac{D L}{10} + \\frac{R \\left(11154 A L^{2} + 2288 B L^{3} {U}_{1} - 2574 B L^{3} {U}_{3} + 10010 B L^{2} {U}_{0} + 12298 B L^{2} {U}_{2} + 405 C L^{4} {U}_{1}^{2} - 750 C L^{4} {U}_{1} {U}_{3} + 483 C L^{4} {U}_{3}^{2} + 3648 C L^{3} {U}_{0} {U}_{1} - 3060 C L^{3} {U}_{0} {U}_{3} + 3216 C L^{3} {U}_{1} {U}_{2} - 4662 C L^{3} {U}_{2} {U}_{3} + 8601 C L^{2} {U}_{0}^{2} + 12828 C L^{2} {U}_{0} {U}_{2} + 12033 C L^{2} {U}_{2}^{2} - 36036 D\\right)}{360360} & \\frac{L \\left(- 1287 A L^{3} - 260 B L^{4} {U}_{1} + 312 B L^{4} {U}_{3} - 1092 B L^{3} {U}_{0} - 1482 B L^{3} {U}_{2} - 45 C L^{5} {U}_{1}^{2} + 90 C L^{5} {U}_{1} {U}_{3} - 60 C L^{5} {U}_{3}^{2} - 390 C L^{4} {U}_{0} {U}_{1} + 360 C L^{4} {U}_{0} {U}_{3} - 390 C L^{4} {U}_{1} {U}_{2} + 576 C L^{4} {U}_{2} {U}_{3} - 873 C L^{3} {U}_{0}^{2} - 1530 C L^{3} {U}_{0} {U}_{2} - 1458 C L^{3} {U}_{2}^{2} - 6006 D L + R \\left(- 2574 A L^{2} - 572 B L^{3} {U}_{1} + 572 B L^{3} {U}_{3} - 2574 B L^{2} {U}_{0} - 2574 B L^{2} {U}_{2} - 105 C L^{4} {U}_{1}^{2} + 180 C L^{4} {U}_{1} {U}_{3} - 105 C L^{4} {U}_{3}^{2} - 966 C L^{3} {U}_{0} {U}_{1} + 750 C L^{3} {U}_{0} {U}_{3} - 750 C L^{3} {U}_{1} {U}_{2} + 966 C L^{3} {U}_{2} {U}_{3} - 2331 C L^{2} {U}_{0}^{2} - 3060 C L^{2} {U}_{0} {U}_{2} - 2331 C L^{2} {U}_{2}^{2} - 12012 D\\right)\\right)}{360360}\\\\\\frac{- 432432 D R + 2 L^{2} R \\left(23166 A + 5005 B L {U}_{1} - 5005 B L {U}_{3} + 23166 B {U}_{0} + 23166 B {U}_{2} + 912 C L^{2} {U}_{1}^{2} - 1530 C L^{2} {U}_{1} {U}_{3} + 912 C L^{2} {U}_{3}^{2} + 8601 C L {U}_{0} {U}_{1} - 6414 C L {U}_{0} {U}_{3} + 6414 C L {U}_{1} {U}_{2} - 8601 C L {U}_{2} {U}_{3} + 21627 C {U}_{0}^{2} + 26244 C {U}_{0} {U}_{2} + 21627 C {U}_{2}^{2}\\right) + L \\left(23166 A L^{2} + 4472 B L^{3} {U}_{1} - 5538 B L^{3} {U}_{3} + 18954 B L^{2} {U}_{0} + 27378 B L^{2} {U}_{2} + 765 C L^{4} {U}_{1}^{2} - 1530 C L^{4} {U}_{1} {U}_{3} + 1059 C L^{4} {U}_{3}^{2} + 6708 C L^{3} {U}_{0} {U}_{1} - 6120 C L^{3} {U}_{0} {U}_{3} + 6708 C L^{3} {U}_{1} {U}_{2} - 10494 C L^{3} {U}_{2} {U}_{3} + 15309 C L^{2} {U}_{0}^{2} + 26244 C L^{2} {U}_{0} {U}_{2} + 27945 C L^{2} {U}_{2}^{2} - 216216 D\\right)}{360360 L} & \\frac{A L^{3}}{60} + \\frac{B L^{4} {U}_{1}}{330} - \\frac{19 B L^{4} {U}_{3}}{4620} + \\frac{43 B L^{3} {U}_{0}}{3465} + \\frac{29 B L^{3} {U}_{2}}{1386} + \\frac{C L^{5} {U}_{1}^{2}}{2002} - \\frac{C L^{5} {U}_{1} {U}_{3}}{924} + \\frac{4 C L^{5} {U}_{3}^{2}}{5005} + \\frac{17 C L^{4} {U}_{0} {U}_{1}}{4004} - \\frac{17 C L^{4} {U}_{0} {U}_{3}}{4004} + \\frac{97 C L^{4} {U}_{1} {U}_{2}}{20020} - \\frac{81 C L^{4} {U}_{2} {U}_{3}}{10010} + \\frac{43 C L^{3} {U}_{0}^{2}}{4620} + \\frac{43 C L^{3} {U}_{0} {U}_{2}}{2310} + \\frac{17 C L^{3} {U}_{2}^{2}}{770} - \\frac{D L}{10} + \\frac{R \\left(11154 A L^{2} + 2288 B L^{3} {U}_{1} - 2574 B L^{3} {U}_{3} + 10010 B L^{2} {U}_{0} + 12298 B L^{2} {U}_{2} + 405 C L^{4} {U}_{1}^{2} - 750 C L^{4} {U}_{1} {U}_{3} + 483 C L^{4} {U}_{3}^{2} + 3648 C L^{3} {U}_{0} {U}_{1} - 3060 C L^{3} {U}_{0} {U}_{3} + 3216 C L^{3} {U}_{1} {U}_{2} - 4662 C L^{3} {U}_{2} {U}_{3} + 8601 C L^{2} {U}_{0}^{2} + 12828 C L^{2} {U}_{0} {U}_{2} + 12033 C L^{2} {U}_{2}^{2} - 36036 D\\right)}{360360} & \\frac{432432 D R + 2 L^{2} R \\left(66924 A + 6149 B L {U}_{1} - 13871 B L {U}_{3} + 23166 B {U}_{0} + 110682 B {U}_{2} + 804 C L^{2} {U}_{1}^{2} - 2331 C L^{2} {U}_{1} {U}_{3} + 2520 C L^{2} {U}_{3}^{2} + 6414 C L {U}_{0} {U}_{1} - 8601 C L {U}_{0} {U}_{3} + 12033 C L {U}_{1} {U}_{2} - 33012 C L {U}_{2} {U}_{3} + 13122 C {U}_{0}^{2} + 43254 C {U}_{0} {U}_{2} + 144396 C {U}_{2}^{2}\\right) + L \\left(102960 A L^{2} + 7540 B L^{3} {U}_{1} - 20202 B L^{3} {U}_{3} + 27378 B L^{2} {U}_{0} + 178542 B L^{2} {U}_{2} + 873 C L^{4} {U}_{1}^{2} - 2916 C L^{4} {U}_{1} {U}_{3} + 3582 C L^{4} {U}_{3}^{2} + 6708 C L^{3} {U}_{0} {U}_{1} - 10494 C L^{3} {U}_{0} {U}_{3} + 15912 C L^{3} {U}_{1} {U}_{2} - 50112 C L^{3} {U}_{2} {U}_{3} + 13122 C L^{2} {U}_{0}^{2} + 55890 C L^{2} {U}_{0} {U}_{2} + 239868 C L^{2} {U}_{2}^{2} + 216216 D\\right)}{360360 L} & - \\frac{A L^{3}}{28} - \\frac{19 B L^{4} {U}_{1}}{4620} + \\frac{17 B L^{4} {U}_{3}}{1980} - \\frac{71 B L^{3} {U}_{0}}{4620} - \\frac{37 B L^{3} {U}_{2}}{660} - \\frac{C L^{5} {U}_{1}^{2}}{1848} + \\frac{8 C L^{5} {U}_{1} {U}_{3}}{5005} - \\frac{3 C L^{5} {U}_{3}^{2}}{1820} - \\frac{17 C L^{4} {U}_{0} {U}_{1}}{4004} + \\frac{353 C L^{4} {U}_{0} {U}_{3}}{60060} - \\frac{81 C L^{4} {U}_{1} {U}_{2}}{10010} + \\frac{199 C L^{4} {U}_{2} {U}_{3}}{10010} - \\frac{17 C L^{3} {U}_{0}^{2}}{2002} - \\frac{53 C L^{3} {U}_{0} {U}_{2}}{1820} - \\frac{348 C L^{3} {U}_{2}^{2}}{5005} + \\frac{R \\left(- 18876 A L^{2} - 2574 B L^{3} {U}_{1} + 4576 B L^{3} {U}_{3} - 10010 B L^{2} {U}_{0} - 27742 B L^{2} {U}_{2} - 375 C L^{4} {U}_{1}^{2} + 966 C L^{4} {U}_{1} {U}_{3} - 882 C L^{4} {U}_{3}^{2} - 3060 C L^{3} {U}_{0} {U}_{1} + 3648 C L^{3} {U}_{0} {U}_{3} - 4662 C L^{3} {U}_{1} {U}_{2} + 10080 C L^{3} {U}_{2} {U}_{3} - 6414 C L^{2} {U}_{0}^{2} - 17202 C L^{2} {U}_{0} {U}_{2} - 33012 C L^{2} {U}_{2}^{2} - 36036 D\\right)}{360360}\\\\- \\frac{A L^{3}}{70} - \\frac{B L^{4} {U}_{1}}{330} + \\frac{23 B L^{4} {U}_{3}}{6930} - \\frac{61 B L^{3} {U}_{0}}{4620} - \\frac{71 B L^{3} {U}_{2}}{4620} - \\frac{C L^{5} {U}_{1}^{2}}{1848} + \\frac{C L^{5} {U}_{1} {U}_{3}}{1001} - \\frac{5 C L^{5} {U}_{3}^{2}}{8008} - \\frac{97 C L^{4} {U}_{0} {U}_{1}}{20020} + \\frac{7 C L^{4} {U}_{0} {U}_{3}}{1716} - \\frac{17 C L^{4} {U}_{1} {U}_{2}}{4004} + \\frac{353 C L^{4} {U}_{2} {U}_{3}}{60060} - \\frac{453 C L^{3} {U}_{0}^{2}}{40040} - \\frac{17 C L^{3} {U}_{0} {U}_{2}}{1001} - \\frac{53 C L^{3} {U}_{2}^{2}}{3640} + \\frac{R \\left(- 11154 A L^{2} - 2574 B L^{3} {U}_{1} + 2288 B L^{3} {U}_{3} - 12298 B L^{2} {U}_{0} - 10010 B L^{2} {U}_{2} - 483 C L^{4} {U}_{1}^{2} + 750 C L^{4} {U}_{1} {U}_{3} - 405 C L^{4} {U}_{3}^{2} - 4662 C L^{3} {U}_{0} {U}_{1} + 3216 C L^{3} {U}_{0} {U}_{3} - 3060 C L^{3} {U}_{1} {U}_{2} + 3648 C L^{3} {U}_{2} {U}_{3} - 12033 C L^{2} {U}_{0}^{2} - 12828 C L^{2} {U}_{0} {U}_{2} - 8601 C L^{2} {U}_{2}^{2} + 36036 D\\right)}{360360} & \\frac{L \\left(- 1287 A L^{3} - 260 B L^{4} {U}_{1} + 312 B L^{4} {U}_{3} - 1092 B L^{3} {U}_{0} - 1482 B L^{3} {U}_{2} - 45 C L^{5} {U}_{1}^{2} + 90 C L^{5} {U}_{1} {U}_{3} - 60 C L^{5} {U}_{3}^{2} - 390 C L^{4} {U}_{0} {U}_{1} + 360 C L^{4} {U}_{0} {U}_{3} - 390 C L^{4} {U}_{1} {U}_{2} + 576 C L^{4} {U}_{2} {U}_{3} - 873 C L^{3} {U}_{0}^{2} - 1530 C L^{3} {U}_{0} {U}_{2} - 1458 C L^{3} {U}_{2}^{2} - 6006 D L + R \\left(- 2574 A L^{2} - 572 B L^{3} {U}_{1} + 572 B L^{3} {U}_{3} - 2574 B L^{2} {U}_{0} - 2574 B L^{2} {U}_{2} - 105 C L^{4} {U}_{1}^{2} + 180 C L^{4} {U}_{1} {U}_{3} - 105 C L^{4} {U}_{3}^{2} - 966 C L^{3} {U}_{0} {U}_{1} + 750 C L^{3} {U}_{0} {U}_{3} - 750 C L^{3} {U}_{1} {U}_{2} + 966 C L^{3} {U}_{2} {U}_{3} - 2331 C L^{2} {U}_{0}^{2} - 3060 C L^{2} {U}_{0} {U}_{2} - 2331 C L^{2} {U}_{2}^{2} - 12012 D\\right)\\right)}{360360} & - \\frac{A L^{3}}{28} - \\frac{19 B L^{4} {U}_{1}}{4620} + \\frac{17 B L^{4} {U}_{3}}{1980} - \\frac{71 B L^{3} {U}_{0}}{4620} - \\frac{37 B L^{3} {U}_{2}}{660} - \\frac{C L^{5} {U}_{1}^{2}}{1848} + \\frac{8 C L^{5} {U}_{1} {U}_{3}}{5005} - \\frac{3 C L^{5} {U}_{3}^{2}}{1820} - \\frac{17 C L^{4} {U}_{0} {U}_{1}}{4004} + \\frac{353 C L^{4} {U}_{0} {U}_{3}}{60060} - \\frac{81 C L^{4} {U}_{1} {U}_{2}}{10010} + \\frac{199 C L^{4} {U}_{2} {U}_{3}}{10010} - \\frac{17 C L^{3} {U}_{0}^{2}}{2002} - \\frac{53 C L^{3} {U}_{0} {U}_{2}}{1820} - \\frac{348 C L^{3} {U}_{2}^{2}}{5005} + \\frac{R \\left(- 18876 A L^{2} - 2574 B L^{3} {U}_{1} + 4576 B L^{3} {U}_{3} - 10010 B L^{2} {U}_{0} - 27742 B L^{2} {U}_{2} - 375 C L^{4} {U}_{1}^{2} + 966 C L^{4} {U}_{1} {U}_{3} - 882 C L^{4} {U}_{3}^{2} - 3060 C L^{3} {U}_{0} {U}_{1} + 3648 C L^{3} {U}_{0} {U}_{3} - 4662 C L^{3} {U}_{1} {U}_{2} + 10080 C L^{3} {U}_{2} {U}_{3} - 6414 C L^{2} {U}_{0}^{2} - 17202 C L^{2} {U}_{0} {U}_{2} - 33012 C L^{2} {U}_{2}^{2} - 36036 D\\right)}{360360} & \\frac{L \\left(2145 A L^{3} + 312 B L^{4} {U}_{1} - 546 B L^{4} {U}_{3} + 1196 B L^{3} {U}_{0} + 3094 B L^{3} {U}_{2} + 45 C L^{5} {U}_{1}^{2} - 120 C L^{5} {U}_{1} {U}_{3} + 108 C L^{5} {U}_{3}^{2} + 360 C L^{4} {U}_{0} {U}_{1} - 450 C L^{4} {U}_{0} {U}_{3} + 576 C L^{4} {U}_{1} {U}_{2} - 1188 C L^{4} {U}_{2} {U}_{3} + 735 C L^{3} {U}_{0}^{2} + 2118 C L^{3} {U}_{0} {U}_{2} + 3582 C L^{3} {U}_{2}^{2} + 36036 D L + 2 R \\left(1716 A L^{2} + 286 B L^{3} {U}_{1} - 429 B L^{3} {U}_{3} + 1144 B L^{2} {U}_{0} + 2288 B L^{2} {U}_{2} + 45 C L^{4} {U}_{1}^{2} - 105 C L^{4} {U}_{1} {U}_{3} + 84 C L^{4} {U}_{3}^{2} + 375 C L^{3} {U}_{0} {U}_{1} - 405 C L^{3} {U}_{0} {U}_{3} + 483 C L^{3} {U}_{1} {U}_{2} - 882 C L^{3} {U}_{2} {U}_{3} + 804 C L^{2} {U}_{0}^{2} + 1824 C L^{2} {U}_{0} {U}_{2} + 2520 C L^{2} {U}_{2}^{2} + 24024 D\\right)\\right)}{360360}\\end{matrix}\\right]$"
      ],
      "text/plain": [
       "Matrix([\n",
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n",
       "[A*L**3/60 + 19*B*L**4*U[1]/4620 - B*L**4*U[3]/330 + 29*B*L**3*U[0]/1386 + 43*B*L**3*U[2]/3465 + 4*C*L**5*U[1]**2/5005 - C*L**5*U[1]*U[3]/924 + C*L**5*U[3]**2/2002 + 81*C*L**4*U[0]*U[1]/10010 - 97*C*L**4*U[0]*U[3]/20020 + 17*C*L**4*U[1]*U[2]/4004 - 17*C*L**4*U[2]*U[3]/4004 + 17*C*L**3*U[0]**2/770 + 43*C*L**3*U[0]*U[2]/2310 + 43*C*L**3*U[2]**2/4620 + D*L/10 + R*(18876*A*L**2 + 4576*B*L**3*U[1] - 2574*B*L**3*U[3] + 27742*B*L**2*U[0] + 10010*B*L**2*U[2] + 882*C*L**4*U[1]**2 - 966*C*L**4*U[1]*U[3] + 375*C*L**4*U[3]**2 + 10080*C*L**3*U[0]*U[1] - 4662*C*L**3*U[0]*U[3] + 3648*C*L**3*U[1]*U[2] - 3060*C*L**3*U[2]*U[3] + 33012*C*L**2*U[0]**2 + 17202*C*L**2*U[0]*U[2] + 6414*C*L**2*U[2]**2 + 36036*D)/360360,                                                 L*(1287*A*L**3 + 312*B*L**4*U[1] - 260*B*L**4*U[3] + 1482*B*L**3*U[0] + 1092*B*L**3*U[2] + 60*C*L**5*U[1]**2 - 90*C*L**5*U[1]*U[3] + 45*C*L**5*U[3]**2 + 576*C*L**4*U[0]*U[1] - 390*C*L**4*U[0]*U[3] + 360*C*L**4*U[1]*U[2] - 390*C*L**4*U[2]*U[3] + 1458*C*L**3*U[0]**2 + 1530*C*L**3*U[0]*U[2] + 873*C*L**3*U[2]**2 + 12012*D*L + 2*R*(1716*A*L**2 + 429*B*L**3*U[1] - 286*B*L**3*U[3] + 2288*B*L**2*U[0] + 1144*B*L**2*U[2] + 84*C*L**4*U[1]**2 - 105*C*L**4*U[1]*U[3] + 45*C*L**4*U[3]**2 + 882*C*L**3*U[0]*U[1] - 483*C*L**3*U[0]*U[3] + 405*C*L**3*U[1]*U[2] - 375*C*L**3*U[2]*U[3] + 2520*C*L**2*U[0]**2 + 1824*C*L**2*U[0]*U[2] + 804*C*L**2*U[2]**2 + 24024*D))/360360,      A*L**3/60 + B*L**4*U[1]/330 - 19*B*L**4*U[3]/4620 + 43*B*L**3*U[0]/3465 + 29*B*L**3*U[2]/1386 + C*L**5*U[1]**2/2002 - C*L**5*U[1]*U[3]/924 + 4*C*L**5*U[3]**2/5005 + 17*C*L**4*U[0]*U[1]/4004 - 17*C*L**4*U[0]*U[3]/4004 + 97*C*L**4*U[1]*U[2]/20020 - 81*C*L**4*U[2]*U[3]/10010 + 43*C*L**3*U[0]**2/4620 + 43*C*L**3*U[0]*U[2]/2310 + 17*C*L**3*U[2]**2/770 - D*L/10 + R*(11154*A*L**2 + 2288*B*L**3*U[1] - 2574*B*L**3*U[3] + 10010*B*L**2*U[0] + 12298*B*L**2*U[2] + 405*C*L**4*U[1]**2 - 750*C*L**4*U[1]*U[3] + 483*C*L**4*U[3]**2 + 3648*C*L**3*U[0]*U[1] - 3060*C*L**3*U[0]*U[3] + 3216*C*L**3*U[1]*U[2] - 4662*C*L**3*U[2]*U[3] + 8601*C*L**2*U[0]**2 + 12828*C*L**2*U[0]*U[2] + 12033*C*L**2*U[2]**2 - 36036*D)/360360,                                                   L*(-1287*A*L**3 - 260*B*L**4*U[1] + 312*B*L**4*U[3] - 1092*B*L**3*U[0] - 1482*B*L**3*U[2] - 45*C*L**5*U[1]**2 + 90*C*L**5*U[1]*U[3] - 60*C*L**5*U[3]**2 - 390*C*L**4*U[0]*U[1] + 360*C*L**4*U[0]*U[3] - 390*C*L**4*U[1]*U[2] + 576*C*L**4*U[2]*U[3] - 873*C*L**3*U[0]**2 - 1530*C*L**3*U[0]*U[2] - 1458*C*L**3*U[2]**2 - 6006*D*L + R*(-2574*A*L**2 - 572*B*L**3*U[1] + 572*B*L**3*U[3] - 2574*B*L**2*U[0] - 2574*B*L**2*U[2] - 105*C*L**4*U[1]**2 + 180*C*L**4*U[1]*U[3] - 105*C*L**4*U[3]**2 - 966*C*L**3*U[0]*U[1] + 750*C*L**3*U[0]*U[3] - 750*C*L**3*U[1]*U[2] + 966*C*L**3*U[2]*U[3] - 2331*C*L**2*U[0]**2 - 3060*C*L**2*U[0]*U[2] - 2331*C*L**2*U[2]**2 - 12012*D))/360360],\n",
       "[                                               (-432432*D*R + 2*L**2*R*(23166*A + 5005*B*L*U[1] - 5005*B*L*U[3] + 23166*B*U[0] + 23166*B*U[2] + 912*C*L**2*U[1]**2 - 1530*C*L**2*U[1]*U[3] + 912*C*L**2*U[3]**2 + 8601*C*L*U[0]*U[1] - 6414*C*L*U[0]*U[3] + 6414*C*L*U[1]*U[2] - 8601*C*L*U[2]*U[3] + 21627*C*U[0]**2 + 26244*C*U[0]*U[2] + 21627*C*U[2]**2) + L*(23166*A*L**2 + 4472*B*L**3*U[1] - 5538*B*L**3*U[3] + 18954*B*L**2*U[0] + 27378*B*L**2*U[2] + 765*C*L**4*U[1]**2 - 1530*C*L**4*U[1]*U[3] + 1059*C*L**4*U[3]**2 + 6708*C*L**3*U[0]*U[1] - 6120*C*L**3*U[0]*U[3] + 6708*C*L**3*U[1]*U[2] - 10494*C*L**3*U[2]*U[3] + 15309*C*L**2*U[0]**2 + 26244*C*L**2*U[0]*U[2] + 27945*C*L**2*U[2]**2 - 216216*D))/(360360*L),  A*L**3/60 + B*L**4*U[1]/330 - 19*B*L**4*U[3]/4620 + 43*B*L**3*U[0]/3465 + 29*B*L**3*U[2]/1386 + C*L**5*U[1]**2/2002 - C*L**5*U[1]*U[3]/924 + 4*C*L**5*U[3]**2/5005 + 17*C*L**4*U[0]*U[1]/4004 - 17*C*L**4*U[0]*U[3]/4004 + 97*C*L**4*U[1]*U[2]/20020 - 81*C*L**4*U[2]*U[3]/10010 + 43*C*L**3*U[0]**2/4620 + 43*C*L**3*U[0]*U[2]/2310 + 17*C*L**3*U[2]**2/770 - D*L/10 + R*(11154*A*L**2 + 2288*B*L**3*U[1] - 2574*B*L**3*U[3] + 10010*B*L**2*U[0] + 12298*B*L**2*U[2] + 405*C*L**4*U[1]**2 - 750*C*L**4*U[1]*U[3] + 483*C*L**4*U[3]**2 + 3648*C*L**3*U[0]*U[1] - 3060*C*L**3*U[0]*U[3] + 3216*C*L**3*U[1]*U[2] - 4662*C*L**3*U[2]*U[3] + 8601*C*L**2*U[0]**2 + 12828*C*L**2*U[0]*U[2] + 12033*C*L**2*U[2]**2 - 36036*D)/360360,                                         (432432*D*R + 2*L**2*R*(66924*A + 6149*B*L*U[1] - 13871*B*L*U[3] + 23166*B*U[0] + 110682*B*U[2] + 804*C*L**2*U[1]**2 - 2331*C*L**2*U[1]*U[3] + 2520*C*L**2*U[3]**2 + 6414*C*L*U[0]*U[1] - 8601*C*L*U[0]*U[3] + 12033*C*L*U[1]*U[2] - 33012*C*L*U[2]*U[3] + 13122*C*U[0]**2 + 43254*C*U[0]*U[2] + 144396*C*U[2]**2) + L*(102960*A*L**2 + 7540*B*L**3*U[1] - 20202*B*L**3*U[3] + 27378*B*L**2*U[0] + 178542*B*L**2*U[2] + 873*C*L**4*U[1]**2 - 2916*C*L**4*U[1]*U[3] + 3582*C*L**4*U[3]**2 + 6708*C*L**3*U[0]*U[1] - 10494*C*L**3*U[0]*U[3] + 15912*C*L**3*U[1]*U[2] - 50112*C*L**3*U[2]*U[3] + 13122*C*L**2*U[0]**2 + 55890*C*L**2*U[0]*U[2] + 239868*C*L**2*U[2]**2 + 216216*D))/(360360*L), -A*L**3/28 - 19*B*L**4*U[1]/4620 + 17*B*L**4*U[3]/1980 - 71*B*L**3*U[0]/4620 - 37*B*L**3*U[2]/660 - C*L**5*U[1]**2/1848 + 8*C*L**5*U[1]*U[3]/5005 - 3*C*L**5*U[3]**2/1820 - 17*C*L**4*U[0]*U[1]/4004 + 353*C*L**4*U[0]*U[3]/60060 - 81*C*L**4*U[1]*U[2]/10010 + 199*C*L**4*U[2]*U[3]/10010 - 17*C*L**3*U[0]**2/2002 - 53*C*L**3*U[0]*U[2]/1820 - 348*C*L**3*U[2]**2/5005 + R*(-18876*A*L**2 - 2574*B*L**3*U[1] + 4576*B*L**3*U[3] - 10010*B*L**2*U[0] - 27742*B*L**2*U[2] - 375*C*L**4*U[1]**2 + 966*C*L**4*U[1]*U[3] - 882*C*L**4*U[3]**2 - 3060*C*L**3*U[0]*U[1] + 3648*C*L**3*U[0]*U[3] - 4662*C*L**3*U[1]*U[2] + 10080*C*L**3*U[2]*U[3] - 6414*C*L**2*U[0]**2 - 17202*C*L**2*U[0]*U[2] - 33012*C*L**2*U[2]**2 - 36036*D)/360360],\n",
       "[    -A*L**3/70 - B*L**4*U[1]/330 + 23*B*L**4*U[3]/6930 - 61*B*L**3*U[0]/4620 - 71*B*L**3*U[2]/4620 - C*L**5*U[1]**2/1848 + C*L**5*U[1]*U[3]/1001 - 5*C*L**5*U[3]**2/8008 - 97*C*L**4*U[0]*U[1]/20020 + 7*C*L**4*U[0]*U[3]/1716 - 17*C*L**4*U[1]*U[2]/4004 + 353*C*L**4*U[2]*U[3]/60060 - 453*C*L**3*U[0]**2/40040 - 17*C*L**3*U[0]*U[2]/1001 - 53*C*L**3*U[2]**2/3640 + R*(-11154*A*L**2 - 2574*B*L**3*U[1] + 2288*B*L**3*U[3] - 12298*B*L**2*U[0] - 10010*B*L**2*U[2] - 483*C*L**4*U[1]**2 + 750*C*L**4*U[1]*U[3] - 405*C*L**4*U[3]**2 - 4662*C*L**3*U[0]*U[1] + 3216*C*L**3*U[0]*U[3] - 3060*C*L**3*U[1]*U[2] + 3648*C*L**3*U[2]*U[3] - 12033*C*L**2*U[0]**2 - 12828*C*L**2*U[0]*U[2] - 8601*C*L**2*U[2]**2 + 36036*D)/360360,                                               L*(-1287*A*L**3 - 260*B*L**4*U[1] + 312*B*L**4*U[3] - 1092*B*L**3*U[0] - 1482*B*L**3*U[2] - 45*C*L**5*U[1]**2 + 90*C*L**5*U[1]*U[3] - 60*C*L**5*U[3]**2 - 390*C*L**4*U[0]*U[1] + 360*C*L**4*U[0]*U[3] - 390*C*L**4*U[1]*U[2] + 576*C*L**4*U[2]*U[3] - 873*C*L**3*U[0]**2 - 1530*C*L**3*U[0]*U[2] - 1458*C*L**3*U[2]**2 - 6006*D*L + R*(-2574*A*L**2 - 572*B*L**3*U[1] + 572*B*L**3*U[3] - 2574*B*L**2*U[0] - 2574*B*L**2*U[2] - 105*C*L**4*U[1]**2 + 180*C*L**4*U[1]*U[3] - 105*C*L**4*U[3]**2 - 966*C*L**3*U[0]*U[1] + 750*C*L**3*U[0]*U[3] - 750*C*L**3*U[1]*U[2] + 966*C*L**3*U[2]*U[3] - 2331*C*L**2*U[0]**2 - 3060*C*L**2*U[0]*U[2] - 2331*C*L**2*U[2]**2 - 12012*D))/360360, -A*L**3/28 - 19*B*L**4*U[1]/4620 + 17*B*L**4*U[3]/1980 - 71*B*L**3*U[0]/4620 - 37*B*L**3*U[2]/660 - C*L**5*U[1]**2/1848 + 8*C*L**5*U[1]*U[3]/5005 - 3*C*L**5*U[3]**2/1820 - 17*C*L**4*U[0]*U[1]/4004 + 353*C*L**4*U[0]*U[3]/60060 - 81*C*L**4*U[1]*U[2]/10010 + 199*C*L**4*U[2]*U[3]/10010 - 17*C*L**3*U[0]**2/2002 - 53*C*L**3*U[0]*U[2]/1820 - 348*C*L**3*U[2]**2/5005 + R*(-18876*A*L**2 - 2574*B*L**3*U[1] + 4576*B*L**3*U[3] - 10010*B*L**2*U[0] - 27742*B*L**2*U[2] - 375*C*L**4*U[1]**2 + 966*C*L**4*U[1]*U[3] - 882*C*L**4*U[3]**2 - 3060*C*L**3*U[0]*U[1] + 3648*C*L**3*U[0]*U[3] - 4662*C*L**3*U[1]*U[2] + 10080*C*L**3*U[2]*U[3] - 6414*C*L**2*U[0]**2 - 17202*C*L**2*U[0]*U[2] - 33012*C*L**2*U[2]**2 - 36036*D)/360360,                                                  L*(2145*A*L**3 + 312*B*L**4*U[1] - 546*B*L**4*U[3] + 1196*B*L**3*U[0] + 3094*B*L**3*U[2] + 45*C*L**5*U[1]**2 - 120*C*L**5*U[1]*U[3] + 108*C*L**5*U[3]**2 + 360*C*L**4*U[0]*U[1] - 450*C*L**4*U[0]*U[3] + 576*C*L**4*U[1]*U[2] - 1188*C*L**4*U[2]*U[3] + 735*C*L**3*U[0]**2 + 2118*C*L**3*U[0]*U[2] + 3582*C*L**3*U[2]**2 + 36036*D*L + 2*R*(1716*A*L**2 + 286*B*L**3*U[1] - 429*B*L**3*U[3] + 1144*B*L**2*U[0] + 2288*B*L**2*U[2] + 45*C*L**4*U[1]**2 - 105*C*L**4*U[1]*U[3] + 84*C*L**4*U[3]**2 + 375*C*L**3*U[0]*U[1] - 405*C*L**3*U[0]*U[3] + 483*C*L**3*U[1]*U[2] - 882*C*L**3*U[2]*U[3] + 804*C*L**2*U[0]**2 + 1824*C*L**2*U[0]*U[2] + 2520*C*L**2*U[2]**2 + 24024*D))/360360]])"
      ]
     },
     "execution_count": 24,
     "metadata": {},
     "output_type": "execute_result"
    }
   ],
   "source": [
    "KrD = sym.simplify(sym.integrate(sym.Matrix(r * D * dφr[ii] * dφr[jj]), (r, r1, r2)))\n",
    "KrA = sym.simplify(sym.integrate(sym.Matrix(r * A * φr[ii] * φr[jj]), (r, r1, r2)))\n",
    "KrB = sym.simplify(sym.integrate(sym.Matrix(r * 2 * B * u0r * φr[ii] * φr[jj]), (r, r1, r2)))\n",
    "KrC = sym.simplify(sym.integrate(sym.Matrix(r * 3 * C * u0r**2 * φr[ii] * φr[jj]), (r, r1, r2)))\n",
    "Kr = KrD + KrA + KrB + KrC\n",
    "Kr = R * sym.simplify(sym.expand(Kr/R))\n",
    "Kr"
   ]
  },
  {
   "cell_type": "code",
   "execution_count": 25,
   "metadata": {},
   "outputs": [
    {
     "data": {
      "text/latex": [
       "$\\displaystyle \\left[\\begin{matrix}\\frac{L \\left(741 B L^{3} {U}_{1}^{2} - 1092 B L^{3} {U}_{1} {U}_{3} + 598 B L^{3} {U}_{3}^{2} + 7540 B L^{2} {U}_{0} {U}_{1} - 4758 B L^{2} {U}_{0} {U}_{3} + 4472 B L^{2} {U}_{1} {U}_{2} - 5538 B L^{2} {U}_{2} {U}_{3} + 21411 B L {U}_{0}^{2} + 18954 B L {U}_{0} {U}_{2} + 13689 B L {U}_{2}^{2} + 192 C L^{4} {U}_{1}^{3} - 390 C L^{4} {U}_{1}^{2} {U}_{3} + 360 C L^{4} {U}_{1} {U}_{3}^{2} - 150 C L^{4} {U}_{3}^{3} + 2916 C L^{3} {U}_{0} {U}_{1}^{2} - 3492 C L^{3} {U}_{0} {U}_{1} {U}_{3} + 1470 C L^{3} {U}_{0} {U}_{3}^{2} + 1530 C L^{3} {U}_{1}^{2} {U}_{2} - 3060 C L^{3} {U}_{1} {U}_{2} {U}_{3} + 2118 C L^{3} {U}_{2} {U}_{3}^{2} + 15912 C L^{2} {U}_{0}^{2} {U}_{1} - 8154 C L^{2} {U}_{0}^{2} {U}_{3} + 13416 C L^{2} {U}_{0} {U}_{1} {U}_{2} - 12240 C L^{2} {U}_{0} {U}_{2} {U}_{3} + 6708 C L^{2} {U}_{1} {U}_{2}^{2} - 10494 C L^{2} {U}_{2}^{2} {U}_{3} + 32616 C L {U}_{0}^{3} + 30618 C L {U}_{0}^{2} {U}_{2} + 26244 C L {U}_{0} {U}_{2}^{2} + 18630 C L {U}_{2}^{3} + 30030 L {J}_{0} + 24024 L {J}_{1} + 2 R \\left(1144 B L^{2} {U}_{1}^{2} - 1287 B L^{2} {U}_{1} {U}_{3} + 572 B L^{2} {U}_{3}^{2} + 13871 B L {U}_{0} {U}_{1} - 6149 B L {U}_{0} {U}_{3} + 5005 B L {U}_{1} {U}_{2} - 5005 B L {U}_{2} {U}_{3} + 55341 B {U}_{0}^{2} + 23166 B {U}_{0} {U}_{2} + 11583 B {U}_{2}^{2} + 294 C L^{3} {U}_{1}^{3} - 483 C L^{3} {U}_{1}^{2} {U}_{3} + 375 C L^{3} {U}_{1} {U}_{3}^{2} - 135 C L^{3} {U}_{3}^{3} + 5040 C L^{2} {U}_{0} {U}_{1}^{2} - 4662 C L^{2} {U}_{0} {U}_{1} {U}_{3} + 1608 C L^{2} {U}_{0} {U}_{3}^{2} + 1824 C L^{2} {U}_{1}^{2} {U}_{2} - 3060 C L^{2} {U}_{1} {U}_{2} {U}_{3} + 1824 C L^{2} {U}_{2} {U}_{3}^{2} + 33012 C L {U}_{0}^{2} {U}_{1} - 12033 C L {U}_{0}^{2} {U}_{3} + 17202 C L {U}_{0} {U}_{1} {U}_{2} - 12828 C L {U}_{0} {U}_{2} {U}_{3} + 6414 C L {U}_{1} {U}_{2}^{2} - 8601 C L {U}_{2}^{2} {U}_{3} + 96264 C {U}_{0}^{3} + 43254 C {U}_{0}^{2} {U}_{2} + 26244 C {U}_{0} {U}_{2}^{2} + 14418 C {U}_{2}^{3} + 63063 {J}_{0} + 27027 {J}_{1}\\right)\\right)}{360360}\\\\\\frac{L^{2} \\left(156 B L^{3} {U}_{1}^{2} - 260 B L^{3} {U}_{1} {U}_{3} + 156 B L^{3} {U}_{3}^{2} + 1482 B L^{2} {U}_{0} {U}_{1} - 1092 B L^{2} {U}_{0} {U}_{3} + 1092 B L^{2} {U}_{1} {U}_{2} - 1482 B L^{2} {U}_{2} {U}_{3} + 3770 B L {U}_{0}^{2} + 4472 B L {U}_{0} {U}_{2} + 3770 B L {U}_{2}^{2} + 40 C L^{4} {U}_{1}^{3} - 90 C L^{4} {U}_{1}^{2} {U}_{3} + 90 C L^{4} {U}_{1} {U}_{3}^{2} - 40 C L^{4} {U}_{3}^{3} + 576 C L^{3} {U}_{0} {U}_{1}^{2} - 780 C L^{3} {U}_{0} {U}_{1} {U}_{3} + 360 C L^{3} {U}_{0} {U}_{3}^{2} + 360 C L^{3} {U}_{1}^{2} {U}_{2} - 780 C L^{3} {U}_{1} {U}_{2} {U}_{3} + 576 C L^{3} {U}_{2} {U}_{3}^{2} + 2916 C L^{2} {U}_{0}^{2} {U}_{1} - 1746 C L^{2} {U}_{0}^{2} {U}_{3} + 3060 C L^{2} {U}_{0} {U}_{1} {U}_{2} - 3060 C L^{2} {U}_{0} {U}_{2} {U}_{3} + 1746 C L^{2} {U}_{1} {U}_{2}^{2} - 2916 C L^{2} {U}_{2}^{2} {U}_{3} + 5304 C L {U}_{0}^{3} + 6708 C L {U}_{0}^{2} {U}_{2} + 6708 C L {U}_{0} {U}_{2}^{2} + 5304 C L {U}_{2}^{3} + 6006 L {J}_{0} + 6006 L {J}_{1} + R \\left(429 B L^{2} {U}_{1}^{2} - 572 B L^{2} {U}_{1} {U}_{3} + 286 B L^{2} {U}_{3}^{2} + 4576 B L {U}_{0} {U}_{1} - 2574 B L {U}_{0} {U}_{3} + 2288 B L {U}_{1} {U}_{2} - 2574 B L {U}_{2} {U}_{3} + 13871 B {U}_{0}^{2} + 10010 B {U}_{0} {U}_{2} + 6149 B {U}_{2}^{2} + 112 C L^{3} {U}_{1}^{3} - 210 C L^{3} {U}_{1}^{2} {U}_{3} + 180 C L^{3} {U}_{1} {U}_{3}^{2} - 70 C L^{3} {U}_{3}^{3} + 1764 C L^{2} {U}_{0} {U}_{1}^{2} - 1932 C L^{2} {U}_{0} {U}_{1} {U}_{3} + 750 C L^{2} {U}_{0} {U}_{3}^{2} + 810 C L^{2} {U}_{1}^{2} {U}_{2} - 1500 C L^{2} {U}_{1} {U}_{2} {U}_{3} + 966 C L^{2} {U}_{2} {U}_{3}^{2} + 10080 C L {U}_{0}^{2} {U}_{1} - 4662 C L {U}_{0}^{2} {U}_{3} + 7296 C L {U}_{0} {U}_{1} {U}_{2} - 6120 C L {U}_{0} {U}_{2} {U}_{3} + 3216 C L {U}_{1} {U}_{2}^{2} - 4662 C L {U}_{2}^{2} {U}_{3} + 22008 C {U}_{0}^{3} + 17202 C {U}_{0}^{2} {U}_{2} + 12828 C {U}_{0} {U}_{2}^{2} + 8022 C {U}_{2}^{3} + 18018 {J}_{0} + 12012 {J}_{1}\\right)\\right)}{360360}\\\\\\frac{L \\left(546 B L^{3} {U}_{1}^{2} - 1482 B L^{3} {U}_{1} {U}_{3} + 1547 B L^{3} {U}_{3}^{2} + 4472 B L^{2} {U}_{0} {U}_{1} - 5538 B L^{2} {U}_{0} {U}_{3} + 7540 B L^{2} {U}_{1} {U}_{2} - 20202 B L^{2} {U}_{2} {U}_{3} + 9477 B L {U}_{0}^{2} + 27378 B L {U}_{0} {U}_{2} + 89271 B L {U}_{2}^{2} + 120 C L^{4} {U}_{1}^{3} - 390 C L^{4} {U}_{1}^{2} {U}_{3} + 576 C L^{4} {U}_{1} {U}_{3}^{2} - 396 C L^{4} {U}_{3}^{3} + 1530 C L^{3} {U}_{0} {U}_{1}^{2} - 3060 C L^{3} {U}_{0} {U}_{1} {U}_{3} + 2118 C L^{3} {U}_{0} {U}_{3}^{2} + 1746 C L^{3} {U}_{1}^{2} {U}_{2} - 5832 C L^{3} {U}_{1} {U}_{2} {U}_{3} + 7164 C L^{3} {U}_{2} {U}_{3}^{2} + 6708 C L^{2} {U}_{0}^{2} {U}_{1} - 6120 C L^{2} {U}_{0}^{2} {U}_{3} + 13416 C L^{2} {U}_{0} {U}_{1} {U}_{2} - 20988 C L^{2} {U}_{0} {U}_{2} {U}_{3} + 15912 C L^{2} {U}_{1} {U}_{2}^{2} - 50112 C L^{2} {U}_{2}^{2} {U}_{3} + 10206 C L {U}_{0}^{3} + 26244 C L {U}_{0}^{2} {U}_{2} + 55890 C L {U}_{0} {U}_{2}^{2} + 159912 C L {U}_{2}^{3} + 30030 L {J}_{0} + 96096 L {J}_{1} + 2 R \\left(572 B L^{2} {U}_{1}^{2} - 1287 B L^{2} {U}_{1} {U}_{3} + 1144 B L^{2} {U}_{3}^{2} + 5005 B L {U}_{0} {U}_{1} - 5005 B L {U}_{0} {U}_{3} + 6149 B L {U}_{1} {U}_{2} - 13871 B L {U}_{2} {U}_{3} + 11583 B {U}_{0}^{2} + 23166 B {U}_{0} {U}_{2} + 55341 B {U}_{2}^{2} + 135 C L^{3} {U}_{1}^{3} - 375 C L^{3} {U}_{1}^{2} {U}_{3} + 483 C L^{3} {U}_{1} {U}_{3}^{2} - 294 C L^{3} {U}_{3}^{3} + 1824 C L^{2} {U}_{0} {U}_{1}^{2} - 3060 C L^{2} {U}_{0} {U}_{1} {U}_{3} + 1824 C L^{2} {U}_{0} {U}_{3}^{2} + 1608 C L^{2} {U}_{1}^{2} {U}_{2} - 4662 C L^{2} {U}_{1} {U}_{2} {U}_{3} + 5040 C L^{2} {U}_{2} {U}_{3}^{2} + 8601 C L {U}_{0}^{2} {U}_{1} - 6414 C L {U}_{0}^{2} {U}_{3} + 12828 C L {U}_{0} {U}_{1} {U}_{2} - 17202 C L {U}_{0} {U}_{2} {U}_{3} + 12033 C L {U}_{1} {U}_{2}^{2} - 33012 C L {U}_{2}^{2} {U}_{3} + 14418 C {U}_{0}^{3} + 26244 C {U}_{0}^{2} {U}_{2} + 43254 C {U}_{0} {U}_{2}^{2} + 96264 C {U}_{2}^{3} + 27027 {J}_{0} + 63063 {J}_{1}\\right)\\right)}{360360}\\\\\\frac{L^{2} \\left(- 130 B L^{3} {U}_{1}^{2} + 312 B L^{3} {U}_{1} {U}_{3} - 273 B L^{3} {U}_{3}^{2} - 1092 B L^{2} {U}_{0} {U}_{1} + 1196 B L^{2} {U}_{0} {U}_{3} - 1482 B L^{2} {U}_{1} {U}_{2} + 3094 B L^{2} {U}_{2} {U}_{3} - 2379 B L {U}_{0}^{2} - 5538 B L {U}_{0} {U}_{2} - 10101 B L {U}_{2}^{2} - 30 C L^{4} {U}_{1}^{3} + 90 C L^{4} {U}_{1}^{2} {U}_{3} - 120 C L^{4} {U}_{1} {U}_{3}^{2} + 72 C L^{4} {U}_{3}^{3} - 390 C L^{3} {U}_{0} {U}_{1}^{2} + 720 C L^{3} {U}_{0} {U}_{1} {U}_{3} - 450 C L^{3} {U}_{0} {U}_{3}^{2} - 390 C L^{3} {U}_{1}^{2} {U}_{2} + 1152 C L^{3} {U}_{1} {U}_{2} {U}_{3} - 1188 C L^{3} {U}_{2} {U}_{3}^{2} - 1746 C L^{2} {U}_{0}^{2} {U}_{1} + 1470 C L^{2} {U}_{0}^{2} {U}_{3} - 3060 C L^{2} {U}_{0} {U}_{1} {U}_{2} + 4236 C L^{2} {U}_{0} {U}_{2} {U}_{3} - 2916 C L^{2} {U}_{1} {U}_{2}^{2} + 7164 C L^{2} {U}_{2}^{2} {U}_{3} - 2718 C L {U}_{0}^{3} - 6120 C L {U}_{0}^{2} {U}_{2} - 10494 C L {U}_{0} {U}_{2}^{2} - 16704 C L {U}_{2}^{3} - 6006 L {J}_{0} - 12012 L {J}_{1} + R \\left(- 286 B L^{2} {U}_{1}^{2} + 572 B L^{2} {U}_{1} {U}_{3} - 429 B L^{2} {U}_{3}^{2} - 2574 B L {U}_{0} {U}_{1} + 2288 B L {U}_{0} {U}_{3} - 2574 B L {U}_{1} {U}_{2} + 4576 B L {U}_{2} {U}_{3} - 6149 B {U}_{0}^{2} - 10010 B {U}_{0} {U}_{2} - 13871 B {U}_{2}^{2} - 70 C L^{3} {U}_{1}^{3} + 180 C L^{3} {U}_{1}^{2} {U}_{3} - 210 C L^{3} {U}_{1} {U}_{3}^{2} + 112 C L^{3} {U}_{3}^{3} - 966 C L^{2} {U}_{0} {U}_{1}^{2} + 1500 C L^{2} {U}_{0} {U}_{1} {U}_{3} - 810 C L^{2} {U}_{0} {U}_{3}^{2} - 750 C L^{2} {U}_{1}^{2} {U}_{2} + 1932 C L^{2} {U}_{1} {U}_{2} {U}_{3} - 1764 C L^{2} {U}_{2} {U}_{3}^{2} - 4662 C L {U}_{0}^{2} {U}_{1} + 3216 C L {U}_{0}^{2} {U}_{3} - 6120 C L {U}_{0} {U}_{1} {U}_{2} + 7296 C L {U}_{0} {U}_{2} {U}_{3} - 4662 C L {U}_{1} {U}_{2}^{2} + 10080 C L {U}_{2}^{2} {U}_{3} - 8022 C {U}_{0}^{3} - 12828 C {U}_{0}^{2} {U}_{2} - 17202 C {U}_{0} {U}_{2}^{2} - 22008 C {U}_{2}^{3} - 12012 {J}_{0} - 18018 {J}_{1}\\right)\\right)}{360360}\\end{matrix}\\right]$"
      ],
      "text/plain": [
       "Matrix([\n",
       "[  L*(741*B*L**3*U[1]**2 - 1092*B*L**3*U[1]*U[3] + 598*B*L**3*U[3]**2 + 7540*B*L**2*U[0]*U[1] - 4758*B*L**2*U[0]*U[3] + 4472*B*L**2*U[1]*U[2] - 5538*B*L**2*U[2]*U[3] + 21411*B*L*U[0]**2 + 18954*B*L*U[0]*U[2] + 13689*B*L*U[2]**2 + 192*C*L**4*U[1]**3 - 390*C*L**4*U[1]**2*U[3] + 360*C*L**4*U[1]*U[3]**2 - 150*C*L**4*U[3]**3 + 2916*C*L**3*U[0]*U[1]**2 - 3492*C*L**3*U[0]*U[1]*U[3] + 1470*C*L**3*U[0]*U[3]**2 + 1530*C*L**3*U[1]**2*U[2] - 3060*C*L**3*U[1]*U[2]*U[3] + 2118*C*L**3*U[2]*U[3]**2 + 15912*C*L**2*U[0]**2*U[1] - 8154*C*L**2*U[0]**2*U[3] + 13416*C*L**2*U[0]*U[1]*U[2] - 12240*C*L**2*U[0]*U[2]*U[3] + 6708*C*L**2*U[1]*U[2]**2 - 10494*C*L**2*U[2]**2*U[3] + 32616*C*L*U[0]**3 + 30618*C*L*U[0]**2*U[2] + 26244*C*L*U[0]*U[2]**2 + 18630*C*L*U[2]**3 + 30030*L*J[0] + 24024*L*J[1] + 2*R*(1144*B*L**2*U[1]**2 - 1287*B*L**2*U[1]*U[3] + 572*B*L**2*U[3]**2 + 13871*B*L*U[0]*U[1] - 6149*B*L*U[0]*U[3] + 5005*B*L*U[1]*U[2] - 5005*B*L*U[2]*U[3] + 55341*B*U[0]**2 + 23166*B*U[0]*U[2] + 11583*B*U[2]**2 + 294*C*L**3*U[1]**3 - 483*C*L**3*U[1]**2*U[3] + 375*C*L**3*U[1]*U[3]**2 - 135*C*L**3*U[3]**3 + 5040*C*L**2*U[0]*U[1]**2 - 4662*C*L**2*U[0]*U[1]*U[3] + 1608*C*L**2*U[0]*U[3]**2 + 1824*C*L**2*U[1]**2*U[2] - 3060*C*L**2*U[1]*U[2]*U[3] + 1824*C*L**2*U[2]*U[3]**2 + 33012*C*L*U[0]**2*U[1] - 12033*C*L*U[0]**2*U[3] + 17202*C*L*U[0]*U[1]*U[2] - 12828*C*L*U[0]*U[2]*U[3] + 6414*C*L*U[1]*U[2]**2 - 8601*C*L*U[2]**2*U[3] + 96264*C*U[0]**3 + 43254*C*U[0]**2*U[2] + 26244*C*U[0]*U[2]**2 + 14418*C*U[2]**3 + 63063*J[0] + 27027*J[1]))/360360],\n",
       "[                                     L**2*(156*B*L**3*U[1]**2 - 260*B*L**3*U[1]*U[3] + 156*B*L**3*U[3]**2 + 1482*B*L**2*U[0]*U[1] - 1092*B*L**2*U[0]*U[3] + 1092*B*L**2*U[1]*U[2] - 1482*B*L**2*U[2]*U[3] + 3770*B*L*U[0]**2 + 4472*B*L*U[0]*U[2] + 3770*B*L*U[2]**2 + 40*C*L**4*U[1]**3 - 90*C*L**4*U[1]**2*U[3] + 90*C*L**4*U[1]*U[3]**2 - 40*C*L**4*U[3]**3 + 576*C*L**3*U[0]*U[1]**2 - 780*C*L**3*U[0]*U[1]*U[3] + 360*C*L**3*U[0]*U[3]**2 + 360*C*L**3*U[1]**2*U[2] - 780*C*L**3*U[1]*U[2]*U[3] + 576*C*L**3*U[2]*U[3]**2 + 2916*C*L**2*U[0]**2*U[1] - 1746*C*L**2*U[0]**2*U[3] + 3060*C*L**2*U[0]*U[1]*U[2] - 3060*C*L**2*U[0]*U[2]*U[3] + 1746*C*L**2*U[1]*U[2]**2 - 2916*C*L**2*U[2]**2*U[3] + 5304*C*L*U[0]**3 + 6708*C*L*U[0]**2*U[2] + 6708*C*L*U[0]*U[2]**2 + 5304*C*L*U[2]**3 + 6006*L*J[0] + 6006*L*J[1] + R*(429*B*L**2*U[1]**2 - 572*B*L**2*U[1]*U[3] + 286*B*L**2*U[3]**2 + 4576*B*L*U[0]*U[1] - 2574*B*L*U[0]*U[3] + 2288*B*L*U[1]*U[2] - 2574*B*L*U[2]*U[3] + 13871*B*U[0]**2 + 10010*B*U[0]*U[2] + 6149*B*U[2]**2 + 112*C*L**3*U[1]**3 - 210*C*L**3*U[1]**2*U[3] + 180*C*L**3*U[1]*U[3]**2 - 70*C*L**3*U[3]**3 + 1764*C*L**2*U[0]*U[1]**2 - 1932*C*L**2*U[0]*U[1]*U[3] + 750*C*L**2*U[0]*U[3]**2 + 810*C*L**2*U[1]**2*U[2] - 1500*C*L**2*U[1]*U[2]*U[3] + 966*C*L**2*U[2]*U[3]**2 + 10080*C*L*U[0]**2*U[1] - 4662*C*L*U[0]**2*U[3] + 7296*C*L*U[0]*U[1]*U[2] - 6120*C*L*U[0]*U[2]*U[3] + 3216*C*L*U[1]*U[2]**2 - 4662*C*L*U[2]**2*U[3] + 22008*C*U[0]**3 + 17202*C*U[0]**2*U[2] + 12828*C*U[0]*U[2]**2 + 8022*C*U[2]**3 + 18018*J[0] + 12012*J[1]))/360360],\n",
       "[L*(546*B*L**3*U[1]**2 - 1482*B*L**3*U[1]*U[3] + 1547*B*L**3*U[3]**2 + 4472*B*L**2*U[0]*U[1] - 5538*B*L**2*U[0]*U[3] + 7540*B*L**2*U[1]*U[2] - 20202*B*L**2*U[2]*U[3] + 9477*B*L*U[0]**2 + 27378*B*L*U[0]*U[2] + 89271*B*L*U[2]**2 + 120*C*L**4*U[1]**3 - 390*C*L**4*U[1]**2*U[3] + 576*C*L**4*U[1]*U[3]**2 - 396*C*L**4*U[3]**3 + 1530*C*L**3*U[0]*U[1]**2 - 3060*C*L**3*U[0]*U[1]*U[3] + 2118*C*L**3*U[0]*U[3]**2 + 1746*C*L**3*U[1]**2*U[2] - 5832*C*L**3*U[1]*U[2]*U[3] + 7164*C*L**3*U[2]*U[3]**2 + 6708*C*L**2*U[0]**2*U[1] - 6120*C*L**2*U[0]**2*U[3] + 13416*C*L**2*U[0]*U[1]*U[2] - 20988*C*L**2*U[0]*U[2]*U[3] + 15912*C*L**2*U[1]*U[2]**2 - 50112*C*L**2*U[2]**2*U[3] + 10206*C*L*U[0]**3 + 26244*C*L*U[0]**2*U[2] + 55890*C*L*U[0]*U[2]**2 + 159912*C*L*U[2]**3 + 30030*L*J[0] + 96096*L*J[1] + 2*R*(572*B*L**2*U[1]**2 - 1287*B*L**2*U[1]*U[3] + 1144*B*L**2*U[3]**2 + 5005*B*L*U[0]*U[1] - 5005*B*L*U[0]*U[3] + 6149*B*L*U[1]*U[2] - 13871*B*L*U[2]*U[3] + 11583*B*U[0]**2 + 23166*B*U[0]*U[2] + 55341*B*U[2]**2 + 135*C*L**3*U[1]**3 - 375*C*L**3*U[1]**2*U[3] + 483*C*L**3*U[1]*U[3]**2 - 294*C*L**3*U[3]**3 + 1824*C*L**2*U[0]*U[1]**2 - 3060*C*L**2*U[0]*U[1]*U[3] + 1824*C*L**2*U[0]*U[3]**2 + 1608*C*L**2*U[1]**2*U[2] - 4662*C*L**2*U[1]*U[2]*U[3] + 5040*C*L**2*U[2]*U[3]**2 + 8601*C*L*U[0]**2*U[1] - 6414*C*L*U[0]**2*U[3] + 12828*C*L*U[0]*U[1]*U[2] - 17202*C*L*U[0]*U[2]*U[3] + 12033*C*L*U[1]*U[2]**2 - 33012*C*L*U[2]**2*U[3] + 14418*C*U[0]**3 + 26244*C*U[0]**2*U[2] + 43254*C*U[0]*U[2]**2 + 96264*C*U[2]**3 + 27027*J[0] + 63063*J[1]))/360360],\n",
       "[                            L**2*(-130*B*L**3*U[1]**2 + 312*B*L**3*U[1]*U[3] - 273*B*L**3*U[3]**2 - 1092*B*L**2*U[0]*U[1] + 1196*B*L**2*U[0]*U[3] - 1482*B*L**2*U[1]*U[2] + 3094*B*L**2*U[2]*U[3] - 2379*B*L*U[0]**2 - 5538*B*L*U[0]*U[2] - 10101*B*L*U[2]**2 - 30*C*L**4*U[1]**3 + 90*C*L**4*U[1]**2*U[3] - 120*C*L**4*U[1]*U[3]**2 + 72*C*L**4*U[3]**3 - 390*C*L**3*U[0]*U[1]**2 + 720*C*L**3*U[0]*U[1]*U[3] - 450*C*L**3*U[0]*U[3]**2 - 390*C*L**3*U[1]**2*U[2] + 1152*C*L**3*U[1]*U[2]*U[3] - 1188*C*L**3*U[2]*U[3]**2 - 1746*C*L**2*U[0]**2*U[1] + 1470*C*L**2*U[0]**2*U[3] - 3060*C*L**2*U[0]*U[1]*U[2] + 4236*C*L**2*U[0]*U[2]*U[3] - 2916*C*L**2*U[1]*U[2]**2 + 7164*C*L**2*U[2]**2*U[3] - 2718*C*L*U[0]**3 - 6120*C*L*U[0]**2*U[2] - 10494*C*L*U[0]*U[2]**2 - 16704*C*L*U[2]**3 - 6006*L*J[0] - 12012*L*J[1] + R*(-286*B*L**2*U[1]**2 + 572*B*L**2*U[1]*U[3] - 429*B*L**2*U[3]**2 - 2574*B*L*U[0]*U[1] + 2288*B*L*U[0]*U[3] - 2574*B*L*U[1]*U[2] + 4576*B*L*U[2]*U[3] - 6149*B*U[0]**2 - 10010*B*U[0]*U[2] - 13871*B*U[2]**2 - 70*C*L**3*U[1]**3 + 180*C*L**3*U[1]**2*U[3] - 210*C*L**3*U[1]*U[3]**2 + 112*C*L**3*U[3]**3 - 966*C*L**2*U[0]*U[1]**2 + 1500*C*L**2*U[0]*U[1]*U[3] - 810*C*L**2*U[0]*U[3]**2 - 750*C*L**2*U[1]**2*U[2] + 1932*C*L**2*U[1]*U[2]*U[3] - 1764*C*L**2*U[2]*U[3]**2 - 4662*C*L*U[0]**2*U[1] + 3216*C*L*U[0]**2*U[3] - 6120*C*L*U[0]*U[1]*U[2] + 7296*C*L*U[0]*U[2]*U[3] - 4662*C*L*U[1]*U[2]**2 + 10080*C*L*U[2]**2*U[3] - 8022*C*U[0]**3 - 12828*C*U[0]**2*U[2] - 17202*C*U[0]*U[2]**2 - 22008*C*U[2]**3 - 12012*J[0] - 18018*J[1]))/360360]])"
      ]
     },
     "execution_count": 25,
     "metadata": {},
     "output_type": "execute_result"
    }
   ],
   "source": [
    "FrB = sym.simplify(sym.integrate(sym.Matrix(r * B * u0r**2 * φr[i_]), (r, r1, r2)))\n",
    "FrC = sym.simplify(sym.integrate(sym.Matrix(r * 2 * C * u0r**3 * φr[i_]), (r, r1, r2)))\n",
    "Fr0 = sym.simplify(sym.integrate(sym.Matrix(r * Jr * φr[i_]), (r, r1, r2)))\n",
    "Fr = FrB + FrC + Fr0\n",
    "Fr = R * sym.simplify(sym.expand(Fr/R))\n",
    "Fr"
   ]
  },
  {
   "cell_type": "code",
   "execution_count": 26,
   "metadata": {
    "tags": []
   },
   "outputs": [
    {
     "name": "stdout",
     "output_type": "stream",
     "text": [
      "{\n",
      "    K00 += (1.0/360360.0)*(432432*D*R + 2*L*L*R*(66924*A + 13871*B*L*U[1] - 6149*B*L*U[3] + 110682*B*U[0] + 23166*B*U[2] + 2520*C*L*L*U[1]*U[1] - 2331*C*L*L*U[1]*U[3] + 804*C*L*L*U[3]*U[3] + 33012*C*L*U[0]*U[1] - 12033*C*L*U[0]*U[3] + 8601*C*L*U[1]*U[2] - 6414*C*L*U[2]*U[3] + 144396*C*U[0]*U[0] + 43254*C*U[0]*U[2] + 13122*C*U[2]*U[2]) + L*(30888*A*L*L + 7540*B*L*L*L*U[1] - 4758*B*L*L*L*U[3] + 42822*B*L*L*U[0] + 18954*B*L*L*U[2] + 1458*C*std::pow(L,4)*U[1]*U[1] - 1746*C*std::pow(L,4)*U[1]*U[3] + 735*C*std::pow(L,4)*U[3]*U[3] + 15912*C*L*L*L*U[0]*U[1] - 8154*C*L*L*L*U[0]*U[3] + 6708*C*L*L*L*U[1]*U[2] - 6120*C*L*L*L*U[2]*U[3] + 48924*C*L*L*U[0]*U[0] + 30618*C*L*L*U[0]*U[2] + 13122*C*L*L*U[2]*U[2] + 216216*D))/L;\n",
      "    K01 += (1.0/60.0)*A*L*L*L + (19.0/4620.0)*B*std::pow(L,4)*U[1] - 1.0/330.0*B*std::pow(L,4)*U[3] + (29.0/1386.0)*B*L*L*L*U[0] + (43.0/3465.0)*B*L*L*L*U[2] + (4.0/5005.0)*C*std::pow(L,5)*U[1]*U[1] - 1.0/924.0*C*std::pow(L,5)*U[1]*U[3] + (1.0/2002.0)*C*std::pow(L,5)*U[3]*U[3] + (81.0/10010.0)*C*std::pow(L,4)*U[0]*U[1] - 97.0/20020.0*C*std::pow(L,4)*U[0]*U[3] + (17.0/4004.0)*C*std::pow(L,4)*U[1]*U[2] - 17.0/4004.0*C*std::pow(L,4)*U[2]*U[3] + (17.0/770.0)*C*L*L*L*U[0]*U[0] + (43.0/2310.0)*C*L*L*L*U[0]*U[2] + (43.0/4620.0)*C*L*L*L*U[2]*U[2] + (1.0/10.0)*D*L + (1.0/360360.0)*R*(18876*A*L*L + 4576*B*L*L*L*U[1] - 2574*B*L*L*L*U[3] + 27742*B*L*L*U[0] + 10010*B*L*L*U[2] + 882*C*std::pow(L,4)*U[1]*U[1] - 966*C*std::pow(L,4)*U[1]*U[3] + 375*C*std::pow(L,4)*U[3]*U[3] + 10080*C*L*L*L*U[0]*U[1] - 4662*C*L*L*L*U[0]*U[3] + 3648*C*L*L*L*U[1]*U[2] - 3060*C*L*L*L*U[2]*U[3] + 33012*C*L*L*U[0]*U[0] + 17202*C*L*L*U[0]*U[2] + 6414*C*L*L*U[2]*U[2] + 36036*D);\n",
      "    K02 += (1.0/360360.0)*(-432432*D*R + 2*L*L*R*(23166*A + 5005*B*L*U[1] - 5005*B*L*U[3] + 23166*B*U[0] + 23166*B*U[2] + 912*C*L*L*U[1]*U[1] - 1530*C*L*L*U[1]*U[3] + 912*C*L*L*U[3]*U[3] + 8601*C*L*U[0]*U[1] - 6414*C*L*U[0]*U[3] + 6414*C*L*U[1]*U[2] - 8601*C*L*U[2]*U[3] + 21627*C*U[0]*U[0] + 26244*C*U[0]*U[2] + 21627*C*U[2]*U[2]) + L*(23166*A*L*L + 4472*B*L*L*L*U[1] - 5538*B*L*L*L*U[3] + 18954*B*L*L*U[0] + 27378*B*L*L*U[2] + 765*C*std::pow(L,4)*U[1]*U[1] - 1530*C*std::pow(L,4)*U[1]*U[3] + 1059*C*std::pow(L,4)*U[3]*U[3] + 6708*C*L*L*L*U[0]*U[1] - 6120*C*L*L*L*U[0]*U[3] + 6708*C*L*L*L*U[1]*U[2] - 10494*C*L*L*L*U[2]*U[3] + 15309*C*L*L*U[0]*U[0] + 26244*C*L*L*U[0]*U[2] + 27945*C*L*L*U[2]*U[2] - 216216*D))/L;\n",
      "    K03 += -1.0/70.0*A*L*L*L - 1.0/330.0*B*std::pow(L,4)*U[1] + (23.0/6930.0)*B*std::pow(L,4)*U[3] - 61.0/4620.0*B*L*L*L*U[0] - 71.0/4620.0*B*L*L*L*U[2] - 1.0/1848.0*C*std::pow(L,5)*U[1]*U[1] + (1.0/1001.0)*C*std::pow(L,5)*U[1]*U[3] - 5.0/8008.0*C*std::pow(L,5)*U[3]*U[3] - 97.0/20020.0*C*std::pow(L,4)*U[0]*U[1] + (7.0/1716.0)*C*std::pow(L,4)*U[0]*U[3] - 17.0/4004.0*C*std::pow(L,4)*U[1]*U[2] + (353.0/60060.0)*C*std::pow(L,4)*U[2]*U[3] - 453.0/40040.0*C*L*L*L*U[0]*U[0] - 17.0/1001.0*C*L*L*L*U[0]*U[2] - 53.0/3640.0*C*L*L*L*U[2]*U[2] + (1.0/360360.0)*R*(-11154*A*L*L - 2574*B*L*L*L*U[1] + 2288*B*L*L*L*U[3] - 12298*B*L*L*U[0] - 10010*B*L*L*U[2] - 483*C*std::pow(L,4)*U[1]*U[1] + 750*C*std::pow(L,4)*U[1]*U[3] - 405*C*std::pow(L,4)*U[3]*U[3] - 4662*C*L*L*L*U[0]*U[1] + 3216*C*L*L*L*U[0]*U[3] - 3060*C*L*L*L*U[1]*U[2] + 3648*C*L*L*L*U[2]*U[3] - 12033*C*L*L*U[0]*U[0] - 12828*C*L*L*U[0]*U[2] - 8601*C*L*L*U[2]*U[2] + 36036*D);\n",
      "    K11 += (1.0/360360.0)*L*(1287*A*L*L*L + 312*B*std::pow(L,4)*U[1] - 260*B*std::pow(L,4)*U[3] + 1482*B*L*L*L*U[0] + 1092*B*L*L*L*U[2] + 60*C*std::pow(L,5)*U[1]*U[1] - 90*C*std::pow(L,5)*U[1]*U[3] + 45*C*std::pow(L,5)*U[3]*U[3] + 576*C*std::pow(L,4)*U[0]*U[1] - 390*C*std::pow(L,4)*U[0]*U[3] + 360*C*std::pow(L,4)*U[1]*U[2] - 390*C*std::pow(L,4)*U[2]*U[3] + 1458*C*L*L*L*U[0]*U[0] + 1530*C*L*L*L*U[0]*U[2] + 873*C*L*L*L*U[2]*U[2] + 12012*D*L + 2*R*(1716*A*L*L + 429*B*L*L*L*U[1] - 286*B*L*L*L*U[3] + 2288*B*L*L*U[0] + 1144*B*L*L*U[2] + 84*C*std::pow(L,4)*U[1]*U[1] - 105*C*std::pow(L,4)*U[1]*U[3] + 45*C*std::pow(L,4)*U[3]*U[3] + 882*C*L*L*L*U[0]*U[1] - 483*C*L*L*L*U[0]*U[3] + 405*C*L*L*L*U[1]*U[2] - 375*C*L*L*L*U[2]*U[3] + 2520*C*L*L*U[0]*U[0] + 1824*C*L*L*U[0]*U[2] + 804*C*L*L*U[2]*U[2] + 24024*D));\n",
      "    K12 += (1.0/60.0)*A*L*L*L + (1.0/330.0)*B*std::pow(L,4)*U[1] - 19.0/4620.0*B*std::pow(L,4)*U[3] + (43.0/3465.0)*B*L*L*L*U[0] + (29.0/1386.0)*B*L*L*L*U[2] + (1.0/2002.0)*C*std::pow(L,5)*U[1]*U[1] - 1.0/924.0*C*std::pow(L,5)*U[1]*U[3] + (4.0/5005.0)*C*std::pow(L,5)*U[3]*U[3] + (17.0/4004.0)*C*std::pow(L,4)*U[0]*U[1] - 17.0/4004.0*C*std::pow(L,4)*U[0]*U[3] + (97.0/20020.0)*C*std::pow(L,4)*U[1]*U[2] - 81.0/10010.0*C*std::pow(L,4)*U[2]*U[3] + (43.0/4620.0)*C*L*L*L*U[0]*U[0] + (43.0/2310.0)*C*L*L*L*U[0]*U[2] + (17.0/770.0)*C*L*L*L*U[2]*U[2] - 1.0/10.0*D*L + (1.0/360360.0)*R*(11154*A*L*L + 2288*B*L*L*L*U[1] - 2574*B*L*L*L*U[3] + 10010*B*L*L*U[0] + 12298*B*L*L*U[2] + 405*C*std::pow(L,4)*U[1]*U[1] - 750*C*std::pow(L,4)*U[1]*U[3] + 483*C*std::pow(L,4)*U[3]*U[3] + 3648*C*L*L*L*U[0]*U[1] - 3060*C*L*L*L*U[0]*U[3] + 3216*C*L*L*L*U[1]*U[2] - 4662*C*L*L*L*U[2]*U[3] + 8601*C*L*L*U[0]*U[0] + 12828*C*L*L*U[0]*U[2] + 12033*C*L*L*U[2]*U[2] - 36036*D);\n",
      "    K13 += (1.0/360360.0)*L*(-1287*A*L*L*L - 260*B*std::pow(L,4)*U[1] + 312*B*std::pow(L,4)*U[3] - 1092*B*L*L*L*U[0] - 1482*B*L*L*L*U[2] - 45*C*std::pow(L,5)*U[1]*U[1] + 90*C*std::pow(L,5)*U[1]*U[3] - 60*C*std::pow(L,5)*U[3]*U[3] - 390*C*std::pow(L,4)*U[0]*U[1] + 360*C*std::pow(L,4)*U[0]*U[3] - 390*C*std::pow(L,4)*U[1]*U[2] + 576*C*std::pow(L,4)*U[2]*U[3] - 873*C*L*L*L*U[0]*U[0] - 1530*C*L*L*L*U[0]*U[2] - 1458*C*L*L*L*U[2]*U[2] - 6006*D*L + R*(-2574*A*L*L - 572*B*L*L*L*U[1] + 572*B*L*L*L*U[3] - 2574*B*L*L*U[0] - 2574*B*L*L*U[2] - 105*C*std::pow(L,4)*U[1]*U[1] + 180*C*std::pow(L,4)*U[1]*U[3] - 105*C*std::pow(L,4)*U[3]*U[3] - 966*C*L*L*L*U[0]*U[1] + 750*C*L*L*L*U[0]*U[3] - 750*C*L*L*L*U[1]*U[2] + 966*C*L*L*L*U[2]*U[3] - 2331*C*L*L*U[0]*U[0] - 3060*C*L*L*U[0]*U[2] - 2331*C*L*L*U[2]*U[2] - 12012*D));\n",
      "    K22 += (1.0/360360.0)*(432432*D*R + 2*L*L*R*(66924*A + 6149*B*L*U[1] - 13871*B*L*U[3] + 23166*B*U[0] + 110682*B*U[2] + 804*C*L*L*U[1]*U[1] - 2331*C*L*L*U[1]*U[3] + 2520*C*L*L*U[3]*U[3] + 6414*C*L*U[0]*U[1] - 8601*C*L*U[0]*U[3] + 12033*C*L*U[1]*U[2] - 33012*C*L*U[2]*U[3] + 13122*C*U[0]*U[0] + 43254*C*U[0]*U[2] + 144396*C*U[2]*U[2]) + L*(102960*A*L*L + 7540*B*L*L*L*U[1] - 20202*B*L*L*L*U[3] + 27378*B*L*L*U[0] + 178542*B*L*L*U[2] + 873*C*std::pow(L,4)*U[1]*U[1] - 2916*C*std::pow(L,4)*U[1]*U[3] + 3582*C*std::pow(L,4)*U[3]*U[3] + 6708*C*L*L*L*U[0]*U[1] - 10494*C*L*L*L*U[0]*U[3] + 15912*C*L*L*L*U[1]*U[2] - 50112*C*L*L*L*U[2]*U[3] + 13122*C*L*L*U[0]*U[0] + 55890*C*L*L*U[0]*U[2] + 239868*C*L*L*U[2]*U[2] + 216216*D))/L;\n",
      "    K23 += -1.0/28.0*A*L*L*L - 19.0/4620.0*B*std::pow(L,4)*U[1] + (17.0/1980.0)*B*std::pow(L,4)*U[3] - 71.0/4620.0*B*L*L*L*U[0] - 37.0/660.0*B*L*L*L*U[2] - 1.0/1848.0*C*std::pow(L,5)*U[1]*U[1] + (8.0/5005.0)*C*std::pow(L,5)*U[1]*U[3] - 3.0/1820.0*C*std::pow(L,5)*U[3]*U[3] - 17.0/4004.0*C*std::pow(L,4)*U[0]*U[1] + (353.0/60060.0)*C*std::pow(L,4)*U[0]*U[3] - 81.0/10010.0*C*std::pow(L,4)*U[1]*U[2] + (199.0/10010.0)*C*std::pow(L,4)*U[2]*U[3] - 17.0/2002.0*C*L*L*L*U[0]*U[0] - 53.0/1820.0*C*L*L*L*U[0]*U[2] - 348.0/5005.0*C*L*L*L*U[2]*U[2] + (1.0/360360.0)*R*(-18876*A*L*L - 2574*B*L*L*L*U[1] + 4576*B*L*L*L*U[3] - 10010*B*L*L*U[0] - 27742*B*L*L*U[2] - 375*C*std::pow(L,4)*U[1]*U[1] + 966*C*std::pow(L,4)*U[1]*U[3] - 882*C*std::pow(L,4)*U[3]*U[3] - 3060*C*L*L*L*U[0]*U[1] + 3648*C*L*L*L*U[0]*U[3] - 4662*C*L*L*L*U[1]*U[2] + 10080*C*L*L*L*U[2]*U[3] - 6414*C*L*L*U[0]*U[0] - 17202*C*L*L*U[0]*U[2] - 33012*C*L*L*U[2]*U[2] - 36036*D);\n",
      "    K33 += (1.0/360360.0)*L*(2145*A*L*L*L + 312*B*std::pow(L,4)*U[1] - 546*B*std::pow(L,4)*U[3] + 1196*B*L*L*L*U[0] + 3094*B*L*L*L*U[2] + 45*C*std::pow(L,5)*U[1]*U[1] - 120*C*std::pow(L,5)*U[1]*U[3] + 108*C*std::pow(L,5)*U[3]*U[3] + 360*C*std::pow(L,4)*U[0]*U[1] - 450*C*std::pow(L,4)*U[0]*U[3] + 576*C*std::pow(L,4)*U[1]*U[2] - 1188*C*std::pow(L,4)*U[2]*U[3] + 735*C*L*L*L*U[0]*U[0] + 2118*C*L*L*L*U[0]*U[2] + 3582*C*L*L*L*U[2]*U[2] + 36036*D*L + 2*R*(1716*A*L*L + 286*B*L*L*L*U[1] - 429*B*L*L*L*U[3] + 1144*B*L*L*U[0] + 2288*B*L*L*U[2] + 45*C*std::pow(L,4)*U[1]*U[1] - 105*C*std::pow(L,4)*U[1]*U[3] + 84*C*std::pow(L,4)*U[3]*U[3] + 375*C*L*L*L*U[0]*U[1] - 405*C*L*L*L*U[0]*U[3] + 483*C*L*L*L*U[1]*U[2] - 882*C*L*L*L*U[2]*U[3] + 804*C*L*L*U[0]*U[0] + 1824*C*L*L*U[0]*U[2] + 2520*C*L*L*U[2]*U[2] + 24024*D));\n",
      "    F0 += (1.0/360360.0)*L*(741*B*L*L*L*U[1]*U[1] - 1092*B*L*L*L*U[1]*U[3] + 598*B*L*L*L*U[3]*U[3] + 7540*B*L*L*U[0]*U[1] - 4758*B*L*L*U[0]*U[3] + 4472*B*L*L*U[1]*U[2] - 5538*B*L*L*U[2]*U[3] + 21411*B*L*U[0]*U[0] + 18954*B*L*U[0]*U[2] + 13689*B*L*U[2]*U[2] + 192*C*std::pow(L,4)*U[1]*U[1]*U[1] - 390*C*std::pow(L,4)*U[1]*U[1]*U[3] + 360*C*std::pow(L,4)*U[1]*U[3]*U[3] - 150*C*std::pow(L,4)*U[3]*U[3]*U[3] + 2916*C*L*L*L*U[0]*U[1]*U[1] - 3492*C*L*L*L*U[0]*U[1]*U[3] + 1470*C*L*L*L*U[0]*U[3]*U[3] + 1530*C*L*L*L*U[1]*U[1]*U[2] - 3060*C*L*L*L*U[1]*U[2]*U[3] + 2118*C*L*L*L*U[2]*U[3]*U[3] + 15912*C*L*L*U[0]*U[0]*U[1] - 8154*C*L*L*U[0]*U[0]*U[3] + 13416*C*L*L*U[0]*U[1]*U[2] - 12240*C*L*L*U[0]*U[2]*U[3] + 6708*C*L*L*U[1]*U[2]*U[2] - 10494*C*L*L*U[2]*U[2]*U[3] + 32616*C*L*U[0]*U[0]*U[0] + 30618*C*L*U[0]*U[0]*U[2] + 26244*C*L*U[0]*U[2]*U[2] + 18630*C*L*U[2]*U[2]*U[2] + 30030*L*J[0] + 24024*L*J[1] + 2*R*(1144*B*L*L*U[1]*U[1] - 1287*B*L*L*U[1]*U[3] + 572*B*L*L*U[3]*U[3] + 13871*B*L*U[0]*U[1] - 6149*B*L*U[0]*U[3] + 5005*B*L*U[1]*U[2] - 5005*B*L*U[2]*U[3] + 55341*B*U[0]*U[0] + 23166*B*U[0]*U[2] + 11583*B*U[2]*U[2] + 294*C*L*L*L*U[1]*U[1]*U[1] - 483*C*L*L*L*U[1]*U[1]*U[3] + 375*C*L*L*L*U[1]*U[3]*U[3] - 135*C*L*L*L*U[3]*U[3]*U[3] + 5040*C*L*L*U[0]*U[1]*U[1] - 4662*C*L*L*U[0]*U[1]*U[3] + 1608*C*L*L*U[0]*U[3]*U[3] + 1824*C*L*L*U[1]*U[1]*U[2] - 3060*C*L*L*U[1]*U[2]*U[3] + 1824*C*L*L*U[2]*U[3]*U[3] + 33012*C*L*U[0]*U[0]*U[1] - 12033*C*L*U[0]*U[0]*U[3] + 17202*C*L*U[0]*U[1]*U[2] - 12828*C*L*U[0]*U[2]*U[3] + 6414*C*L*U[1]*U[2]*U[2] - 8601*C*L*U[2]*U[2]*U[3] + 96264*C*U[0]*U[0]*U[0] + 43254*C*U[0]*U[0]*U[2] + 26244*C*U[0]*U[2]*U[2] + 14418*C*U[2]*U[2]*U[2] + 63063*J[0] + 27027*J[1]));\n",
      "    F1 += (1.0/360360.0)*L*L*(156*B*L*L*L*U[1]*U[1] - 260*B*L*L*L*U[1]*U[3] + 156*B*L*L*L*U[3]*U[3] + 1482*B*L*L*U[0]*U[1] - 1092*B*L*L*U[0]*U[3] + 1092*B*L*L*U[1]*U[2] - 1482*B*L*L*U[2]*U[3] + 3770*B*L*U[0]*U[0] + 4472*B*L*U[0]*U[2] + 3770*B*L*U[2]*U[2] + 40*C*std::pow(L,4)*U[1]*U[1]*U[1] - 90*C*std::pow(L,4)*U[1]*U[1]*U[3] + 90*C*std::pow(L,4)*U[1]*U[3]*U[3] - 40*C*std::pow(L,4)*U[3]*U[3]*U[3] + 576*C*L*L*L*U[0]*U[1]*U[1] - 780*C*L*L*L*U[0]*U[1]*U[3] + 360*C*L*L*L*U[0]*U[3]*U[3] + 360*C*L*L*L*U[1]*U[1]*U[2] - 780*C*L*L*L*U[1]*U[2]*U[3] + 576*C*L*L*L*U[2]*U[3]*U[3] + 2916*C*L*L*U[0]*U[0]*U[1] - 1746*C*L*L*U[0]*U[0]*U[3] + 3060*C*L*L*U[0]*U[1]*U[2] - 3060*C*L*L*U[0]*U[2]*U[3] + 1746*C*L*L*U[1]*U[2]*U[2] - 2916*C*L*L*U[2]*U[2]*U[3] + 5304*C*L*U[0]*U[0]*U[0] + 6708*C*L*U[0]*U[0]*U[2] + 6708*C*L*U[0]*U[2]*U[2] + 5304*C*L*U[2]*U[2]*U[2] + 6006*L*J[0] + 6006*L*J[1] + R*(429*B*L*L*U[1]*U[1] - 572*B*L*L*U[1]*U[3] + 286*B*L*L*U[3]*U[3] + 4576*B*L*U[0]*U[1] - 2574*B*L*U[0]*U[3] + 2288*B*L*U[1]*U[2] - 2574*B*L*U[2]*U[3] + 13871*B*U[0]*U[0] + 10010*B*U[0]*U[2] + 6149*B*U[2]*U[2] + 112*C*L*L*L*U[1]*U[1]*U[1] - 210*C*L*L*L*U[1]*U[1]*U[3] + 180*C*L*L*L*U[1]*U[3]*U[3] - 70*C*L*L*L*U[3]*U[3]*U[3] + 1764*C*L*L*U[0]*U[1]*U[1] - 1932*C*L*L*U[0]*U[1]*U[3] + 750*C*L*L*U[0]*U[3]*U[3] + 810*C*L*L*U[1]*U[1]*U[2] - 1500*C*L*L*U[1]*U[2]*U[3] + 966*C*L*L*U[2]*U[3]*U[3] + 10080*C*L*U[0]*U[0]*U[1] - 4662*C*L*U[0]*U[0]*U[3] + 7296*C*L*U[0]*U[1]*U[2] - 6120*C*L*U[0]*U[2]*U[3] + 3216*C*L*U[1]*U[2]*U[2] - 4662*C*L*U[2]*U[2]*U[3] + 22008*C*U[0]*U[0]*U[0] + 17202*C*U[0]*U[0]*U[2] + 12828*C*U[0]*U[2]*U[2] + 8022*C*U[2]*U[2]*U[2] + 18018*J[0] + 12012*J[1]));\n",
      "    F2 += (1.0/360360.0)*L*(546*B*L*L*L*U[1]*U[1] - 1482*B*L*L*L*U[1]*U[3] + 1547*B*L*L*L*U[3]*U[3] + 4472*B*L*L*U[0]*U[1] - 5538*B*L*L*U[0]*U[3] + 7540*B*L*L*U[1]*U[2] - 20202*B*L*L*U[2]*U[3] + 9477*B*L*U[0]*U[0] + 27378*B*L*U[0]*U[2] + 89271*B*L*U[2]*U[2] + 120*C*std::pow(L,4)*U[1]*U[1]*U[1] - 390*C*std::pow(L,4)*U[1]*U[1]*U[3] + 576*C*std::pow(L,4)*U[1]*U[3]*U[3] - 396*C*std::pow(L,4)*U[3]*U[3]*U[3] + 1530*C*L*L*L*U[0]*U[1]*U[1] - 3060*C*L*L*L*U[0]*U[1]*U[3] + 2118*C*L*L*L*U[0]*U[3]*U[3] + 1746*C*L*L*L*U[1]*U[1]*U[2] - 5832*C*L*L*L*U[1]*U[2]*U[3] + 7164*C*L*L*L*U[2]*U[3]*U[3] + 6708*C*L*L*U[0]*U[0]*U[1] - 6120*C*L*L*U[0]*U[0]*U[3] + 13416*C*L*L*U[0]*U[1]*U[2] - 20988*C*L*L*U[0]*U[2]*U[3] + 15912*C*L*L*U[1]*U[2]*U[2] - 50112*C*L*L*U[2]*U[2]*U[3] + 10206*C*L*U[0]*U[0]*U[0] + 26244*C*L*U[0]*U[0]*U[2] + 55890*C*L*U[0]*U[2]*U[2] + 159912*C*L*U[2]*U[2]*U[2] + 30030*L*J[0] + 96096*L*J[1] + 2*R*(572*B*L*L*U[1]*U[1] - 1287*B*L*L*U[1]*U[3] + 1144*B*L*L*U[3]*U[3] + 5005*B*L*U[0]*U[1] - 5005*B*L*U[0]*U[3] + 6149*B*L*U[1]*U[2] - 13871*B*L*U[2]*U[3] + 11583*B*U[0]*U[0] + 23166*B*U[0]*U[2] + 55341*B*U[2]*U[2] + 135*C*L*L*L*U[1]*U[1]*U[1] - 375*C*L*L*L*U[1]*U[1]*U[3] + 483*C*L*L*L*U[1]*U[3]*U[3] - 294*C*L*L*L*U[3]*U[3]*U[3] + 1824*C*L*L*U[0]*U[1]*U[1] - 3060*C*L*L*U[0]*U[1]*U[3] + 1824*C*L*L*U[0]*U[3]*U[3] + 1608*C*L*L*U[1]*U[1]*U[2] - 4662*C*L*L*U[1]*U[2]*U[3] + 5040*C*L*L*U[2]*U[3]*U[3] + 8601*C*L*U[0]*U[0]*U[1] - 6414*C*L*U[0]*U[0]*U[3] + 12828*C*L*U[0]*U[1]*U[2] - 17202*C*L*U[0]*U[2]*U[3] + 12033*C*L*U[1]*U[2]*U[2] - 33012*C*L*U[2]*U[2]*U[3] + 14418*C*U[0]*U[0]*U[0] + 26244*C*U[0]*U[0]*U[2] + 43254*C*U[0]*U[2]*U[2] + 96264*C*U[2]*U[2]*U[2] + 27027*J[0] + 63063*J[1]));\n",
      "    F3 += (1.0/360360.0)*L*L*(-130*B*L*L*L*U[1]*U[1] + 312*B*L*L*L*U[1]*U[3] - 273*B*L*L*L*U[3]*U[3] - 1092*B*L*L*U[0]*U[1] + 1196*B*L*L*U[0]*U[3] - 1482*B*L*L*U[1]*U[2] + 3094*B*L*L*U[2]*U[3] - 2379*B*L*U[0]*U[0] - 5538*B*L*U[0]*U[2] - 10101*B*L*U[2]*U[2] - 30*C*std::pow(L,4)*U[1]*U[1]*U[1] + 90*C*std::pow(L,4)*U[1]*U[1]*U[3] - 120*C*std::pow(L,4)*U[1]*U[3]*U[3] + 72*C*std::pow(L,4)*U[3]*U[3]*U[3] - 390*C*L*L*L*U[0]*U[1]*U[1] + 720*C*L*L*L*U[0]*U[1]*U[3] - 450*C*L*L*L*U[0]*U[3]*U[3] - 390*C*L*L*L*U[1]*U[1]*U[2] + 1152*C*L*L*L*U[1]*U[2]*U[3] - 1188*C*L*L*L*U[2]*U[3]*U[3] - 1746*C*L*L*U[0]*U[0]*U[1] + 1470*C*L*L*U[0]*U[0]*U[3] - 3060*C*L*L*U[0]*U[1]*U[2] + 4236*C*L*L*U[0]*U[2]*U[3] - 2916*C*L*L*U[1]*U[2]*U[2] + 7164*C*L*L*U[2]*U[2]*U[3] - 2718*C*L*U[0]*U[0]*U[0] - 6120*C*L*U[0]*U[0]*U[2] - 10494*C*L*U[0]*U[2]*U[2] - 16704*C*L*U[2]*U[2]*U[2] - 6006*L*J[0] - 12012*L*J[1] + R*(-286*B*L*L*U[1]*U[1] + 572*B*L*L*U[1]*U[3] - 429*B*L*L*U[3]*U[3] - 2574*B*L*U[0]*U[1] + 2288*B*L*U[0]*U[3] - 2574*B*L*U[1]*U[2] + 4576*B*L*U[2]*U[3] - 6149*B*U[0]*U[0] - 10010*B*U[0]*U[2] - 13871*B*U[2]*U[2] - 70*C*L*L*L*U[1]*U[1]*U[1] + 180*C*L*L*L*U[1]*U[1]*U[3] - 210*C*L*L*L*U[1]*U[3]*U[3] + 112*C*L*L*L*U[3]*U[3]*U[3] - 966*C*L*L*U[0]*U[1]*U[1] + 1500*C*L*L*U[0]*U[1]*U[3] - 810*C*L*L*U[0]*U[3]*U[3] - 750*C*L*L*U[1]*U[1]*U[2] + 1932*C*L*L*U[1]*U[2]*U[3] - 1764*C*L*L*U[2]*U[3]*U[3] - 4662*C*L*U[0]*U[0]*U[1] + 3216*C*L*U[0]*U[0]*U[3] - 6120*C*L*U[0]*U[1]*U[2] + 7296*C*L*U[0]*U[2]*U[3] - 4662*C*L*U[1]*U[2]*U[2] + 10080*C*L*U[2]*U[2]*U[3] - 8022*C*U[0]*U[0]*U[0] - 12828*C*U[0]*U[0]*U[2] - 17202*C*U[0]*U[2]*U[2] - 22008*C*U[2]*U[2]*U[2] - 12012*J[0] - 18018*J[1]));\n",
      "}\n"
     ]
    }
   ],
   "source": [
    "print_cpp(Kr, Fr)"
   ]
  },
  {
   "cell_type": "code",
   "execution_count": null,
   "metadata": {},
   "outputs": [],
   "source": []
  }
 ],
 "metadata": {
  "kernelspec": {
   "display_name": "SLURM Python 3.8 8G 12:00:00 (via dragon)",
   "language": "python",
   "name": "remote_slurm_python38_8g_t120000_via_dragon"
  },
  "language_info": {
   "codemirror_mode": {
    "name": "ipython",
    "version": 3
   },
   "file_extension": ".py",
   "mimetype": "text/x-python",
   "name": "python",
   "nbconvert_exporter": "python",
   "pygments_lexer": "ipython3",
   "version": "3.8.10"
  }
 },
 "nbformat": 4,
 "nbformat_minor": 4
}
