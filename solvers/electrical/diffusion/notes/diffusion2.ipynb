{
 "cells": [
  {
   "attachments": {},
   "cell_type": "markdown",
   "metadata": {},
   "source": [
    "## Wielomiany interpolujące"
   ]
  },
  {
   "cell_type": "code",
   "execution_count": 1,
   "metadata": {},
   "outputs": [],
   "source": [
    "import sys\n",
    "import re\n",
    "\n",
    "import numpy as np\n",
    "import matplotlib.pyplot as plt\n",
    "\n",
    "import sympy as sym\n",
    "from sympy import latex\n",
    "from sympy.printing import cxxcode\n",
    "\n",
    "from IPython.display import display, Latex"
   ]
  },
  {
   "attachments": {},
   "cell_type": "markdown",
   "metadata": {},
   "source": [
    "# Równanie dyfuzji nośników\n",
    "\n",
    "Równanie do rozwiązania ma postać:\n",
    "$$\n",
    "D \\Delta u - A u - B u^2 - C u^3 + J = 0,\n",
    "$$\n",
    "gdzie\n",
    "$$\n",
    "J = \\frac{j_\\perp}{q_e\\,d},\n",
    "$$\n",
    "w którym $j_\\perp$ to wstrzykiwana gęstość prądu a $d$ to grubość złącza. Po reorganizacji\n",
    "$$\n",
    "- D \\Delta u + A u + B u^2 + C u^3 = J,\n",
    "$$\n",
    "i zamianie na równanie linowe (korzystając z rozwinięcia w szereg Taylora) mamy:\n",
    "$$\n",
    "- D \\Delta u + E u = F,\n",
    "$$\n",
    "gdzie\n",
    "\\begin{align}\n",
    "E & = A + 2 B u_0 + 3 C u_0^2 \\\\\n",
    "F & = B u_0^2 + 2 C u_0^3 + J\n",
    "\\end{align}"
   ]
  },
  {
   "cell_type": "code",
   "execution_count": 2,
   "metadata": {},
   "outputs": [],
   "source": [
    "A, B, C, D, = sym.symbols('A B C D')"
   ]
  },
  {
   "attachments": {},
   "cell_type": "markdown",
   "metadata": {},
   "source": [
    "Zastosujmy metodę Ritza w we współrzędnych kartezjańskich"
   ]
  },
  {
   "cell_type": "code",
   "execution_count": 3,
   "metadata": {},
   "outputs": [],
   "source": [
    "x, y = sym.symbols('x y')\n",
    "X, Y = sym.symbols('X Y')\n"
   ]
  },
  {
   "attachments": {},
   "cell_type": "markdown",
   "metadata": {},
   "source": [
    "## Funkcja przybliżana"
   ]
  },
  {
   "attachments": {},
   "cell_type": "markdown",
   "metadata": {},
   "source": [
    "Zakładamy, że\n",
    "$$\n",
    "u(x,y) = \\sum_{i,j} u^{i,j} \\, \\varphi_{i,j}(x,y) \\qquad u_0(x,y) = \\sum_{i,j} U^{i,j} \\,\\varphi_{i,j}(x,y)\n",
    "$$\n",
    "gdzie\n",
    "\\begin{align}\n",
    "u^{0,0}, u^{1,0}, u^{0,1} & = u(0,0), \\left.\\tfrac{du}{dx}\\right|_{0,0}, \\left.\\tfrac{du}{dy}\\right|_{0,0} \\\\\n",
    "u^{2,0}, u^{3,0}, u^{2,1} & = u(X,0), \\left.\\tfrac{du}{dx}\\right|_{X,0}, \\left.\\tfrac{du}{dy}\\right|_{X,0} \\\\\n",
    "u^{0,2}, u^{1,2}, u^{0,3} & = u(0,Y), \\left.\\tfrac{du}{dx}\\right|_{0,Y}, \\left.\\tfrac{du}{dy}\\right|_{0,Y} \\\\\n",
    "u^{2,2}, u^{3,2}, u^{2,3} & = u(X,Y), \\left.\\tfrac{du}{dx}\\right|_{X,Y}, \\left.\\tfrac{du}{dy}\\right|_{X,Y} \\\\\n",
    "\\end{align}\n",
    "\n",
    "\n",
    "Interpolacja musi być zrobiona tak, była sumetryczna względem zamiany $x$ i $y$. W związku z tym musi ona mieć postać\n",
    "\\begin{alignat}{9}\n",
    "u(x,y) & = \\varphi_0(x)\\,\\varphi_0(y)\\,u^{0,0} && + \\varphi_1(x)\\,\\varphi_0(y)\\,u^{1,0} && + \\varphi_2(x)\\,\\varphi_0(y)\\,u^{2,0} && + \\varphi_3(x)\\,\\varphi_0(y)\\,u^{3,0} \\\\\n",
    "       & + \\varphi_0(x)\\,\\varphi_1(y)\\,u^{0,1} &&                                       && + \\varphi_2(x)\\,\\varphi_1(y)\\,u^{2,1} && \\\\\n",
    "       & + \\varphi_0(x)\\,\\varphi_2(y)\\,u^{0,2} && + \\varphi_1(x)\\,\\varphi_2(y)\\,u^{1,2} && + \\varphi_2(x)\\,\\varphi_2(y)\\,u^{2,2} && + \\varphi_3(x)\\,\\varphi_2(y)\\,u^{3,2} \\\\\n",
    "       & + \\varphi_0(x)\\,\\varphi_3(y)\\,u^{0,3} &&                                       && + \\varphi_2(x)\\,\\varphi_3(y)\\,u^{2,3}. &&\n",
    "\\end{alignat}"
   ]
  },
  {
   "cell_type": "code",
   "execution_count": 4,
   "metadata": {},
   "outputs": [],
   "source": [
    "try:\n",
    "    from sympy.printing.cxx import CXX11CodePrinter\n",
    "except ImportError:\n",
    "    from sympy.printing.cxxcode import CXX11CodePrinter\n",
    "\n",
    "\n",
    "def _print_Indexed(self, expr):\n",
    "    indices = expr.indices\n",
    "    if len(indices) == 1:\n",
    "        # return f\"{self._print(expr.base.label)}[idx(e,{self._print(indices[0])})]\"\n",
    "        return f\"{self._print(expr.base.label)}{self._print(indices[0])}\"\n",
    "    else:\n",
    "        # return f\"{self._print(expr.base.label)}[idx(e,{','.join(self._print(i) for i in indices)})]\"\n",
    "        return f\"{self._print(expr.base.label)}{''.join(self._print(i) for i in indices)}\"\n",
    "CXX11CodePrinter._print_Indexed = _print_Indexed\n",
    "\n",
    "\n",
    "def cpp(v):\n",
    "    s = cxxcode(sym.simplify(v), standard='C++11')\n",
    "    #for i in range(1, 5):\n",
    "    #    s = s.replace(f\"a[{i}]\", f\"a{i}\")\n",
    "    s = re.sub(r'std::pow\\(([^)]+), (\\d+)\\)', r'std::pow(\\1,\\2)', s)\n",
    "    s = re.sub(r'std::pow\\(([^)]+),2\\)', r'(\\1*\\1)', s)\n",
    "    s = re.sub(r'std::pow\\(([^)]+),3\\)', r'(\\1*\\1*\\1)', s)\n",
    "    s = re.sub(r'\\b(X|Y)\\b', r'e.\\1', s)\n",
    "    s = re.sub(r'\\bU(\\d\\d)\\b', r'U[e.i\\1]', s)\n",
    "    s = re.sub(r'\\bJ(\\d\\d)\\b', r'J[e.n\\1]', s)\n",
    "    s = re.sub(r'\\bP(\\d\\d)(\\d)\\b', r'P[e.n\\1].c\\2\\2', s)\n",
    "    s = re.sub(r'(d?G)(\\d)\\b', r'\\1.c\\2\\2', s)\n",
    "    return s\n",
    "\n",
    "\n",
    "sidx = lambda i: \"e.i{}{}\".format(*idx[i])\n",
    "\n",
    "def _print_cpp(kij, kvals, fvals, file=sys.stdout):\n",
    "    for (i,j), kval in zip(kij, kvals):\n",
    "        print(f\"K({sidx(i)}, {sidx(j)}) += {kval};\", file=file)\n",
    "    for i, fval in enumerate(fvals):\n",
    "        print(f\"F[{sidx(i)}] += {fval};\", file=file)\n",
    "\n",
    "\n",
    "def print_cpp(KK, FF, fname=None):\n",
    "    kij = [(i,j) for j in range(12) for i in range(j+1)]\n",
    "    kvals = [' + '.join(cpp(K[i,j]) for K in KK) for i,j in kij]\n",
    "    fvals = [' + '.join(cpp(F[i]) for F in FF) for i in range(12)]\n",
    "    if fname is None:\n",
    "        _print_cpp(kij, kvals, fvals)\n",
    "    else:\n",
    "        with open(fname, 'w') as file:\n",
    "            _print_cpp(kij, kvals, fvals, file=file)\n"
   ]
  },
  {
   "cell_type": "code",
   "execution_count": 5,
   "metadata": {},
   "outputs": [],
   "source": [
    "ξ = x / X\n",
    "ζ = y / Y\n",
    "\n",
    "Φ = np.linalg.inv(np.array([[1, 0, 0, 0], [0, 1, 0, 0], [1, 1, 1, 1], [0, 1, 2, 3]])).T\n",
    "\n",
    "φx = [sum(int(c) * ξ**i for i, c in enumerate(p)) for p in Φ]\n",
    "φx[1] *= X\n",
    "φx[3] *= X\n",
    "φx = np.array([sym.expand(a) for a in φx])\n",
    "\n",
    "φy = [sum(int(c) * ζ**i for i, c in enumerate(p)) for p in Φ]\n",
    "φy[1] *= Y\n",
    "φy[3] *= Y\n",
    "φy = np.array([sym.expand(a) for a in φy])\n",
    "\n",
    "idx = [(0,0), (0,1), (1,0), (0,2), (0,3), (1,2), (2,0), (2,1), (3,0), (2,2), (2,3), (3,2)]\n",
    "φ = np.array([φx[idx[i][0]] * φy[idx[i][1]] for i in range(12)])\n",
    "\n",
    "dφx = np.array([sym.expand(sym.diff(a, x)) for a in φ])\n",
    "dφy = np.array([sym.expand(sym.diff(a, y)) for a in φ])\n"
   ]
  },
  {
   "cell_type": "code",
   "execution_count": 6,
   "metadata": {},
   "outputs": [
    {
     "name": "stdout",
     "output_type": "stream",
     "text": [
      "    return (e.X*x*(-x*(y*y)*(e.X - x)*(3*e.Y - 2*y)*active.U[e.i32] - x*(e.X - x)*((e.Y*e.Y*e.Y) - 3*e.Y*(y*y) + 2*(y*y*y))*active.U[e.i30] + (y*y)*(3*e.Y - 2*y)*((e.X*e.X) - 2*e.X*x + (x*x))*active.U[e.i12] + ((e.X*e.X) - 2*e.X*x + (x*x))*((e.Y*e.Y*e.Y) - 3*e.Y*(y*y) + 2*(y*y*y))*active.U[e.i10]) + e.Y*y*(-(x*x)*y*(3*e.X - 2*x)*(e.Y - y)*active.U[e.i23] + (x*x)*(3*e.X - 2*x)*((e.Y*e.Y) - 2*e.Y*y + (y*y))*active.U[e.i21] - y*(e.Y - y)*((e.X*e.X*e.X) - 3*e.X*(x*x) + 2*(x*x*x))*active.U[e.i03] + ((e.X*e.X*e.X) - 3*e.X*(x*x) + 2*(x*x*x))*((e.Y*e.Y) - 2*e.Y*y + (y*y))*active.U[e.i01]) + (x*x)*(y*y)*(3*e.X - 2*x)*(3*e.Y - 2*y)*active.U[e.i22] + (x*x)*(3*e.X - 2*x)*((e.Y*e.Y*e.Y) - 3*e.Y*(y*y) + 2*(y*y*y))*active.U[e.i20] + (y*y)*(3*e.Y - 2*y)*((e.X*e.X*e.X) - 3*e.X*(x*x) + 2*(x*x*x))*active.U[e.i02] + ((e.X*e.X*e.X) - 3*e.X*(x*x) + 2*(x*x*x))*((e.Y*e.Y*e.Y) - 3*e.Y*(y*y) + 2*(y*y*y))*active.U[e.i00])/((e.X*e.X*e.X)*(e.Y*e.Y*e.Y));\n"
     ]
    }
   ],
   "source": [
    "U = sym.IndexedBase('U', shape=(4,4))\n",
    "u0 = sum(U[idx[k]] * φ[k] for k in range(12))\n",
    "\n",
    "print(\"    return \", cpp(u0).replace('U', 'active.U'), ';', sep='')"
   ]
  },
  {
   "attachments": {},
   "cell_type": "markdown",
   "metadata": {},
   "source": [
    "Teraz zakładmy, że w tych punktach mamy wartości funkcji $J$. Budujemy wielomiany interpolacyjne."
   ]
  },
  {
   "cell_type": "code",
   "execution_count": 7,
   "metadata": {},
   "outputs": [],
   "source": [
    "J = sym.IndexedBase('J', shape=(2,2))\n"
   ]
  },
  {
   "attachments": {},
   "cell_type": "markdown",
   "metadata": {},
   "source": [
    "# Macierze sztywności i wektor obciążeń"
   ]
  },
  {
   "attachments": {},
   "cell_type": "markdown",
   "metadata": {},
   "source": [
    "Macierz sztywności budujemy z równania\n",
    "$$\n",
    "\\left( - D \\Delta + A + 2 B u_0 + 3 C u_0^2 \\right) u = B u_0^2 + 2 C u_0^3 + J_0.\n",
    "$$\n",
    "Pamiętając, że\n",
    "$$\n",
    "u(x,y) = \\sum_{i_x,i_y} u^{i_x,i_y} \\, \\varphi_{i_x,i_y}(x,y)\n",
    "$$\n",
    "i stosując metodę Ritza mamy\n",
    "$$\n",
    "\\sum_{j_x,j_y} \\int_S \\left[ D \\left( \\frac{d\\varphi_{i_x,i_y}}{dx} \\frac{d\\varphi_{j_x,j_y}}{dx} + \\frac{d\\varphi_{i_x,i_y}}{dy} \\frac{d\\varphi_{j_x,j_y}}{dy} \\right) + \\left( A + 2 B u_0 + 3 C u_0^2 \\right) \\varphi_{i_x,i_y} \\varphi_{j_x,j_y} \\right] u^j = \\int_S \\left( B u_0^2 + 2 C u_0^3 + J_0 \\right) \\varphi_{i_x,i_y}.\n",
    "$$\n",
    "\n",
    "Do tego, stosujemy\n",
    "$$\n",
    "u_0(x,y) = \\sum_{i_x,i_y} U^{i_x,i_y} \\,\\varphi_{i_x,i_y}(x,y).\n",
    "$$\n"
   ]
  },
  {
   "cell_type": "code",
   "execution_count": 8,
   "metadata": {},
   "outputs": [],
   "source": [
    "execfile('matrices2.py')"
   ]
  },
  {
   "cell_type": "code",
   "execution_count": 10,
   "metadata": {},
   "outputs": [],
   "source": [
    "print_cpp([KD, KA, KB, KC], [FB, FC, F0], \"../diffusion3d-eval.ipp\")"
   ]
  },
  {
   "cell_type": "markdown",
   "metadata": {},
   "source": [
    "# Wypalanie nośników\n",
    "\n",
    "Wypalanie nośników w ogólności opisane jest wzorem\n",
    "$$\n",
    "L_\\mathrm{SHB}(\\mathbf{r}) = \\frac{g(\\mathbf{r}, u(\\mathbf{r}))}{\\hbar \\omega} \\frac{P\\,M(\\mathbf{r})}{1-R} = \\frac{\\lambda}{h\\,c} \\, g(\\mathbf{r},u(\\mathbf{r})) \\, \\frac{P\\,M(\\mathbf{r})}{1-R},\n",
    "$$\n",
    "gdzie $P$ to moc emitowana, $R$ odbijalność zwierciadeł, $M(\\mathbf{r})$ to unormowany bezwymiarowy profil modu, $g(\\mathbf{r},u(\\mathbf{r}))$ wzmocnienie.\n",
    "\n",
    "PLaSK dostarcza bezpośrednio natężenie modu w obszarza czynnym $P(\\mathbf{r})$. Zatem powyższe równanie ma postać\n",
    "$$\n",
    "L_\\mathrm{SHB}(\\mathbf{r}) = \\frac{\\lambda}{h\\,c} \\, g(\\mathbf{r},u(\\mathbf{r})) \\, P(\\mathbf{r}).\n",
    "$$"
   ]
  },
  {
   "cell_type": "markdown",
   "metadata": {},
   "source": [
    "Zakładamy, że na pojedynczym elemencie natężenie zmienia się liniowo. Z kolei wzmocnienie jest liniową funkcją koncentracji i na całym elemencie ma postać\n",
    "$$\n",
    "g(\\mathbf{r},u(\\mathbf{r})) \\approx g(u_0) + g_u \\left(u(\\mathbf{r}) - u_0 \\right) = g(u_0) - g_u\\,u_0 + g_u\\,u(\\mathbf{r}).\n",
    "$$\n",
    "Daje to\n",
    "$$\n",
    "L_\\mathrm{SHB}(\\mathbf{r}) = \\frac{\\lambda}{h\\,c} \\, P(\\mathbf{r}) \\, g_u\\,u(\\mathbf{r}) - \\frac{\\lambda}{h\\,c} \\, P(\\mathbf{r}) \\, \\left[ g_u\\,u_0 - g(u_0) \\right].\n",
    "$$"
   ]
  },
  {
   "cell_type": "code",
   "execution_count": 11,
   "metadata": {},
   "outputs": [],
   "source": [
    "P = sym.IndexedBase('P', shape=(2,2,2))\n",
    "G = sym.IndexedBase('G', shape=(2,))\n",
    "dG = sym.IndexedBase('dG', shape=(2,))\n",
    "Ug = sym.symbols('Ug')\n"
   ]
  },
  {
   "cell_type": "code",
   "execution_count": 12,
   "metadata": {},
   "outputs": [],
   "source": [
    "execfile('matrices2-shb.py')"
   ]
  },
  {
   "cell_type": "code",
   "execution_count": 13,
   "metadata": {},
   "outputs": [],
   "source": [
    "print_cpp([KL], [FL], \"../diffusion3d-eval-shb.ipp\")"
   ]
  },
  {
   "cell_type": "code",
   "execution_count": null,
   "metadata": {},
   "outputs": [],
   "source": []
  }
 ],
 "metadata": {
  "kernelspec": {
   "display_name": "Python 3",
   "language": "python",
   "name": "python3"
  },
  "language_info": {
   "codemirror_mode": {
    "name": "ipython",
    "version": 3
   },
   "file_extension": ".py",
   "mimetype": "text/x-python",
   "name": "python",
   "nbconvert_exporter": "python",
   "pygments_lexer": "ipython3",
   "version": "3.11.5"
  }
 },
 "nbformat": 4,
 "nbformat_minor": 4
}
