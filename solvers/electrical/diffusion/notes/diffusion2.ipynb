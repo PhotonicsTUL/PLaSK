{
 "cells": [
  {
   "attachments": {},
   "cell_type": "markdown",
   "metadata": {},
   "source": [
    "## Wielomiany interpolujące"
   ]
  },
  {
   "cell_type": "code",
   "execution_count": 1,
   "metadata": {},
   "outputs": [],
   "source": [
    "import numpy as np\n",
    "import matplotlib.pyplot as plt\n",
    "\n",
    "import sympy as sym\n",
    "from sympy import latex\n",
    "from sympy.printing import cxxcode\n",
    "\n",
    "import re\n",
    "\n",
    "from IPython.display import display, Latex"
   ]
  },
  {
   "attachments": {},
   "cell_type": "markdown",
   "metadata": {},
   "source": [
    "# Równanie dyfuzji nośników\n",
    "\n",
    "Równanie do rozwiązania ma postać:\n",
    "$$\n",
    "D \\Delta u - A u - B u^2 - C u^3 + J = 0,\n",
    "$$\n",
    "gdzie\n",
    "$$\n",
    "J = \\frac{j_\\perp}{q_e\\,d},\n",
    "$$\n",
    "w którym $j_\\perp$ to wstrzykiwana gęstość prądu a $d$ to grubość złącza. Po zamianie na równanie linowe (korzystając z rozwinięcia w szereg Taylora) mamy:\n",
    "$$\n",
    "D \\Delta u - E u + F = 0,\n",
    "$$\n",
    "gdzie\n",
    "\\begin{align}\n",
    "E & = A + 2 B u_0 + 3 C u_0^2, \\\\\n",
    "F & = B u_0^2 + 2 C u_0^3 + J_0.\n",
    "\\end{align}"
   ]
  },
  {
   "cell_type": "code",
   "execution_count": 2,
   "metadata": {},
   "outputs": [],
   "source": [
    "A, B, C, D, = sym.symbols('A B C D')"
   ]
  },
  {
   "attachments": {},
   "cell_type": "markdown",
   "metadata": {},
   "source": [
    "Zastosujmy metodę Ritza w we współrzędnych kartezjańskich"
   ]
  },
  {
   "cell_type": "code",
   "execution_count": 3,
   "metadata": {},
   "outputs": [],
   "source": [
    "x, y = sym.symbols('x y')\n",
    "X, Y = sym.symbols('X Y')\n",
    "\n",
    "ξ = x / X\n",
    "ζ = y / Y"
   ]
  },
  {
   "attachments": {},
   "cell_type": "markdown",
   "metadata": {},
   "source": [
    "Jako funkcje próbne Używamy wielomianów trzeciego rzędu, które pozwalają na zagwarantowanie ciągłości funkcji i pochodnych:"
   ]
  },
  {
   "cell_type": "code",
   "execution_count": 4,
   "metadata": {},
   "outputs": [],
   "source": [
    "Φ = np.linalg.inv(np.array([\n",
    "    [1, 0, 0, 0],\n",
    "    [0, 1, 0, 0],\n",
    "    [1, 1, 1, 1],\n",
    "    [0, 1, 2, 3]\n",
    "])).T\n",
    "\n",
    "φx = [sum(int(c) * ξ**i for i,c in enumerate(p)) for p in Φ]\n",
    "φx[1] *= X\n",
    "φx[3] *= X\n",
    "φx = np.array([sym.expand(a) for a in φx])\n",
    "\n",
    "φy = [sum(int(c) * ζ**i for i,c in enumerate(p)) for p in Φ]\n",
    "φy[1] *= Y\n",
    "φy[3] *= Y\n",
    "φy = np.array([sym.expand(a) for a in φy])"
   ]
  },
  {
   "attachments": {},
   "cell_type": "markdown",
   "metadata": {},
   "source": [
    "## Funkcja przybliżana"
   ]
  },
  {
   "attachments": {},
   "cell_type": "markdown",
   "metadata": {},
   "source": [
    "Zakładamy, że\n",
    "$$\n",
    "u(x,y) = \\sum_{i,j} u^{i,j} \\, \\varphi_{i,j}(x,y) \\qquad u_0(x,y) = \\sum_{i,j} U^{i,j} \\,\\varphi_{i,j}(x,y)\n",
    "$$\n",
    "gdzie\n",
    "\\begin{align}\n",
    "u^{0,0}, u^{1,0}, u^{0,1} & = u(0,0), \\left.\\tfrac{du}{dx}\\right|_{0,0}, \\left.\\tfrac{du}{dy}\\right|_{0,0} \\\\\n",
    "u^{2,0}, u^{3,0}, u^{2,1} & = u(X,0), \\left.\\tfrac{du}{dx}\\right|_{X,0}, \\left.\\tfrac{du}{dy}\\right|_{X,0} \\\\\n",
    "u^{0,2}, u^{1,2}, u^{0,3} & = u(0,Y), \\left.\\tfrac{du}{dx}\\right|_{0,Y}, \\left.\\tfrac{du}{dy}\\right|_{0,Y} \\\\\n",
    "u^{2,2}, u^{3,2}, u^{2,3} & = u(X,Y), \\left.\\tfrac{du}{dx}\\right|_{X,Y}, \\left.\\tfrac{du}{dy}\\right|_{X,Y} \\\\\n",
    "\\end{align}\n",
    "\n",
    "\n",
    "Interpolacja musi być zrobiona tak, była sumetryczna względem zamiany $x$ i $y$. W związku z tym musi ona mieć postać\n",
    "\\begin{alignat}{9}\n",
    "u(x,y) & = \\varphi_0(x)\\,\\varphi_0(y)\\,u^{0,0} && + \\varphi_1(x)\\,\\varphi_0(y)\\,u^{1,0} && + \\varphi_2(x)\\,\\varphi_0(y)\\,u^{2,0} && + \\varphi_3(x)\\,\\varphi_0(y)\\,u^{3,0} \\\\\n",
    "       & + \\varphi_0(x)\\,\\varphi_1(y)\\,u^{0,1} &&                                       && + \\varphi_2(x)\\,\\varphi_1(y)\\,u^{2,1} && \\\\\n",
    "       & + \\varphi_0(x)\\,\\varphi_2(y)\\,u^{0,2} && + \\varphi_1(x)\\,\\varphi_2(y)\\,u^{1,2} && + \\varphi_2(x)\\,\\varphi_2(y)\\,u^{2,2} && + \\varphi_3(x)\\,\\varphi_2(y)\\,u^{3,2} \\\\\n",
    "       & + \\varphi_0(x)\\,\\varphi_3(y)\\,u^{0,3} &&                                       && + \\varphi_2(x)\\,\\varphi_3(y)\\,u^{2,3}. &&\n",
    "\\end{alignat}"
   ]
  },
  {
   "cell_type": "code",
   "execution_count": 5,
   "metadata": {},
   "outputs": [],
   "source": [
    "φ = np.array([\n",
    "    [φx[0] * φy[0], φx[1] * φy[0], φx[2] * φy[0], φx[3] * φy[0]],\n",
    "    [φx[0] * φy[1],             0, φx[2] * φy[1],             0],\n",
    "    [φx[0] * φy[2], φx[1] * φy[2], φx[2] * φy[2], φx[3] * φy[2]],\n",
    "    [φx[0] * φy[3],             0, φx[2] * φy[3],             0]\n",
    "])\n",
    "\n",
    "idx = [(0,0), (0,1), (0,2), (0,3), (1,0), (1,2), (2,0), (2,1), (2,2), (2,3), (3,0), (3,2)]\n",
    "φ = np.array([φ[idx[i]] for i in range(12)])"
   ]
  },
  {
   "cell_type": "code",
   "execution_count": 6,
   "metadata": {},
   "outputs": [],
   "source": [
    "dφx = np.array([sym.expand(sym.diff(a, x)) for a in φ])\n",
    "dφy = np.array([sym.expand(sym.diff(a, x)) for a in φ])"
   ]
  },
  {
   "cell_type": "code",
   "execution_count": 7,
   "metadata": {},
   "outputs": [
    {
     "data": {
      "text/latex": [
       "$\\displaystyle \\left(\\frac{3 x^{2}}{X^{2}} - \\frac{2 x^{3}}{X^{3}}\\right) \\left(\\frac{3 y^{2}}{Y^{2}} - \\frac{2 y^{3}}{Y^{3}}\\right) {U}_{2,2} + \\left(\\frac{3 x^{2}}{X^{2}} - \\frac{2 x^{3}}{X^{3}}\\right) \\left(- \\frac{y^{2}}{Y} + \\frac{y^{3}}{Y^{2}}\\right) {U}_{3,2} + \\left(\\frac{3 x^{2}}{X^{2}} - \\frac{2 x^{3}}{X^{3}}\\right) \\left(1 - \\frac{3 y^{2}}{Y^{2}} + \\frac{2 y^{3}}{Y^{3}}\\right) {U}_{0,2} + \\left(\\frac{3 x^{2}}{X^{2}} - \\frac{2 x^{3}}{X^{3}}\\right) \\left(y - \\frac{2 y^{2}}{Y} + \\frac{y^{3}}{Y^{2}}\\right) {U}_{1,2} + \\left(- \\frac{x^{2}}{X} + \\frac{x^{3}}{X^{2}}\\right) \\left(\\frac{3 y^{2}}{Y^{2}} - \\frac{2 y^{3}}{Y^{3}}\\right) {U}_{2,3} + \\left(- \\frac{x^{2}}{X} + \\frac{x^{3}}{X^{2}}\\right) \\left(1 - \\frac{3 y^{2}}{Y^{2}} + \\frac{2 y^{3}}{Y^{3}}\\right) {U}_{0,3} + \\left(\\frac{3 y^{2}}{Y^{2}} - \\frac{2 y^{3}}{Y^{3}}\\right) \\left(1 - \\frac{3 x^{2}}{X^{2}} + \\frac{2 x^{3}}{X^{3}}\\right) {U}_{2,0} + \\left(\\frac{3 y^{2}}{Y^{2}} - \\frac{2 y^{3}}{Y^{3}}\\right) \\left(x - \\frac{2 x^{2}}{X} + \\frac{x^{3}}{X^{2}}\\right) {U}_{2,1} + \\left(- \\frac{y^{2}}{Y} + \\frac{y^{3}}{Y^{2}}\\right) \\left(1 - \\frac{3 x^{2}}{X^{2}} + \\frac{2 x^{3}}{X^{3}}\\right) {U}_{3,0} + \\left(1 - \\frac{3 x^{2}}{X^{2}} + \\frac{2 x^{3}}{X^{3}}\\right) \\left(1 - \\frac{3 y^{2}}{Y^{2}} + \\frac{2 y^{3}}{Y^{3}}\\right) {U}_{0,0} + \\left(1 - \\frac{3 x^{2}}{X^{2}} + \\frac{2 x^{3}}{X^{3}}\\right) \\left(y - \\frac{2 y^{2}}{Y} + \\frac{y^{3}}{Y^{2}}\\right) {U}_{1,0} + \\left(1 - \\frac{3 y^{2}}{Y^{2}} + \\frac{2 y^{3}}{Y^{3}}\\right) \\left(x - \\frac{2 x^{2}}{X} + \\frac{x^{3}}{X^{2}}\\right) {U}_{0,1}$"
      ],
      "text/plain": [
       "(3*x**2/X**2 - 2*x**3/X**3)*(3*y**2/Y**2 - 2*y**3/Y**3)*U[2, 2] + (3*x**2/X**2 - 2*x**3/X**3)*(-y**2/Y + y**3/Y**2)*U[3, 2] + (3*x**2/X**2 - 2*x**3/X**3)*(1 - 3*y**2/Y**2 + 2*y**3/Y**3)*U[0, 2] + (3*x**2/X**2 - 2*x**3/X**3)*(y - 2*y**2/Y + y**3/Y**2)*U[1, 2] + (-x**2/X + x**3/X**2)*(3*y**2/Y**2 - 2*y**3/Y**3)*U[2, 3] + (-x**2/X + x**3/X**2)*(1 - 3*y**2/Y**2 + 2*y**3/Y**3)*U[0, 3] + (3*y**2/Y**2 - 2*y**3/Y**3)*(1 - 3*x**2/X**2 + 2*x**3/X**3)*U[2, 0] + (3*y**2/Y**2 - 2*y**3/Y**3)*(x - 2*x**2/X + x**3/X**2)*U[2, 1] + (-y**2/Y + y**3/Y**2)*(1 - 3*x**2/X**2 + 2*x**3/X**3)*U[3, 0] + (1 - 3*x**2/X**2 + 2*x**3/X**3)*(1 - 3*y**2/Y**2 + 2*y**3/Y**3)*U[0, 0] + (1 - 3*x**2/X**2 + 2*x**3/X**3)*(y - 2*y**2/Y + y**3/Y**2)*U[1, 0] + (1 - 3*y**2/Y**2 + 2*y**3/Y**3)*(x - 2*x**2/X + x**3/X**2)*U[0, 1]"
      ]
     },
     "execution_count": 7,
     "metadata": {},
     "output_type": "execute_result"
    }
   ],
   "source": [
    "U = sym.IndexedBase('U', shape=(4,4))\n",
    "u0 = sum(U[idx[k]] * φ[k] for k in range(12))\n",
    "u0"
   ]
  },
  {
   "cell_type": "code",
   "execution_count": 8,
   "metadata": {},
   "outputs": [
    {
     "data": {
      "text/latex": [
       "$\\displaystyle \\frac{X \\left({U}_{0,1} - {U}_{0,3} + {U}_{2,1} - {U}_{2,3}\\right)}{4} + \\frac{Y \\left({U}_{1,0} + {U}_{1,2} - {U}_{3,0} - {U}_{3,2}\\right)}{4} + {U}_{0,0} + {U}_{0,2} + {U}_{2,0} + {U}_{2,2}$"
      ],
      "text/plain": [
       "X*(U[0, 1] - U[0, 3] + U[2, 1] - U[2, 3])/4 + Y*(U[1, 0] + U[1, 2] - U[3, 0] - U[3, 2])/4 + U[0, 0] + U[0, 2] + U[2, 0] + U[2, 2]"
      ]
     },
     "execution_count": 8,
     "metadata": {},
     "output_type": "execute_result"
    }
   ],
   "source": [
    "sym.collect(4 * u0.subs(x, X/2).subs(y, Y/2), (X/4,Y/4))"
   ]
  },
  {
   "cell_type": "code",
   "execution_count": 9,
   "metadata": {},
   "outputs": [],
   "source": [
    "try:\n",
    "    from sympy.printing.cxx import CXX11CodePrinter\n",
    "except ImportError:\n",
    "    from sympy.printing.cxxcode import CXX11CodePrinter\n",
    "\n",
    "\n",
    "def _print_Indexed(self, expr):\n",
    "    indices = expr.indices\n",
    "    if len(indices) == 1:\n",
    "        # return f\"{self._print(expr.base.label)}[idx(e,{self._print(indices[0])})]\"\n",
    "        return f\"{self._print(expr.base.label)}{self._print(indices[0])}\"\n",
    "    else:\n",
    "        # return f\"{self._print(expr.base.label)}[idx(e,{','.join(self._print(i) for i in indices)})]\"\n",
    "        return f\"{self._print(expr.base.label)}{''.join(self._print(i) for i in indices)}\"\n",
    "CXX11CodePrinter._print_Indexed = _print_Indexed"
   ]
  },
  {
   "cell_type": "code",
   "execution_count": 10,
   "metadata": {},
   "outputs": [],
   "source": [
    "def cpp(v):\n",
    "    s = cxxcode(sym.simplify(v), standard='C++11')\n",
    "    #for i in range(1, 5):\n",
    "    #    s = s.replace(f\"a[{i}]\", f\"a{i}\")\n",
    "    s = re.sub(r'std::pow\\(([^)]+), (\\d+)\\)', r'std::pow(\\1,\\2)', s)\n",
    "    s = re.sub(r'std::pow\\(([^)]+),2\\)', r'\\1*\\1', s)\n",
    "    s = re.sub(r'std::pow\\(([^)]+),3\\)', r'\\1*\\1*\\1', s)\n",
    "    s = re.sub(r'\\b(X|Y)\\b', r'e.\\1', s)\n",
    "    s = re.sub(r'\\bU(\\d\\d)\\b', r'U[e.i\\1]', s)\n",
    "    s = re.sub(r'\\bJ(\\d\\d)\\b', r'J[e.n\\1]', s)\n",
    "    s = re.sub(r'\\bP(\\d\\d)(\\d)\\b', r'P[e.n\\1].c\\2\\2', s)\n",
    "    s = re.sub(r'(d?G)(\\d)\\b', r'\\1.c\\2\\2', s)\n",
    "    return s"
   ]
  },
  {
   "cell_type": "code",
   "execution_count": 12,
   "metadata": {},
   "outputs": [
    {
     "name": "stdout",
     "output_type": "stream",
     "text": [
      "(e.X*x*(-x*y*y*(e.X - x)*(3*e.Y - 2*y)*U[e.i23] - x*(e.X - x)*(e.Y*e.Y*e.Y - 3*e.Y*y*y + 2*y*y*y)*U[e.i03] + y*y*(3*e.Y - 2*y)*(e.X*e.X - 2*e.X*x + x*x)*U[e.i21] + (e.X*e.X - 2*e.X*x + x*x)*(e.Y*e.Y*e.Y - 3*e.Y*y*y + 2*y*y*y)*U[e.i01]) + e.Y*y*(-x*x*y*(3*e.X - 2*x)*(e.Y - y)*U[e.i32] + x*x*(3*e.X - 2*x)*(e.Y*e.Y - 2*e.Y*y + y*y)*U[e.i12] - y*(e.Y - y)*(e.X*e.X*e.X - 3*e.X*x*x + 2*x*x*x)*U[e.i30] + (e.X*e.X*e.X - 3*e.X*x*x + 2*x*x*x)*(e.Y*e.Y - 2*e.Y*y + y*y)*U[e.i10]) + x*x*y*y*(3*e.X - 2*x)*(3*e.Y - 2*y)*U[e.i22] + x*x*(3*e.X - 2*x)*(e.Y*e.Y*e.Y - 3*e.Y*y*y + 2*y*y*y)*U[e.i02] + y*y*(3*e.Y - 2*y)*(e.X*e.X*e.X - 3*e.X*x*x + 2*x*x*x)*U[e.i20] + (e.X*e.X*e.X - 3*e.X*x*x + 2*x*x*x)*(e.Y*e.Y*e.Y - 3*e.Y*y*y + 2*y*y*y)*U[e.i00])/(e.X*e.X*e.X*e.Y*e.Y*e.Y)\n"
     ]
    }
   ],
   "source": [
    "print(cpp(u0))"
   ]
  },
  {
   "attachments": {},
   "cell_type": "markdown",
   "metadata": {},
   "source": [
    "## Interpolacja prądu"
   ]
  },
  {
   "attachments": {},
   "cell_type": "markdown",
   "metadata": {},
   "source": [
    "Aby dobrze odzdwierciedlić rozpływ prądu, zakładamy, że na elemencie zmienia się on co najwyżej liniowo"
   ]
  },
  {
   "cell_type": "code",
   "execution_count": null,
   "metadata": {},
   "outputs": [],
   "source": [
    "# z = np.array([L / 4, L * 3 / 4])\n",
    "zx = np.array([0, X])\n",
    "zy = np.array([0, Y])"
   ]
  },
  {
   "attachments": {},
   "cell_type": "markdown",
   "metadata": {},
   "source": [
    "Teraz zakładmy, że w tych punktach mamy wartości funkcji $J$. Budujemy wielomiany interpolacyjne."
   ]
  },
  {
   "cell_type": "code",
   "execution_count": null,
   "metadata": {},
   "outputs": [],
   "source": [
    "J = sym.IndexedBase('J', shape=(2,2))\n",
    "\n",
    "def La(i, x, z):\n",
    "    res = 1\n",
    "    for j in range(len(z)):\n",
    "        if j == i: continue\n",
    "        res *= (x - z[j]) / (z[i] - z[j])\n",
    "    return res"
   ]
  },
  {
   "cell_type": "code",
   "execution_count": null,
   "metadata": {},
   "outputs": [],
   "source": [
    "Jxy = sym.simplify(sum(J[i,j] * La(i, x, zx) * La(j, y, zy) for i in range(len(zx)) for j in range(len(zy))))\n",
    "Jxy"
   ]
  },
  {
   "attachments": {},
   "cell_type": "markdown",
   "metadata": {},
   "source": [
    "# Macierze sztywności i wektor obciążeń"
   ]
  },
  {
   "attachments": {},
   "cell_type": "markdown",
   "metadata": {},
   "source": [
    "Macierz sztywności budujemy z równania\n",
    "$$\n",
    "\\left( - D \\Delta + A + 2 B u_0 + 3 C u_0^2 \\right) u = B u_0^2 + 2 C u_0^3 + J_0.\n",
    "$$\n",
    "Pamiętając, że\n",
    "$$\n",
    "u(x,y) = \\sum_{i_x,i_y} u^{i_x,i_y} \\, \\varphi_{i_x,i_y}(x,y)\n",
    "$$\n",
    "i stosując metodę Ritza mamy\n",
    "$$\n",
    "\\sum_{j_x,j_y} \\int_0^L \\left[ D \\left( \\frac{d\\varphi_{i_x,i_y}}{dx} \\frac{d\\varphi_{j_x,j_y}}{dx} + \\frac{d\\varphi_{i_x,i_y}}{dy} \\frac{d\\varphi_{j_x,j_y}}{dy} \\right) + \\left( A + 2 B u_0 + 3 C u_0^2 \\right) \\varphi_{i_x,i_y} \\varphi_{j_x,j_y} \\right] u^j = \\left( B u_0^2 + 2 C u_0^3 + J_0 \\right) \\varphi_{i_x,i_y}.\n",
    "$$\n",
    "\n",
    "Do tego, stosujemy\n",
    "$$\n",
    "u_0(x,y) = \\sum_{i_x,i_y} U^{i_x,i_y} \\,\\varphi_{i_x,i_y}(x,y).\n",
    "$$\n"
   ]
  },
  {
   "cell_type": "code",
   "execution_count": null,
   "metadata": {},
   "outputs": [],
   "source": [
    "execfile('matrices2.py')"
   ]
  },
  {
   "cell_type": "code",
   "execution_count": null,
   "metadata": {},
   "outputs": [],
   "source": [
    "K = KD + KA + KB + KC\n",
    "K"
   ]
  },
  {
   "cell_type": "code",
   "execution_count": null,
   "metadata": {},
   "outputs": [],
   "source": [
    "F = FB + FC + F0\n",
    "F"
   ]
  },
  {
   "cell_type": "markdown",
   "metadata": {},
   "source": [
    "# Wypalanie nośników\n",
    "\n",
    "Wypalanie nośników w ogólności opisane jest wzorem\n",
    "$$\n",
    "L_\\mathrm{SHB}(\\mathbf{r}) = \\frac{g(\\mathbf{r}, u(\\mathbf{r}))}{\\hbar \\omega} \\frac{P\\,M(\\mathbf{r})}{1-R} = \\frac{\\lambda}{h\\,c} \\, g(\\mathbf{r},u(\\mathbf{r})) \\, \\frac{P\\,M(\\mathbf{r})}{1-R},\n",
    "$$\n",
    "gdzie $P$ to moc emitowana, $R$ odbijalność zwierciadeł, $M(\\mathbf{r})$ to unormowany bezwymiarowy profil modu, $g(\\mathbf{r},u(\\mathbf{r}))$ wzmocnienie.\n",
    "\n",
    "PLaSK dostarcza bezpośrednio natężenie modu w obszarza czynnym $P(\\mathbf{r})$. Zatem powyższe równanie ma postać\n",
    "$$\n",
    "L_\\mathrm{SHB}(\\mathbf{r}) = \\frac{\\lambda}{h\\,c} \\, g(\\mathbf{r},u(\\mathbf{r})) \\, P(\\mathbf{r}).\n",
    "$$"
   ]
  },
  {
   "cell_type": "markdown",
   "metadata": {},
   "source": [
    "Zakładamy, że na pojedynczym elemencie natężenie zmienia się liniowo. Z kolei wzmocnienie jest liniową funkcją koncentracji i na całym elemencie ma postać\n",
    "$$\n",
    "g(\\mathbf{r},u(\\mathbf{r})) \\approx g(u_0) + g_u \\left(u(\\mathbf{r}) - u_0 \\right) = g(u_0) - g_u\\,u_0 + g_u\\,u(\\mathbf{r}).\n",
    "$$\n",
    "Daje to\n",
    "$$\n",
    "L_\\mathrm{SHB}(\\mathbf{r}) = \\frac{\\lambda}{h\\,c} \\, P(\\mathbf{r}) \\, g_u\\,u(\\mathbf{r}) - \\frac{\\lambda}{h\\,c} \\, P(\\mathbf{r}) \\, \\left[ g_u\\,u_0 - g(u_0) \\right].\n",
    "$$"
   ]
  },
  {
   "cell_type": "code",
   "execution_count": null,
   "metadata": {},
   "outputs": [],
   "source": [
    "P = sym.IndexedBase('P', shape=(2,2,2))\n",
    "G = sym.IndexedBase('G', shape=(2,))\n",
    "dG = sym.IndexedBase('dG', shape=(2,))\n",
    "uG = sym.symbols('uG')\n"
   ]
  },
  {
   "cell_type": "code",
   "execution_count": null,
   "metadata": {},
   "outputs": [],
   "source": [
    "Pxy = [sym.simplify(sum(P[i, j, k] * La(i, x, zx) * La(j, y, zy) for i in range(len(zx)) for j in range(len(zy)))) for k in range(2)]"
   ]
  },
  {
   "cell_type": "code",
   "execution_count": null,
   "metadata": {},
   "outputs": [],
   "source": [
    "execfile('matrices2-shb.py')"
   ]
  },
  {
   "cell_type": "code",
   "execution_count": null,
   "metadata": {},
   "outputs": [],
   "source": [
    "KL"
   ]
  },
  {
   "cell_type": "code",
   "execution_count": null,
   "metadata": {},
   "outputs": [],
   "source": [
    "FL"
   ]
  },
  {
   "cell_type": "code",
   "execution_count": null,
   "metadata": {},
   "outputs": [],
   "source": []
  }
 ],
 "metadata": {
  "kernelspec": {
   "display_name": "Python 3",
   "language": "python",
   "name": "python3"
  },
  "language_info": {
   "codemirror_mode": {
    "name": "ipython",
    "version": 3
   },
   "file_extension": ".py",
   "mimetype": "text/x-python",
   "name": "python",
   "nbconvert_exporter": "python",
   "pygments_lexer": "ipython3",
   "version": "3.11.3"
  }
 },
 "nbformat": 4,
 "nbformat_minor": 4
}
