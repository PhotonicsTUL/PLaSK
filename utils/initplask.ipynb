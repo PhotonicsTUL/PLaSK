{
 "metadata": {
  "name": "initplask"
 },
 "nbformat": 3,
 "nbformat_minor": 0,
 "worksheets": [
  {
   "cells": [
    {
     "cell_type": "code",
     "collapsed": false,
     "input": [
      "from __future__ import division\n",
      "import plask\n",
      "plask.config.log.output = \"stdout\"\n",
      "plask.config.log.coloring = \"ansi\"\n",
      "plask.__globals = globals()\n",
      "from plask import *\n",
      "switch_backend(\"module://IPython.zmq.pylab.backend_inline\")\n",
      "rc.savefig.dpi = 150"
     ],
     "language": "python",
     "metadata": {},
     "outputs": [],
     "prompt_number": 1
    }
   ],
   "metadata": {}
  }
 ]
}